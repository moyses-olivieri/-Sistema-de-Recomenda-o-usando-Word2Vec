{
  "nbformat": 4,
  "nbformat_minor": 0,
  "metadata": {
    "colab": {
      "provenance": []
    },
    "kernelspec": {
      "name": "python3",
      "display_name": "Python 3"
    }
  },
  "cells": [
    {
      "cell_type": "markdown",
      "metadata": {
        "id": "xJReOFtyGFSs"
      },
      "source": [
        "# E07 Sistema de Recomendação usando Word2Vec\n",
        "\n",
        "Neste exercício você irá desenvolver um sistema de recomendação usando _embeddings_ criados com Word2Vec. A partir de uma base de dados de _e-commerce_ onde estão registradas as compras de um site de vendas pela internet, vamos avaliar quais mercadorias foram compradas juntamente a quais outras mercadorias. O pressuposto aqui é que quando o cliente realiza uma compra online, ele possui um interesse temático em mente e acaba comprando itens que se correlacionam de alguma forma. Ainda que em alguns casos possam ser incluídos itens menos relacionados, em sua vasta maioria assumimos que as compras seguem algum tipo de correlação entre si. Por exemplo, um cliente pode estar fazendo compras para organizar uma festa infantil ou uma viagem, e de acordo com esse interesse, acaba comprando itens relacionados a essas atividades.\n",
        "\n",
        "Sendo assim, neste exercício, nosso interesse estará em tentar criar um embedding usando o algoritmo Word2Vec, usando como contexto de vizinhança a sequência de produtos comprados por um mesmo cliente em uma específica nota fiscal. Cada ordem de compra (carrinho de compras) vai conter uma lista de produtos, e os códigos de identificação destes produtos serão nossas \"palavras\", sendo que a sequência de produtos comprados formam as \"frases\" para nosso treinamento.\n",
        "\n",
        "Como neste exercício usaremos a biblioteca _gensim_, você perceberá que a parte mais trabalhosa do exercício estará na preparação dos dados, já que a ferramenta que cria o _embedding_ já estará pronta para uso. Então nesse exercício, você ficara encarregado da preparação dos dados.\n",
        "\n",
        "Para resolver o exercício, siga os passos, lendo as instruções e comentários, um a um, e preenchendo código onde for requisitado."
      ]
    },
    {
      "cell_type": "markdown",
      "metadata": {
        "id": "KEHafkstxrSx"
      },
      "source": [
        "## Passo 1: Baixar Dados\n",
        "\n",
        "Aqui usaremos uma planilha do Microsoft Excel com dados de compras de usuários em um sistema de varejo. O nome do arquivo é `retail.xlsx`."
      ]
    },
    {
      "cell_type": "code",
      "metadata": {
        "id": "y9J6QmO3xJ3t",
        "outputId": "469b929a-e16d-4065-8d49-df06df90771e",
        "colab": {
          "base_uri": "https://localhost:8080/"
        }
      },
      "source": [
        "# O comando abaixo baixa o arquivo correspondente a essa planilha\n",
        "# do Excel para o computador remoto do Google Colab.\n",
        "\n",
        "!gdown https://drive.google.com/uc?id=1NK-2z0l-qTplDJJ2SHpTVBGRP3zWAK-n"
      ],
      "execution_count": 51,
      "outputs": [
        {
          "output_type": "stream",
          "name": "stdout",
          "text": [
            "Downloading...\n",
            "From: https://drive.google.com/uc?id=1NK-2z0l-qTplDJJ2SHpTVBGRP3zWAK-n\n",
            "To: /content/retail.xlsx\n",
            "100% 23.7M/23.7M [00:00<00:00, 84.0MB/s]\n"
          ]
        }
      ]
    },
    {
      "cell_type": "markdown",
      "metadata": {
        "id": "XFZELJRCyLut"
      },
      "source": [
        "Usaremos a biblioteca `pandas` para fazer a leitura dos dados"
      ]
    },
    {
      "cell_type": "code",
      "metadata": {
        "id": "A_HXamB_yLIi"
      },
      "source": [
        "import pandas as pd"
      ],
      "execution_count": 3,
      "outputs": []
    },
    {
      "cell_type": "markdown",
      "metadata": {
        "id": "qQqCAb-3yZRN"
      },
      "source": [
        "Aqui fazemos a leitura dos dados para um objeto `DataFrame` do `pandas`."
      ]
    },
    {
      "cell_type": "code",
      "metadata": {
        "id": "33NLQ2NgyciL"
      },
      "source": [
        "# Esta linha de código pode demorar cerca de 1 min para rodar\n",
        "df = pd.read_excel('retail.xlsx')"
      ],
      "execution_count": 4,
      "outputs": []
    },
    {
      "cell_type": "markdown",
      "metadata": {
        "id": "0FLMkSqUyrWa"
      },
      "source": [
        "Agora podemos observar os dados para entender como estão organizados."
      ]
    },
    {
      "cell_type": "code",
      "metadata": {
        "id": "TE4oGyTqyqdT",
        "outputId": "3a3a527d-21ef-442a-9b0b-ab2ee8e0bcf4",
        "colab": {
          "base_uri": "https://localhost:8080/",
          "height": 424
        }
      },
      "source": [
        "df"
      ],
      "execution_count": 5,
      "outputs": [
        {
          "output_type": "execute_result",
          "data": {
            "text/plain": [
              "       InvoiceNo StockCode                          Description  Quantity  \\\n",
              "0         536365    85123A   WHITE HANGING HEART T-LIGHT HOLDER         6   \n",
              "1         536365     71053                  WHITE METAL LANTERN         6   \n",
              "2         536365    84406B       CREAM CUPID HEARTS COAT HANGER         8   \n",
              "3         536365    84029G  KNITTED UNION FLAG HOT WATER BOTTLE         6   \n",
              "4         536365    84029E       RED WOOLLY HOTTIE WHITE HEART.         6   \n",
              "...          ...       ...                                  ...       ...   \n",
              "541904    581587     22613          PACK OF 20 SPACEBOY NAPKINS        12   \n",
              "541905    581587     22899         CHILDREN'S APRON DOLLY GIRL          6   \n",
              "541906    581587     23254        CHILDRENS CUTLERY DOLLY GIRL          4   \n",
              "541907    581587     23255      CHILDRENS CUTLERY CIRCUS PARADE         4   \n",
              "541908    581587     22138        BAKING SET 9 PIECE RETROSPOT          3   \n",
              "\n",
              "               InvoiceDate  UnitPrice  CustomerID         Country  \n",
              "0      2010-12-01 08:26:00       2.55     17850.0  United Kingdom  \n",
              "1      2010-12-01 08:26:00       3.39     17850.0  United Kingdom  \n",
              "2      2010-12-01 08:26:00       2.75     17850.0  United Kingdom  \n",
              "3      2010-12-01 08:26:00       3.39     17850.0  United Kingdom  \n",
              "4      2010-12-01 08:26:00       3.39     17850.0  United Kingdom  \n",
              "...                    ...        ...         ...             ...  \n",
              "541904 2011-12-09 12:50:00       0.85     12680.0          France  \n",
              "541905 2011-12-09 12:50:00       2.10     12680.0          France  \n",
              "541906 2011-12-09 12:50:00       4.15     12680.0          France  \n",
              "541907 2011-12-09 12:50:00       4.15     12680.0          France  \n",
              "541908 2011-12-09 12:50:00       4.95     12680.0          France  \n",
              "\n",
              "[541909 rows x 8 columns]"
            ],
            "text/html": [
              "\n",
              "  <div id=\"df-df392c36-8937-4865-a3d7-5147381c5329\">\n",
              "    <div class=\"colab-df-container\">\n",
              "      <div>\n",
              "<style scoped>\n",
              "    .dataframe tbody tr th:only-of-type {\n",
              "        vertical-align: middle;\n",
              "    }\n",
              "\n",
              "    .dataframe tbody tr th {\n",
              "        vertical-align: top;\n",
              "    }\n",
              "\n",
              "    .dataframe thead th {\n",
              "        text-align: right;\n",
              "    }\n",
              "</style>\n",
              "<table border=\"1\" class=\"dataframe\">\n",
              "  <thead>\n",
              "    <tr style=\"text-align: right;\">\n",
              "      <th></th>\n",
              "      <th>InvoiceNo</th>\n",
              "      <th>StockCode</th>\n",
              "      <th>Description</th>\n",
              "      <th>Quantity</th>\n",
              "      <th>InvoiceDate</th>\n",
              "      <th>UnitPrice</th>\n",
              "      <th>CustomerID</th>\n",
              "      <th>Country</th>\n",
              "    </tr>\n",
              "  </thead>\n",
              "  <tbody>\n",
              "    <tr>\n",
              "      <th>0</th>\n",
              "      <td>536365</td>\n",
              "      <td>85123A</td>\n",
              "      <td>WHITE HANGING HEART T-LIGHT HOLDER</td>\n",
              "      <td>6</td>\n",
              "      <td>2010-12-01 08:26:00</td>\n",
              "      <td>2.55</td>\n",
              "      <td>17850.0</td>\n",
              "      <td>United Kingdom</td>\n",
              "    </tr>\n",
              "    <tr>\n",
              "      <th>1</th>\n",
              "      <td>536365</td>\n",
              "      <td>71053</td>\n",
              "      <td>WHITE METAL LANTERN</td>\n",
              "      <td>6</td>\n",
              "      <td>2010-12-01 08:26:00</td>\n",
              "      <td>3.39</td>\n",
              "      <td>17850.0</td>\n",
              "      <td>United Kingdom</td>\n",
              "    </tr>\n",
              "    <tr>\n",
              "      <th>2</th>\n",
              "      <td>536365</td>\n",
              "      <td>84406B</td>\n",
              "      <td>CREAM CUPID HEARTS COAT HANGER</td>\n",
              "      <td>8</td>\n",
              "      <td>2010-12-01 08:26:00</td>\n",
              "      <td>2.75</td>\n",
              "      <td>17850.0</td>\n",
              "      <td>United Kingdom</td>\n",
              "    </tr>\n",
              "    <tr>\n",
              "      <th>3</th>\n",
              "      <td>536365</td>\n",
              "      <td>84029G</td>\n",
              "      <td>KNITTED UNION FLAG HOT WATER BOTTLE</td>\n",
              "      <td>6</td>\n",
              "      <td>2010-12-01 08:26:00</td>\n",
              "      <td>3.39</td>\n",
              "      <td>17850.0</td>\n",
              "      <td>United Kingdom</td>\n",
              "    </tr>\n",
              "    <tr>\n",
              "      <th>4</th>\n",
              "      <td>536365</td>\n",
              "      <td>84029E</td>\n",
              "      <td>RED WOOLLY HOTTIE WHITE HEART.</td>\n",
              "      <td>6</td>\n",
              "      <td>2010-12-01 08:26:00</td>\n",
              "      <td>3.39</td>\n",
              "      <td>17850.0</td>\n",
              "      <td>United Kingdom</td>\n",
              "    </tr>\n",
              "    <tr>\n",
              "      <th>...</th>\n",
              "      <td>...</td>\n",
              "      <td>...</td>\n",
              "      <td>...</td>\n",
              "      <td>...</td>\n",
              "      <td>...</td>\n",
              "      <td>...</td>\n",
              "      <td>...</td>\n",
              "      <td>...</td>\n",
              "    </tr>\n",
              "    <tr>\n",
              "      <th>541904</th>\n",
              "      <td>581587</td>\n",
              "      <td>22613</td>\n",
              "      <td>PACK OF 20 SPACEBOY NAPKINS</td>\n",
              "      <td>12</td>\n",
              "      <td>2011-12-09 12:50:00</td>\n",
              "      <td>0.85</td>\n",
              "      <td>12680.0</td>\n",
              "      <td>France</td>\n",
              "    </tr>\n",
              "    <tr>\n",
              "      <th>541905</th>\n",
              "      <td>581587</td>\n",
              "      <td>22899</td>\n",
              "      <td>CHILDREN'S APRON DOLLY GIRL</td>\n",
              "      <td>6</td>\n",
              "      <td>2011-12-09 12:50:00</td>\n",
              "      <td>2.10</td>\n",
              "      <td>12680.0</td>\n",
              "      <td>France</td>\n",
              "    </tr>\n",
              "    <tr>\n",
              "      <th>541906</th>\n",
              "      <td>581587</td>\n",
              "      <td>23254</td>\n",
              "      <td>CHILDRENS CUTLERY DOLLY GIRL</td>\n",
              "      <td>4</td>\n",
              "      <td>2011-12-09 12:50:00</td>\n",
              "      <td>4.15</td>\n",
              "      <td>12680.0</td>\n",
              "      <td>France</td>\n",
              "    </tr>\n",
              "    <tr>\n",
              "      <th>541907</th>\n",
              "      <td>581587</td>\n",
              "      <td>23255</td>\n",
              "      <td>CHILDRENS CUTLERY CIRCUS PARADE</td>\n",
              "      <td>4</td>\n",
              "      <td>2011-12-09 12:50:00</td>\n",
              "      <td>4.15</td>\n",
              "      <td>12680.0</td>\n",
              "      <td>France</td>\n",
              "    </tr>\n",
              "    <tr>\n",
              "      <th>541908</th>\n",
              "      <td>581587</td>\n",
              "      <td>22138</td>\n",
              "      <td>BAKING SET 9 PIECE RETROSPOT</td>\n",
              "      <td>3</td>\n",
              "      <td>2011-12-09 12:50:00</td>\n",
              "      <td>4.95</td>\n",
              "      <td>12680.0</td>\n",
              "      <td>France</td>\n",
              "    </tr>\n",
              "  </tbody>\n",
              "</table>\n",
              "<p>541909 rows × 8 columns</p>\n",
              "</div>\n",
              "      <button class=\"colab-df-convert\" onclick=\"convertToInteractive('df-df392c36-8937-4865-a3d7-5147381c5329')\"\n",
              "              title=\"Convert this dataframe to an interactive table.\"\n",
              "              style=\"display:none;\">\n",
              "        \n",
              "  <svg xmlns=\"http://www.w3.org/2000/svg\" height=\"24px\"viewBox=\"0 0 24 24\"\n",
              "       width=\"24px\">\n",
              "    <path d=\"M0 0h24v24H0V0z\" fill=\"none\"/>\n",
              "    <path d=\"M18.56 5.44l.94 2.06.94-2.06 2.06-.94-2.06-.94-.94-2.06-.94 2.06-2.06.94zm-11 1L8.5 8.5l.94-2.06 2.06-.94-2.06-.94L8.5 2.5l-.94 2.06-2.06.94zm10 10l.94 2.06.94-2.06 2.06-.94-2.06-.94-.94-2.06-.94 2.06-2.06.94z\"/><path d=\"M17.41 7.96l-1.37-1.37c-.4-.4-.92-.59-1.43-.59-.52 0-1.04.2-1.43.59L10.3 9.45l-7.72 7.72c-.78.78-.78 2.05 0 2.83L4 21.41c.39.39.9.59 1.41.59.51 0 1.02-.2 1.41-.59l7.78-7.78 2.81-2.81c.8-.78.8-2.07 0-2.86zM5.41 20L4 18.59l7.72-7.72 1.47 1.35L5.41 20z\"/>\n",
              "  </svg>\n",
              "      </button>\n",
              "      \n",
              "  <style>\n",
              "    .colab-df-container {\n",
              "      display:flex;\n",
              "      flex-wrap:wrap;\n",
              "      gap: 12px;\n",
              "    }\n",
              "\n",
              "    .colab-df-convert {\n",
              "      background-color: #E8F0FE;\n",
              "      border: none;\n",
              "      border-radius: 50%;\n",
              "      cursor: pointer;\n",
              "      display: none;\n",
              "      fill: #1967D2;\n",
              "      height: 32px;\n",
              "      padding: 0 0 0 0;\n",
              "      width: 32px;\n",
              "    }\n",
              "\n",
              "    .colab-df-convert:hover {\n",
              "      background-color: #E2EBFA;\n",
              "      box-shadow: 0px 1px 2px rgba(60, 64, 67, 0.3), 0px 1px 3px 1px rgba(60, 64, 67, 0.15);\n",
              "      fill: #174EA6;\n",
              "    }\n",
              "\n",
              "    [theme=dark] .colab-df-convert {\n",
              "      background-color: #3B4455;\n",
              "      fill: #D2E3FC;\n",
              "    }\n",
              "\n",
              "    [theme=dark] .colab-df-convert:hover {\n",
              "      background-color: #434B5C;\n",
              "      box-shadow: 0px 1px 3px 1px rgba(0, 0, 0, 0.15);\n",
              "      filter: drop-shadow(0px 1px 2px rgba(0, 0, 0, 0.3));\n",
              "      fill: #FFFFFF;\n",
              "    }\n",
              "  </style>\n",
              "\n",
              "      <script>\n",
              "        const buttonEl =\n",
              "          document.querySelector('#df-df392c36-8937-4865-a3d7-5147381c5329 button.colab-df-convert');\n",
              "        buttonEl.style.display =\n",
              "          google.colab.kernel.accessAllowed ? 'block' : 'none';\n",
              "\n",
              "        async function convertToInteractive(key) {\n",
              "          const element = document.querySelector('#df-df392c36-8937-4865-a3d7-5147381c5329');\n",
              "          const dataTable =\n",
              "            await google.colab.kernel.invokeFunction('convertToInteractive',\n",
              "                                                     [key], {});\n",
              "          if (!dataTable) return;\n",
              "\n",
              "          const docLinkHtml = 'Like what you see? Visit the ' +\n",
              "            '<a target=\"_blank\" href=https://colab.research.google.com/notebooks/data_table.ipynb>data table notebook</a>'\n",
              "            + ' to learn more about interactive tables.';\n",
              "          element.innerHTML = '';\n",
              "          dataTable['output_type'] = 'display_data';\n",
              "          await google.colab.output.renderOutput(dataTable, element);\n",
              "          const docLink = document.createElement('div');\n",
              "          docLink.innerHTML = docLinkHtml;\n",
              "          element.appendChild(docLink);\n",
              "        }\n",
              "      </script>\n",
              "    </div>\n",
              "  </div>\n",
              "  "
            ]
          },
          "metadata": {},
          "execution_count": 5
        }
      ]
    },
    {
      "cell_type": "markdown",
      "metadata": {
        "id": "HChM_88szGTN"
      },
      "source": [
        "A tabela acima mostra a estrutura da planilha. Podemos observar os campos:\n",
        "\n",
        "- **InvoiceNo**: Este é um identificador único para cada compra.\n",
        "- **StockCode**: Identificador único para cada produto.\n",
        "- **Description**: Descrição do produto.\n",
        "- **Quantidade**: Quantidade daquele produto, naquela compra.\n",
        "- **InvoiceDate**: Dia e hora da compra.\n",
        "- **CustomerID**: Identificador único do cliente."
      ]
    },
    {
      "cell_type": "code",
      "metadata": {
        "id": "oN-jtPHe0VKz",
        "outputId": "5ed1c31a-2055-4da1-d68b-f5b8653f6adc",
        "colab": {
          "base_uri": "https://localhost:8080/"
        }
      },
      "source": [
        "df.shape"
      ],
      "execution_count": 6,
      "outputs": [
        {
          "output_type": "execute_result",
          "data": {
            "text/plain": [
              "(541909, 8)"
            ]
          },
          "metadata": {},
          "execution_count": 6
        }
      ]
    },
    {
      "cell_type": "markdown",
      "metadata": {
        "id": "TfS_FBWK0Y_Y"
      },
      "source": [
        "Acima vemos que essa base de dados possui 541.909 registros. Cada registro representa uma linha, ou seja, um produto comprado (cuja quantidade pode ser maior que 1). Diferentes linhas podem representar diferentes itens de uma mesma compra."
      ]
    },
    {
      "cell_type": "markdown",
      "metadata": {
        "id": "zwgPe3f90tSw"
      },
      "source": [
        "## Passo 2: Remoção de Dados Nulos\n",
        "\n",
        "Neste passo vamos remover da base de dados os dados relativos a compras de produtos onde algum dos dados de interesse estejam faltando."
      ]
    },
    {
      "cell_type": "markdown",
      "metadata": {
        "id": "AeSIJZ9x1Cuv"
      },
      "source": [
        "Começamos observando a quantidade de dados nulos"
      ]
    },
    {
      "cell_type": "code",
      "metadata": {
        "id": "jJmozJlf1Aze",
        "outputId": "c54fc87a-c324-4d1f-a1ad-00f78c7cac15",
        "colab": {
          "base_uri": "https://localhost:8080/"
        }
      },
      "source": [
        "df.isnull().sum()"
      ],
      "execution_count": 7,
      "outputs": [
        {
          "output_type": "execute_result",
          "data": {
            "text/plain": [
              "InvoiceNo           0\n",
              "StockCode           0\n",
              "Description      1454\n",
              "Quantity            0\n",
              "InvoiceDate         0\n",
              "UnitPrice           0\n",
              "CustomerID     135080\n",
              "Country             0\n",
              "dtype: int64"
            ]
          },
          "metadata": {},
          "execution_count": 7
        }
      ]
    },
    {
      "cell_type": "markdown",
      "metadata": {
        "id": "KWgIGnJL1M9b"
      },
      "source": [
        "Acima podemos observar há 1.454 registros sem a descrição do produto, e 135.080 registros sem a identificação do cliente comprador."
      ]
    },
    {
      "cell_type": "markdown",
      "metadata": {
        "id": "H7RR0IK82HuT"
      },
      "source": [
        "No código abaixo você deve remover todos os registros onde aparece pelo menos um dos campos nulos. Para entender como fazer isso, veja esse trecho da videoaula sobre pandas (especificamente a partir de 19m41s no vídeo, até mais ou menos 21m).\n",
        "\n"
      ]
    },
    {
      "cell_type": "code",
      "metadata": {
        "id": "-77dPKr1Wcz3",
        "outputId": "90ae774b-47c8-46d8-d8e3-b5abf9f758b3",
        "colab": {
          "base_uri": "https://localhost:8080/",
          "height": 321
        }
      },
      "source": [
        "from IPython.display import YouTubeVideo\n",
        "YouTubeVideo('usmbTUx9zdY', start=1181)"
      ],
      "execution_count": 8,
      "outputs": [
        {
          "output_type": "execute_result",
          "data": {
            "text/plain": [
              "<IPython.lib.display.YouTubeVideo at 0x7f93cae26f70>"
            ],
            "text/html": [
              "\n",
              "        <iframe\n",
              "            width=\"400\"\n",
              "            height=\"300\"\n",
              "            src=\"https://www.youtube.com/embed/usmbTUx9zdY?start=1181\"\n",
              "            frameborder=\"0\"\n",
              "            allowfullscreen\n",
              "        ></iframe>\n",
              "        "
            ],
            "image/jpeg": "[encoded data removed]"
          },
          "metadata": {},
          "execution_count": 8
        }
      ]
    },
    {
      "cell_type": "code",
      "metadata": {
        "id": "1ZrVo84f2OmJ"
      },
      "source": [
        "# Insira aqui seu código para remover os dados nulos.\n",
        "# Ao final do código, a variável df deve ser um DataFrame\n",
        "# do pandas contendo apenas os registros onde nenhuma\n",
        "# coluna é nula. O resultado deve ser sobrescrito na\n",
        "# na própria variável df. Há duas formas de fazer isso\n",
        "# no pandas\n",
        "#\n",
        "#  Opção 1 Usando inplace: df.função(argumentos, inplace=True)\n",
        "#  Opção 2 Usando atribuição: df = df.função(argumentos)\n",
        "\n",
        "# SEU CÓDIGO AQUI!\n",
        "\n",
        "df = df.dropna()"
      ],
      "execution_count": 9,
      "outputs": []
    },
    {
      "cell_type": "code",
      "metadata": {
        "id": "pJL2FDvJVOF1",
        "colab": {
          "base_uri": "https://localhost:8080/"
        },
        "outputId": "bece84ac-0e03-4998-c43c-03bc9474b22e"
      },
      "source": [
        "# Verifica novamente. Dessa vez os valores\n",
        "# da soma devem estar zerados para todas\n",
        "# colunas.\n",
        "\n",
        "df.isnull().sum()"
      ],
      "execution_count": 10,
      "outputs": [
        {
          "output_type": "execute_result",
          "data": {
            "text/plain": [
              "InvoiceNo      0\n",
              "StockCode      0\n",
              "Description    0\n",
              "Quantity       0\n",
              "InvoiceDate    0\n",
              "UnitPrice      0\n",
              "CustomerID     0\n",
              "Country        0\n",
              "dtype: int64"
            ]
          },
          "metadata": {},
          "execution_count": 10
        }
      ]
    },
    {
      "cell_type": "markdown",
      "metadata": {
        "id": "nlj5sCY7SNs8"
      },
      "source": [
        "## Passo 3: Dicionário de Produtos"
      ]
    },
    {
      "cell_type": "markdown",
      "metadata": {
        "id": "xd7p7gROY2Dq"
      },
      "source": [
        "Agora vamos preparar um dicionário de códigos e respectivas descrições dos produtos. Esse dicionário servirá para que nós, humanos, possamos inspecionar o resultado de nossas operações no _embedding_, já que o _embedding_ vai ser treinado com base nos códigos dos produtos. Como os códigos não permitem inspeção intuitiva da natureza de cada produto, vamos precisar desse dicionário para entender qual é a descrição do produto correspondente a cada código."
      ]
    },
    {
      "cell_type": "markdown",
      "metadata": {
        "id": "CVIvmK9v3O96"
      },
      "source": [
        "### Passo 3.1: Conversão dos Códigos para Strings\n",
        "\n",
        "Começamos convertendo os códigos de produto (coluna **StockCode**) para string, para usar como \"palavras\" no treinamento de um modelo word2vec no `gensim` mais tarde.\n",
        "\n",
        "Para fazer isso você pode usar o método `.astype(tipo)` do pandas. Com esse comando, você consegue converter uma coluna específica do DataFrame para o tipo de dado que quiser. Por exemplo, se tivéssemos um DataFrame `d` com uma coluna chamada `idade` no formato `int` e se quiséssemos converter para o formato `float`, bastaria executar o comando:\n",
        "\n",
        "`# Converte idade para float`\n",
        "\n",
        "`d['idade'] = d['idade'].astype(float)`\n",
        "\n",
        "No nosso caso, queremos transformar o campo `StockCode` do DataFrame `df` para o formato string (`str`). Após a alteração, os elementos da coluna `StockCode` de `df` deverão ser strings.\n"
      ]
    },
    {
      "cell_type": "code",
      "metadata": {
        "id": "Wvr77qNr2yKh",
        "colab": {
          "base_uri": "https://localhost:8080/"
        },
        "outputId": "f1ea46e6-27dd-411c-fc4a-cff7a3989bc3"
      },
      "source": [
        "# Escreva abaixo seu código para converter os códigos\n",
        "# de produtos (campo 'StockCode') para o formato string\n",
        "# no DataFrame df.\n",
        "\n",
        "# SEU CÓDIGO AQUI!\n",
        "\n",
        "df['StockCode'] =  df['StockCode'].astype(str)"
      ],
      "execution_count": 11,
      "outputs": [
        {
          "output_type": "stream",
          "name": "stderr",
          "text": [
            "<ipython-input-11-80dd5e8fa10e>:7: SettingWithCopyWarning: \n",
            "A value is trying to be set on a copy of a slice from a DataFrame.\n",
            "Try using .loc[row_indexer,col_indexer] = value instead\n",
            "\n",
            "See the caveats in the documentation: https://pandas.pydata.org/pandas-docs/stable/user_guide/indexing.html#returning-a-view-versus-a-copy\n",
            "  df['StockCode'] =  df['StockCode'].astype(str)\n"
          ]
        }
      ]
    },
    {
      "cell_type": "markdown",
      "metadata": {
        "id": "0HLn63a1TYfX"
      },
      "source": [
        "### Passo 3.2\n",
        "\n",
        "Agora criaremos um novo _DataFrame_, de nome `products`. Selecionaremos apenas as colunas `StockCode` e `Description` do _DataFrame_ original, `df`.\n",
        "\n",
        "Para entender como selecionar colunas específicas, veja o vídeo abaixo a partir de 21m07s até 21m35s."
      ]
    },
    {
      "cell_type": "code",
      "metadata": {
        "id": "suIsqNd2Z-qL",
        "colab": {
          "base_uri": "https://localhost:8080/",
          "height": 321
        },
        "outputId": "b889f8e7-40f1-4adb-e9f1-52ba6a9d22a0"
      },
      "source": [
        "YouTubeVideo('usmbTUx9zdY', start=1267)"
      ],
      "execution_count": 12,
      "outputs": [
        {
          "output_type": "execute_result",
          "data": {
            "text/plain": [
              "<IPython.lib.display.YouTubeVideo at 0x7f93cafa1400>"
            ],
            "text/html": [
              "\n",
              "        <iframe\n",
              "            width=\"400\"\n",
              "            height=\"300\"\n",
              "            src=\"https://www.youtube.com/embed/usmbTUx9zdY?start=1267\"\n",
              "            frameborder=\"0\"\n",
              "            allowfullscreen\n",
              "        ></iframe>\n",
              "        "
            ],
            "image/jpeg": "[encoded data removed]"
          },
          "metadata": {},
          "execution_count": 12
        }
      ]
    },
    {
      "cell_type": "markdown",
      "metadata": {
        "id": "DdB8mxOuy4bl"
      },
      "source": [
        "Escreva seu código abaixo, criando o `DataFrame` de nome `products` que seleciona apenas as colunas `StockCode` e `Description`."
      ]
    },
    {
      "cell_type": "code",
      "metadata": {
        "id": "mZhbpw2PSUUL",
        "colab": {
          "base_uri": "https://localhost:8080/",
          "height": 424
        },
        "outputId": "c1034f0d-3dfe-4124-8d2d-9d1180884412"
      },
      "source": [
        "# Escreva aqui abaixo seu código para separar apenas\n",
        "# as colunas de código de produto, nome 'StockCode'\n",
        "# e descrição, nome 'Description'. O novo DataFrame\n",
        "# deve ser gravado na variável de nome products.\n",
        "\n",
        "# SEU CÓDIGO AQUI!\n",
        "\n",
        "#dataframe\n",
        "products = df[['StockCode', 'Description']]\n",
        "products"
      ],
      "execution_count": 20,
      "outputs": [
        {
          "output_type": "execute_result",
          "data": {
            "text/plain": [
              "       StockCode                          Description\n",
              "0         85123A   WHITE HANGING HEART T-LIGHT HOLDER\n",
              "1          71053                  WHITE METAL LANTERN\n",
              "2         84406B       CREAM CUPID HEARTS COAT HANGER\n",
              "3         84029G  KNITTED UNION FLAG HOT WATER BOTTLE\n",
              "4         84029E       RED WOOLLY HOTTIE WHITE HEART.\n",
              "...          ...                                  ...\n",
              "541904     22613          PACK OF 20 SPACEBOY NAPKINS\n",
              "541905     22899         CHILDREN'S APRON DOLLY GIRL \n",
              "541906     23254        CHILDRENS CUTLERY DOLLY GIRL \n",
              "541907     23255      CHILDRENS CUTLERY CIRCUS PARADE\n",
              "541908     22138        BAKING SET 9 PIECE RETROSPOT \n",
              "\n",
              "[406829 rows x 2 columns]"
            ],
            "text/html": [
              "\n",
              "  <div id=\"df-64cbe10e-d3aa-4d62-b2b6-d4505416d6e7\">\n",
              "    <div class=\"colab-df-container\">\n",
              "      <div>\n",
              "<style scoped>\n",
              "    .dataframe tbody tr th:only-of-type {\n",
              "        vertical-align: middle;\n",
              "    }\n",
              "\n",
              "    .dataframe tbody tr th {\n",
              "        vertical-align: top;\n",
              "    }\n",
              "\n",
              "    .dataframe thead th {\n",
              "        text-align: right;\n",
              "    }\n",
              "</style>\n",
              "<table border=\"1\" class=\"dataframe\">\n",
              "  <thead>\n",
              "    <tr style=\"text-align: right;\">\n",
              "      <th></th>\n",
              "      <th>StockCode</th>\n",
              "      <th>Description</th>\n",
              "    </tr>\n",
              "  </thead>\n",
              "  <tbody>\n",
              "    <tr>\n",
              "      <th>0</th>\n",
              "      <td>85123A</td>\n",
              "      <td>WHITE HANGING HEART T-LIGHT HOLDER</td>\n",
              "    </tr>\n",
              "    <tr>\n",
              "      <th>1</th>\n",
              "      <td>71053</td>\n",
              "      <td>WHITE METAL LANTERN</td>\n",
              "    </tr>\n",
              "    <tr>\n",
              "      <th>2</th>\n",
              "      <td>84406B</td>\n",
              "      <td>CREAM CUPID HEARTS COAT HANGER</td>\n",
              "    </tr>\n",
              "    <tr>\n",
              "      <th>3</th>\n",
              "      <td>84029G</td>\n",
              "      <td>KNITTED UNION FLAG HOT WATER BOTTLE</td>\n",
              "    </tr>\n",
              "    <tr>\n",
              "      <th>4</th>\n",
              "      <td>84029E</td>\n",
              "      <td>RED WOOLLY HOTTIE WHITE HEART.</td>\n",
              "    </tr>\n",
              "    <tr>\n",
              "      <th>...</th>\n",
              "      <td>...</td>\n",
              "      <td>...</td>\n",
              "    </tr>\n",
              "    <tr>\n",
              "      <th>541904</th>\n",
              "      <td>22613</td>\n",
              "      <td>PACK OF 20 SPACEBOY NAPKINS</td>\n",
              "    </tr>\n",
              "    <tr>\n",
              "      <th>541905</th>\n",
              "      <td>22899</td>\n",
              "      <td>CHILDREN'S APRON DOLLY GIRL</td>\n",
              "    </tr>\n",
              "    <tr>\n",
              "      <th>541906</th>\n",
              "      <td>23254</td>\n",
              "      <td>CHILDRENS CUTLERY DOLLY GIRL</td>\n",
              "    </tr>\n",
              "    <tr>\n",
              "      <th>541907</th>\n",
              "      <td>23255</td>\n",
              "      <td>CHILDRENS CUTLERY CIRCUS PARADE</td>\n",
              "    </tr>\n",
              "    <tr>\n",
              "      <th>541908</th>\n",
              "      <td>22138</td>\n",
              "      <td>BAKING SET 9 PIECE RETROSPOT</td>\n",
              "    </tr>\n",
              "  </tbody>\n",
              "</table>\n",
              "<p>406829 rows × 2 columns</p>\n",
              "</div>\n",
              "      <button class=\"colab-df-convert\" onclick=\"convertToInteractive('df-64cbe10e-d3aa-4d62-b2b6-d4505416d6e7')\"\n",
              "              title=\"Convert this dataframe to an interactive table.\"\n",
              "              style=\"display:none;\">\n",
              "        \n",
              "  <svg xmlns=\"http://www.w3.org/2000/svg\" height=\"24px\"viewBox=\"0 0 24 24\"\n",
              "       width=\"24px\">\n",
              "    <path d=\"M0 0h24v24H0V0z\" fill=\"none\"/>\n",
              "    <path d=\"M18.56 5.44l.94 2.06.94-2.06 2.06-.94-2.06-.94-.94-2.06-.94 2.06-2.06.94zm-11 1L8.5 8.5l.94-2.06 2.06-.94-2.06-.94L8.5 2.5l-.94 2.06-2.06.94zm10 10l.94 2.06.94-2.06 2.06-.94-2.06-.94-.94-2.06-.94 2.06-2.06.94z\"/><path d=\"M17.41 7.96l-1.37-1.37c-.4-.4-.92-.59-1.43-.59-.52 0-1.04.2-1.43.59L10.3 9.45l-7.72 7.72c-.78.78-.78 2.05 0 2.83L4 21.41c.39.39.9.59 1.41.59.51 0 1.02-.2 1.41-.59l7.78-7.78 2.81-2.81c.8-.78.8-2.07 0-2.86zM5.41 20L4 18.59l7.72-7.72 1.47 1.35L5.41 20z\"/>\n",
              "  </svg>\n",
              "      </button>\n",
              "      \n",
              "  <style>\n",
              "    .colab-df-container {\n",
              "      display:flex;\n",
              "      flex-wrap:wrap;\n",
              "      gap: 12px;\n",
              "    }\n",
              "\n",
              "    .colab-df-convert {\n",
              "      background-color: #E8F0FE;\n",
              "      border: none;\n",
              "      border-radius: 50%;\n",
              "      cursor: pointer;\n",
              "      display: none;\n",
              "      fill: #1967D2;\n",
              "      height: 32px;\n",
              "      padding: 0 0 0 0;\n",
              "      width: 32px;\n",
              "    }\n",
              "\n",
              "    .colab-df-convert:hover {\n",
              "      background-color: #E2EBFA;\n",
              "      box-shadow: 0px 1px 2px rgba(60, 64, 67, 0.3), 0px 1px 3px 1px rgba(60, 64, 67, 0.15);\n",
              "      fill: #174EA6;\n",
              "    }\n",
              "\n",
              "    [theme=dark] .colab-df-convert {\n",
              "      background-color: #3B4455;\n",
              "      fill: #D2E3FC;\n",
              "    }\n",
              "\n",
              "    [theme=dark] .colab-df-convert:hover {\n",
              "      background-color: #434B5C;\n",
              "      box-shadow: 0px 1px 3px 1px rgba(0, 0, 0, 0.15);\n",
              "      filter: drop-shadow(0px 1px 2px rgba(0, 0, 0, 0.3));\n",
              "      fill: #FFFFFF;\n",
              "    }\n",
              "  </style>\n",
              "\n",
              "      <script>\n",
              "        const buttonEl =\n",
              "          document.querySelector('#df-64cbe10e-d3aa-4d62-b2b6-d4505416d6e7 button.colab-df-convert');\n",
              "        buttonEl.style.display =\n",
              "          google.colab.kernel.accessAllowed ? 'block' : 'none';\n",
              "\n",
              "        async function convertToInteractive(key) {\n",
              "          const element = document.querySelector('#df-64cbe10e-d3aa-4d62-b2b6-d4505416d6e7');\n",
              "          const dataTable =\n",
              "            await google.colab.kernel.invokeFunction('convertToInteractive',\n",
              "                                                     [key], {});\n",
              "          if (!dataTable) return;\n",
              "\n",
              "          const docLinkHtml = 'Like what you see? Visit the ' +\n",
              "            '<a target=\"_blank\" href=https://colab.research.google.com/notebooks/data_table.ipynb>data table notebook</a>'\n",
              "            + ' to learn more about interactive tables.';\n",
              "          element.innerHTML = '';\n",
              "          dataTable['output_type'] = 'display_data';\n",
              "          await google.colab.output.renderOutput(dataTable, element);\n",
              "          const docLink = document.createElement('div');\n",
              "          docLink.innerHTML = docLinkHtml;\n",
              "          element.appendChild(docLink);\n",
              "        }\n",
              "      </script>\n",
              "    </div>\n",
              "  </div>\n",
              "  "
            ]
          },
          "metadata": {},
          "execution_count": 20
        }
      ]
    },
    {
      "cell_type": "markdown",
      "metadata": {
        "id": "VzMELP7uzeUM"
      },
      "source": [
        "### Passo 3.3 Remoção de Itens Duplicados\n",
        "\n",
        "Obviamente muitos produtos foram comprados mais de uma vez. Em nosso dicionário de códigos e descrições, como a finalidade é simplesmente identificar a descrição que corresponde a um determinado código, então não faz sentido ter itens duplicados.\n",
        "\n",
        "No código abaixo faça uma remoção de todas entradas onde o código do produto (coluna `StockCode`) seja duplicado.\n",
        "\n",
        "Para entender como fazer isso, veja o vídeo abaixo a partir de 21m41s até 22m10s."
      ]
    },
    {
      "cell_type": "code",
      "metadata": {
        "id": "Y20WJ3up0nLO",
        "colab": {
          "base_uri": "https://localhost:8080/",
          "height": 321
        },
        "outputId": "d1e63f56-a402-4745-f7db-6620c9a480d1"
      },
      "source": [
        "YouTubeVideo('usmbTUx9zdY', start=1301)"
      ],
      "execution_count": 14,
      "outputs": [
        {
          "output_type": "execute_result",
          "data": {
            "text/plain": [
              "<IPython.lib.display.YouTubeVideo at 0x7f93bfcc1580>"
            ],
            "text/html": [
              "\n",
              "        <iframe\n",
              "            width=\"400\"\n",
              "            height=\"300\"\n",
              "            src=\"https://www.youtube.com/embed/usmbTUx9zdY?start=1301\"\n",
              "            frameborder=\"0\"\n",
              "            allowfullscreen\n",
              "        ></iframe>\n",
              "        "
            ],
            "image/jpeg": "[encoded data removed]"
          },
          "metadata": {},
          "execution_count": 14
        }
      ]
    },
    {
      "cell_type": "code",
      "metadata": {
        "id": "BtdlOtbOzIJ8",
        "colab": {
          "base_uri": "https://localhost:8080/"
        },
        "outputId": "11714cf3-847d-4780-952d-0942b762c9a2"
      },
      "source": [
        "# Escreva abaixo o código para remover os itens duplicados\n",
        "# do DataFrame de produtos. Ao fazer isso garanta que o nome\n",
        "# do DataFrame seja o mesmo, ou seja, o resultado deve ser\n",
        "# gravado na própria variável products.\n",
        "\n",
        "# SEU CÓDIGO AQUI!\n",
        "products.drop_duplicates(inplace=True, \\\n",
        "                         subset='StockCode', keep = 'last')"
      ],
      "execution_count": 21,
      "outputs": [
        {
          "output_type": "stream",
          "name": "stderr",
          "text": [
            "/usr/local/lib/python3.8/dist-packages/pandas/util/_decorators.py:311: SettingWithCopyWarning: \n",
            "A value is trying to be set on a copy of a slice from a DataFrame\n",
            "\n",
            "See the caveats in the documentation: https://pandas.pydata.org/pandas-docs/stable/user_guide/indexing.html#returning-a-view-versus-a-copy\n",
            "  return func(*args, **kwargs)\n"
          ]
        }
      ]
    },
    {
      "cell_type": "markdown",
      "metadata": {
        "id": "d_Zh1f1P1MfN"
      },
      "source": [
        "### Passo 3.4 Criação do Dicionário\n",
        "\n",
        "Agora você vai criar um dicionário nativo do Python, onde as chaves serão os códigos dos produtos (`StockCode`) e os valores serão as respectivas strings de descrição (`Description`).\n",
        "\n",
        "Para entender como converter este DataFrame em um dicionário, assista o vídeo abaixo, a partir de 22min35s até 23min03s."
      ]
    },
    {
      "cell_type": "code",
      "metadata": {
        "id": "QkNkTizRvFu_",
        "colab": {
          "base_uri": "https://localhost:8080/",
          "height": 321
        },
        "outputId": "0f85b1af-0faf-46ed-fe96-2cbae793e896"
      },
      "source": [
        "YouTubeVideo('usmbTUx9zdY', start=1355)"
      ],
      "execution_count": 22,
      "outputs": [
        {
          "output_type": "execute_result",
          "data": {
            "text/plain": [
              "<IPython.lib.display.YouTubeVideo at 0x7f93c8e69c10>"
            ],
            "text/html": [
              "\n",
              "        <iframe\n",
              "            width=\"400\"\n",
              "            height=\"300\"\n",
              "            src=\"https://www.youtube.com/embed/usmbTUx9zdY?start=1355\"\n",
              "            frameborder=\"0\"\n",
              "            allowfullscreen\n",
              "        ></iframe>\n",
              "        "
            ],
            "image/jpeg": "[encoded data removed]"
          },
          "metadata": {},
          "execution_count": 22
        }
      ]
    },
    {
      "cell_type": "code",
      "metadata": {
        "id": "An0BgKa91RTl",
        "colab": {
          "base_uri": "https://localhost:8080/"
        },
        "outputId": "387790b0-4d6b-4a13-ad08-fc26c11f21f0"
      },
      "source": [
        "# Escreva aqui seu código para criar um dicionário do\n",
        "# Python a partir do DataFrame products. O nome do\n",
        "# dicionário deverá ser prodcuts_dict\n",
        "\n",
        "# SEU CÓDIGO AQUI!\n",
        "products_dict = products.groupby('StockCode')['Description'].apply(list).to_dict()\n",
        "products_dict"
      ],
      "execution_count": 34,
      "outputs": [
        {
          "output_type": "execute_result",
          "data": {
            "text/plain": [
              "{'10002': ['INFLATABLE POLITICAL GLOBE '],\n",
              " '10080': ['GROOVY CACTUS INFLATABLE'],\n",
              " '10120': ['DOGGY RUBBER'],\n",
              " '10123C': ['HEARTS WRAPPING TAPE '],\n",
              " '10124A': ['SPOTS ON RED BOOKCOVER TAPE'],\n",
              " '10124G': ['ARMY CAMO BOOKCOVER TAPE'],\n",
              " '10125': ['MINI FUNKY DESIGN TAPES'],\n",
              " '10133': ['COLOURING PENCILS BROWN TUBE'],\n",
              " '10135': ['COLOURING PENCILS BROWN TUBE'],\n",
              " '11001': ['ASSTD DESIGN RACING CAR PEN'],\n",
              " '15030': ['FAN BLACK FRAME '],\n",
              " '15034': ['PAPER POCKET TRAVELING FAN '],\n",
              " '15036': ['ASSORTED COLOURS SILK FAN'],\n",
              " '15039': ['SANDALWOOD FAN'],\n",
              " '15044A': ['PINK PAPER PARASOL '],\n",
              " '15044B': ['BLUE PAPER PARASOL '],\n",
              " '15044C': ['PURPLE PAPER PARASOL'],\n",
              " '15044D': ['RED PAPER PARASOL'],\n",
              " '15056BL': ['EDWARDIAN PARASOL BLACK'],\n",
              " '15056N': ['EDWARDIAN PARASOL NATURAL'],\n",
              " '15056P': ['EDWARDIAN PARASOL PINK'],\n",
              " '15058A': ['BLUE POLKADOT GARDEN PARASOL'],\n",
              " '15058B': ['PINK POLKADOT GARDEN PARASOL'],\n",
              " '15058C': ['ICE CREAM DESIGN GARDEN PARASOL'],\n",
              " '15060B': ['FAIRY CAKE DESIGN UMBRELLA'],\n",
              " '16008': ['SMALL FOLDING SCISSOR(POINTED EDGE)'],\n",
              " '16010': ['FOLDING CAMPING SCISSOR W/KNIF & S'],\n",
              " '16011': ['ANIMAL STICKERS'],\n",
              " '16012': ['FOOD/DRINK SPONGE STICKERS'],\n",
              " '16014': ['SMALL CHINESE STYLE SCISSOR'],\n",
              " '16015': ['MEDIUM CHINESE STYLE SCISSOR'],\n",
              " '16016': ['LARGE CHINESE STYLE SCISSOR'],\n",
              " '16020C': ['CLEAR STATIONERY BOX SET '],\n",
              " '16033': ['MINI HIGHLIGHTER PENS'],\n",
              " '16043': ['POP ART PUSH DOWN RUBBER '],\n",
              " '16045': ['POPART WOODEN PENCILS ASST'],\n",
              " '16046': ['TEATIME PEN CASE & PENS'],\n",
              " '16048': ['TEATIME ROUND PENCIL SHARPENER '],\n",
              " '16049': ['TEATIME GEL PENS ASST'],\n",
              " '16052': ['TEATIME PUSH DOWN RUBBER'],\n",
              " '16054': ['POPART RECT PENCIL SHARPENER ASST'],\n",
              " '16151A': ['FLOWERS HANDBAG blue and orange'],\n",
              " '16156L': ['WRAP CAROUSEL'],\n",
              " '16156S': ['WRAP PINK FAIRY CAKES '],\n",
              " '16161G': ['WRAP BAD HAIR DAY'],\n",
              " '16161M': ['WRAP  PINK FLOCK'],\n",
              " '16161P': ['WRAP ENGLISH ROSE '],\n",
              " '16161U': ['WRAP SUKI AND FRIENDS'],\n",
              " '16162L': ['THE KING GIFT BAG'],\n",
              " '16162M': ['THE KING GIFT BAG 25x24x12cm'],\n",
              " '16168M': ['FUNKY MONKEY GIFT BAG MEDIUM'],\n",
              " '16169E': [\"WRAP 50'S  CHRISTMAS\"],\n",
              " '16169K': ['WRAP FOLK ART'],\n",
              " '16169M': ['WRAP DAISY CARPET '],\n",
              " '16169N': ['WRAP BLUE RUSSIAN FOLKART'],\n",
              " '16169P': ['WRAP GREEN RUSSIAN FOLKART '],\n",
              " '16202A': ['PASTEL PINK PHOTO ALBUM '],\n",
              " '16202B': ['PASTEL BLUE PHOTO ALBUM '],\n",
              " '16202E': ['BLACK PHOTO ALBUM '],\n",
              " '16206B': ['RED PURSE WITH PINK HEART'],\n",
              " '16207A': ['PINK STRAWBERRY HANDBAG '],\n",
              " '16207B': ['PINK HEART RED HANDBAG'],\n",
              " '16216': ['LETTER SHAPE PENCIL SHARPENER'],\n",
              " '16218': ['CARTOON  PENCIL SHARPENERS'],\n",
              " '16219': ['HOUSE SHAPE PENCIL SHARPENER'],\n",
              " '16225': ['RATTLE SNAKE EGGS'],\n",
              " '16235': ['RECYCLED PENCIL WITH RABBIT ERASER'],\n",
              " '16236': ['KITTY PENCIL ERASERS'],\n",
              " '16237': ['SLEEPING CAT ERASERS'],\n",
              " '16238': ['PARTY TIME PENCIL ERASERS'],\n",
              " '16244B': ['MAXWELL 2 TONE BLUE 60 PAGE PHOTO A'],\n",
              " '16248B': ['BLUE HOLE PUNCH'],\n",
              " '16254': ['TRANSPARENT ACRYLIC TAPE DISPENSER'],\n",
              " '16258A': ['SWIRLY CIRCULAR RUBBERS IN BAG'],\n",
              " '16259': ['PIECE OF CAMO STATIONERY SET'],\n",
              " '17001': ['HEAVENS SCENT FRAGRANCE OILS ASSTD'],\n",
              " '17003': ['BROCADE RING PURSE '],\n",
              " '17007B': ['S/3 POT POURI CUSHIONS BLUE COLOURS'],\n",
              " '17011F': ['ORIGAMI SANDLEWOOD INCENSE+FLOWER'],\n",
              " '17012A': ['ORIGAMI VANILLA INCENSE/CANDLE SET '],\n",
              " '17012B': ['ORIGAMI JASMINE INCENSE/CANDLE SET'],\n",
              " '17012C': ['ORIGAMI LAVENDER INCENSE/CANDL SET '],\n",
              " '17012D': ['ORIGAMI ROSE INCENSE/CANDLE SET '],\n",
              " '17012E': ['ORIGAMI OPIUM INCENSE/CANDLE SET '],\n",
              " '17012F': ['ORIGAMI SANDLEWOOD INCENSE/CAND SET'],\n",
              " '17013D': ['ORIGAMI ROSE INCENSE IN TUBE'],\n",
              " '17014A': ['ORIGAMI VANILLA INCENSE CONES'],\n",
              " '17021': ['NAMASTE SWAGAT INCENSE'],\n",
              " '17028J': ['INCENSE BAZAAR PEACH'],\n",
              " '17038': ['PORCELAIN BUDAH INCENSE HOLDER'],\n",
              " '17084A': ['TRANQUILITY MASALA INCENSE'],\n",
              " '17084J': ['LOVE POTION MASALA INCENSE'],\n",
              " '17084N': ['FAIRY DREAMS INCENSE '],\n",
              " '17084P': ['DRAGONS BLOOD INCENSE'],\n",
              " '17084R': ['ASSORTED INCENSE PACK'],\n",
              " '17090A': ['LAVENDER INCENSE 40 CONES IN TIN'],\n",
              " '17090D': ['VANILLA INCENSE 40 CONES IN TIN'],\n",
              " '17091A': ['LAVENDER INCENSE IN TIN'],\n",
              " '17091J': ['VANILLA INCENSE IN TIN'],\n",
              " '17096': ['ASSORTED LAQUERED INCENSE HOLDERS'],\n",
              " '17107D': ['FLOWER FAIRY 5 DRAWER LINERS'],\n",
              " '17109D': ['FLOWER FAIRY INCENSE BOUQUET'],\n",
              " '17129F': ['BLUE GLASS GEMS IN BAG'],\n",
              " '17136A': ['BLUE STONES ON WIRE FOR CANDLE'],\n",
              " '17164B': [\"ASS COL SMALL SAND GECKO P'WEIGHT\"],\n",
              " '17165D': [\"ASS COL LARGE SAND FROG P'WEIGHT\"],\n",
              " '17174': ['ASSTD RASTA KEY-CHAINS'],\n",
              " '17191A': ['ROSE FLOWER CANDLE+INCENSE 16X16CM'],\n",
              " '18007': ['ESSENTIAL BALM 3.5g TIN IN ENVELOPE'],\n",
              " '18094C': ['WHITE AND BLUE CERAMIC OIL BURNER'],\n",
              " '18097A': ['PINK TALL PORCELAIN T-LIGHT HOLDER '],\n",
              " '18097C': ['WHITE TALL PORCELAIN T-LIGHT HOLDER'],\n",
              " '18098C': ['PORCELAIN BUTTERFLY OIL BURNER'],\n",
              " '20615': ['BLUE POLKADOT PASSPORT COVER'],\n",
              " '20616': ['CHERRY BLOSSOM PASSPORT COVER'],\n",
              " '20617': ['FIRST CLASS PASSPORT COVER '],\n",
              " '20618': ['QUEEN OF THE SKIES PASSPORT COVER '],\n",
              " '20619': ['TROPICAL PASSPORT COVER '],\n",
              " '20622': ['VIP PASSPORT COVER '],\n",
              " '20652': ['BLUE POLKADOT LUGGAGE TAG '],\n",
              " '20653': ['CHERRY BLOSSOM LUGGAGE TAG'],\n",
              " '20654': ['FIRST CLASS LUGGAGE TAG '],\n",
              " '20655': ['QUEEN OF SKIES LUGGAGE TAG'],\n",
              " '20657': ['TROPICAL LUGGAGE TAG'],\n",
              " '20658': ['RED RETROSPOT LUGGAGE TAG'],\n",
              " '20659': ['ECONOMY LUGGAGE TAG'],\n",
              " '20661': ['BLUE POLKADOT PURSE '],\n",
              " '20662': ['FIRST CLASS HOLIDAY PURSE '],\n",
              " '20663': ['QUEEN OF THE SKIES HOLIDAY PURSE '],\n",
              " '20664': ['TROPICAL HOLIDAY PURSE '],\n",
              " '20665': ['RED RETROSPOT PURSE '],\n",
              " '20666': ['ECONOMY HOLIDAY PURSE'],\n",
              " '20667': ['CHERRY BLOSSOM PURSE'],\n",
              " '20668': ['DISCO BALL CHRISTMAS DECORATION'],\n",
              " '20669': ['RED HEART LUGGAGE TAG'],\n",
              " '20670': ['VIP HOLIDAY PURSE'],\n",
              " '20671': ['BLUE TEATIME PRINT BOWL '],\n",
              " '20674': ['GREEN POLKADOT BOWL'],\n",
              " '20675': ['BLUE POLKADOT BOWL'],\n",
              " '20676': ['RED RETROSPOT BOWL'],\n",
              " '20677': ['PINK POLKADOT BOWL'],\n",
              " '20678': ['LARGE BLACK DIAMANTE HAIRSLIDE'],\n",
              " '20679': ['EDWARDIAN PARASOL RED'],\n",
              " '20681': ['PINK POLKADOT CHILDRENS UMBRELLA'],\n",
              " '20682': ['RED RETROSPOT CHILDRENS UMBRELLA'],\n",
              " '20684': ['STRAWBERRY DREAM CHILDS UMBRELLA'],\n",
              " '20685': ['DOORMAT RED RETROSPOT'],\n",
              " '20686': [\"DOLLY MIXTURE CHILDREN'S UMBRELLA\"],\n",
              " '20694': ['FLORAL PINK MONSTER'],\n",
              " '20695': ['FLORAL BLUE MONSTER'],\n",
              " '20696': ['FLORAL SOFT CAR TOY'],\n",
              " '20697': ['LITTLE GREEN MONSTER SOFT TOY'],\n",
              " '20698': ['LITTLE PINK MONSTER SOFT TOY'],\n",
              " '20699': ['MOUSEY LONG LEGS SOFT TOY'],\n",
              " '20700': ['GREEN CAT FLORAL CUSHION COVER '],\n",
              " '20701': ['PINK CAT FLORAL CUSHION COVER '],\n",
              " '20702': ['PINK PADDED MOBILE'],\n",
              " '20703': ['BLUE PADDED SOFT MOBILE'],\n",
              " '20704': ['MR ROBOT SOFT TOY'],\n",
              " '20705': ['MRS ROBOT SOFT TOY'],\n",
              " '20707': ['CRAZY DAISY HEART DECORATION'],\n",
              " '20711': ['JUMBO BAG TOYS '],\n",
              " '20712': ['JUMBO BAG WOODLAND ANIMALS'],\n",
              " '20713': ['JUMBO BAG OWLS'],\n",
              " '20716': ['PARTY FOOD SHOPPER BAG'],\n",
              " '20717': ['STRAWBERRY SHOPPER BAG'],\n",
              " '20718': ['RED RETROSPOT SHOPPER BAG'],\n",
              " '20719': ['WOODLAND CHARLOTTE BAG'],\n",
              " '20723': ['STRAWBERRY CHARLOTTE BAG'],\n",
              " '20724': ['RED RETROSPOT CHARLOTTE BAG'],\n",
              " '20725': ['LUNCH BAG RED RETROSPOT'],\n",
              " '20726': ['LUNCH BAG WOODLAND'],\n",
              " '20727': ['LUNCH BAG  BLACK SKULL.'],\n",
              " '20728': ['LUNCH BAG CARS BLUE'],\n",
              " '20731': ['POSY CANDY BAG'],\n",
              " '20733': ['GOLD MINI TAPE MEASURE '],\n",
              " '20735': ['BLACK MINI TAPE MEASURE '],\n",
              " '20748': ['KENSINGTON COFFEE SET'],\n",
              " '20749': ['ASSORTED COLOUR MINI CASES'],\n",
              " '20750': ['RED RETROSPOT MINI CASES'],\n",
              " '20751': ['FUNKY WASHING UP GLOVES ASSORTED'],\n",
              " '20752': ['BLUE POLKADOT WASHING UP GLOVES'],\n",
              " '20754': ['RETROSPOT RED WASHING UP GLOVES'],\n",
              " '20755': ['BLUE PAISLEY POCKET BOOK'],\n",
              " '20756': ['GREEN FERN POCKET BOOK'],\n",
              " '20757': ['RED DAISY POCKET BOOK '],\n",
              " '20758': ['ABSTRACT CIRCLES POCKET BOOK'],\n",
              " '20759': ['CHRYSANTHEMUM POCKET BOOK '],\n",
              " '20760': ['GARDEN PATH POCKET BOOK'],\n",
              " '20761': ['BLUE PAISLEY SKETCHBOOK'],\n",
              " '20762': ['GREEN FERN SKETCHBOOK '],\n",
              " '20763': ['DAISY SKETCHBOOK '],\n",
              " '20764': ['ABSTRACT CIRCLES SKETCHBOOK '],\n",
              " '20765': ['CHRYSANTHEMUM SKETCHBOOK '],\n",
              " '20766': ['GARDEN PATH SKETCHBOOK'],\n",
              " '20767': ['BLUE PAISLEY JOURNAL '],\n",
              " '20768': ['GREEN FERN JOURNAL '],\n",
              " '20769': ['DAISY JOURNAL '],\n",
              " '20770': ['ABSTRACT CIRCLE JOURNAL '],\n",
              " '20771': ['CHRYSANTHEMUM  JOURNAL'],\n",
              " '20772': ['GARDEN PATH JOURNAL'],\n",
              " '20773': ['BLUE PAISLEY NOTEBOOK'],\n",
              " '20774': ['GREEN FERN NOTEBOOK'],\n",
              " '20775': ['DAISY NOTEBOOK '],\n",
              " '20777': ['CHRYSANTHEMUM NOTEBOOK'],\n",
              " '20778': ['GARDEN PATH NOTEBOOK '],\n",
              " '20780': ['BLACK EAR MUFF HEADPHONES'],\n",
              " '20781': ['GOLD EAR MUFF HEADPHONES'],\n",
              " '20782': ['CAMOUFLAGE EAR MUFF HEADPHONES'],\n",
              " '20785': ['FUSCHIA RETRO BAR STOOL'],\n",
              " '20793': ['BLUE TILED TRAY'],\n",
              " '20794': ['BLUE  TILE HOOK'],\n",
              " '20795': ['LARGE BLUE PROVENCAL CERAMIC BALL'],\n",
              " '20796': ['SMALL BLUE PROVENCAL CERAMIC BALL'],\n",
              " '20798': ['CLEAR MILKSHAKE GLASS'],\n",
              " '20801': ['LARGE PINK GLASS SUNDAE DISH'],\n",
              " '20802': ['SMALL GLASS SUNDAE DISH CLEAR'],\n",
              " '20803': ['SMALL PINK GLASS SUNDAE DISH'],\n",
              " '20816': ['GOLD FLOWER CUSHION COVER '],\n",
              " '20818': ['GOLD TEDDY BEAR'],\n",
              " '20819': ['SILVER TEDDY BEAR'],\n",
              " '20820': ['SILVER LOOKING MIRROR'],\n",
              " '20821': ['GOLDIE LOOKING MIRROR'],\n",
              " '20823': ['GOLD WINE GOBLET'],\n",
              " '20826': ['SILVER APERITIF GLASS'],\n",
              " '20827': ['GOLD APERITIF GLASS'],\n",
              " '20828': ['GLITTER BUTTERFLY CLIPS'],\n",
              " '20829': ['GLITTER HANGING BUTTERFLY STRING'],\n",
              " '20830': ['SILVER PHOTO FRAME'],\n",
              " '20831': ['GOLD PHOTO FRAME'],\n",
              " '20832': ['RED FLOCK LOVE HEART PHOTO FRAME'],\n",
              " '20835': ['FRENCH LATTICE CUSHION COVER '],\n",
              " '20836': ['FRENCH PAISLEY CUSHION COVER'],\n",
              " '20837': ['FRENCH FLORAL CUSHION COVER '],\n",
              " '20838': ['FRENCH LATTICE CUSHION COVER '],\n",
              " '20839': ['FRENCH PAISLEY CUSHION COVER '],\n",
              " '20840': ['FRENCH FLORAL CUSHION COVER '],\n",
              " '20845': ['ZINC HEART LATTICE 2 WALL PLANTER'],\n",
              " '20846': ['ZINC HEART LATTICE T-LIGHT HOLDER'],\n",
              " '20847': ['ZINC HEART LATTICE CHARGER LARGE'],\n",
              " '20848': ['ZINC HEART LATTICE CHARGER SMALL'],\n",
              " '20851': ['ZINC HEART LATTICE TRAY OVAL '],\n",
              " '20854': ['BLUE PATCH PURSE PINK HEART'],\n",
              " '20856': ['DENIM PATCH PURSE PINK BUTTERFLY'],\n",
              " '20857': ['BLUE ROSE PATCH PURSE PINK BUTTERFL'],\n",
              " '20861': ['GOLD COSMETIC BAG PINK STAR'],\n",
              " '20866': ['BLUE ROSE FABRIC MIRROR'],\n",
              " '20867': ['PINK ROSE FABRIC MIRROR'],\n",
              " '20868': ['SILVER FABRIC MIRROR'],\n",
              " '20869': ['GOLD FABRIC MIRROR'],\n",
              " '20878': ['SET/9 CHRISTMAS T-LIGHTS SCENTED '],\n",
              " '20886': ['BOX OF 9 PEBBLE CANDLES'],\n",
              " '20892': ['SET/3 TALL GLASS CANDLE HOLDER PINK'],\n",
              " '20893': ['HANGING BAUBLE T-LIGHT HOLDER SMALL'],\n",
              " '20894': ['HANGING BAUBLE T-LIGHT HOLDER LARGE'],\n",
              " '20897': ['VINTAGE NOTEBOOK PARIS DAYS'],\n",
              " '20898': ['VINTAGE NOTEBOOK TRAVELOGUE'],\n",
              " '20901': ['VINTAGE KEEPSAKE BOX PINK FLOWER'],\n",
              " '20902': ['VINTAGE KEEPSAKE BOX PARIS DAYS'],\n",
              " '20903': ['VINTAGE KEEPSAKE BOX TRAVELOGUE'],\n",
              " '20906': ['VINTAGE NOTEBOOK BEAUTY GIRL'],\n",
              " '20910': ['VINTAGE PHOTO ALBUM PARIS DAYS'],\n",
              " '20914': ['SET/5 RED RETROSPOT LID GLASS BOWLS'],\n",
              " '20931': ['BLUE POT PLANT CANDLE '],\n",
              " '20932': ['PINK POT PLANT CANDLE'],\n",
              " '20933': ['YELLOW POT PLANT CANDLE'],\n",
              " '20934': ['SET/3 POT PLANT CANDLES'],\n",
              " '20935': ['ROUND CACTUS CANDLE'],\n",
              " '20936': ['FORKED CACTUS CANDLE'],\n",
              " '20941': ['FROG CANDLE'],\n",
              " '20956': ['PORCELAIN T-LIGHT HOLDERS ASSORTED'],\n",
              " '20957': ['PORCELAIN HANGING BELL SMALL'],\n",
              " '20961': ['STRAWBERRY BATH SPONGE '],\n",
              " '20963': ['APPLE BATH SPONGE'],\n",
              " '20964': ['POLYESTER FILLER PAD 60x40cm'],\n",
              " '20966': ['SANDWICH BATH SPONGE'],\n",
              " '20967': ['GREY FLORAL FELTCRAFT SHOULDER BAG'],\n",
              " '20969': ['RED FLORAL FELTCRAFT SHOULDER BAG'],\n",
              " '20970': ['PINK FLORAL FELTCRAFT SHOULDER BAG'],\n",
              " '20971': ['PINK BLUE FELT CRAFT TRINKET BOX'],\n",
              " '20972': ['PINK CREAM FELT CRAFT TRINKET BOX '],\n",
              " '20973': ['12 PENCIL SMALL TUBE WOODLAND'],\n",
              " '20974': ['12 PENCILS SMALL TUBE SKULL'],\n",
              " '20975': ['12 PENCILS SMALL TUBE RED RETROSPOT'],\n",
              " '20977': ['36 PENCILS TUBE WOODLAND'],\n",
              " '20978': ['36 PENCILS TUBE SKULLS'],\n",
              " '20979': ['36 PENCILS TUBE RED RETROSPOT'],\n",
              " '20980': ['36 PENCILS TUBE POSY'],\n",
              " '20981': ['12 PENCILS TALL TUBE WOODLAND'],\n",
              " '20982': ['12 PENCILS TALL TUBE SKULLS'],\n",
              " '20983': ['12 PENCILS TALL TUBE RED RETROSPOT'],\n",
              " '20984': ['12 PENCILS TALL TUBE POSY'],\n",
              " '20985': ['HEART CALCULATOR'],\n",
              " '20986': ['BLUE CALCULATOR RULER'],\n",
              " '20992': ['JAZZ HEARTS PURSE NOTEBOOK'],\n",
              " '20996': ['JAZZ HEARTS ADDRESS BOOK'],\n",
              " '20997': ['ROSE DU SUD CUSHION COVER '],\n",
              " '20998': ['ROSE DU SUD OVEN GLOVE'],\n",
              " '21000': ['ROSE DU SUD COSMETICS BAG'],\n",
              " '21001': ['ROSE DU SUD WASHBAG '],\n",
              " '21002': ['ROSE DU SUD DRAWSTRING BAG'],\n",
              " '21003': ['ROSE DU SUD CUSHION COVER'],\n",
              " '21011': ['GLITTER SNOW PEAR TREE DECORATION'],\n",
              " '21012': ['ANTIQUE ALL GLASS CANDLESTICK'],\n",
              " '21014': ['SWISS CHALET TREE DECORATION '],\n",
              " '21015': ['DARK BIRD HOUSE TREE DECORATION'],\n",
              " '21018': ['BIRD BOX CHRISTMAS TREE DECORATION'],\n",
              " '21025': ['SPACE FROG'],\n",
              " '21026': ['SPACE OWL'],\n",
              " '21027': ['NINJA RABBIT PINK'],\n",
              " '21028': ['NINJA RABBIT BLACK'],\n",
              " '21030': ['SPACE CADET RED'],\n",
              " '21031': ['SPACE CADET BLACK'],\n",
              " '21032': ['SPACE CADET WHITE'],\n",
              " '21033': ['JUMBO BAG CHARLIE AND LOLA TOYS'],\n",
              " '21034': ['REX CASH+CARRY JUMBO SHOPPER'],\n",
              " '21035': ['SET/2 RED RETROSPOT TEA TOWELS '],\n",
              " '21038': ['SET/4 MODERN VINTAGE COTTON NAPKINS'],\n",
              " '21039': ['RED RETROSPOT SHOPPING BAG'],\n",
              " '21040': ['MODERN VINTAGE COTTON SHOPPING BAG'],\n",
              " '21041': ['RED RETROSPOT OVEN GLOVE DOUBLE'],\n",
              " '21042': ['RED RETROSPOT APRON '],\n",
              " '21043': ['APRON MODERN VINTAGE COTTON'],\n",
              " '21051': ['RIBBONS PURSE '],\n",
              " '21054': [\"NURSE'S BAG SOFT TOY\"],\n",
              " '21055': ['TOOL BOX SOFT TOY '],\n",
              " '21056': [\"DOCTOR'S BAG SOFT TOY\"],\n",
              " '21058': ['PARTY INVITES WOODLAND'],\n",
              " '21059': ['PARTY INVITES DINOSAURS'],\n",
              " '21060': ['PARTY INVITES BALLOON GIRL'],\n",
              " '21061': ['PARTY INVITES FOOTBALL'],\n",
              " '21062': ['PARTY INVITES SPACEMAN'],\n",
              " '21063': ['PARTY INVITES JAZZ HEARTS'],\n",
              " '21064': ['BOOM BOX SPEAKER BOYS'],\n",
              " '21065': ['BOOM BOX SPEAKER GIRLS'],\n",
              " '21066': ['VINTAGE RED MUG'],\n",
              " '21067': ['VINTAGE RED TEATIME MUG'],\n",
              " '21068': ['VINTAGE BILLBOARD LOVE/HATE MUG'],\n",
              " '21069': ['VINTAGE BILLBOARD TEA MUG'],\n",
              " '21070': ['VINTAGE BILLBOARD MUG '],\n",
              " '21071': ['VINTAGE BILLBOARD DRINK ME MUG'],\n",
              " '21078': ['SET/20 STRAWBERRY PAPER NAPKINS '],\n",
              " '21080': ['SET/20 RED RETROSPOT PAPER NAPKINS '],\n",
              " '21084': ['SET/6 COLLAGE PAPER CUPS'],\n",
              " '21086': ['SET/6 RED SPOTTY PAPER CUPS'],\n",
              " '21087': ['SET/6 POSIES PAPER CUPS'],\n",
              " '21088': ['SET/6 FRUIT SALAD PAPER CUPS'],\n",
              " '21089': ['SET/6 GREEN SPRING PAPER CUPS'],\n",
              " '21090': ['SET/6 COLLAGE PAPER PLATES'],\n",
              " '21094': ['SET/6 RED SPOTTY PAPER PLATES'],\n",
              " '21095': ['SET/6 POSIES PAPER PLATES'],\n",
              " '21096': ['SET/6 FRUIT SALAD  PAPER PLATES'],\n",
              " '21098': ['CHRISTMAS TOILET ROLL'],\n",
              " '21100': ['CHARLIE AND LOLA CHARLOTTE BAG'],\n",
              " '21106': ['CREAM SLICE FLANNEL CHOCOLATE SPOT '],\n",
              " '21107': ['CREAM SLICE FLANNEL PINK SPOT '],\n",
              " '21108': ['FAIRY CAKE FLANNEL ASSORTED COLOUR'],\n",
              " '21109': ['LARGE CAKE TOWEL CHOCOLATE SPOTS'],\n",
              " '21110': ['LARGE CAKE TOWEL PINK SPOTS'],\n",
              " '21111': ['SWISS ROLL TOWEL, CHOCOLATE  SPOTS'],\n",
              " '21112': ['SWISS ROLL TOWEL PINK  SPOTS'],\n",
              " '21114': ['LAVENDER SCENTED FABRIC HEART'],\n",
              " '21115': ['ROSE CARAVAN DOORSTOP'],\n",
              " '21116': ['OWL DOORSTOP'],\n",
              " '21117': ['BLOND DOLL DOORSTOP'],\n",
              " '21121': ['SET/10 RED POLKADOT PARTY CANDLES'],\n",
              " '21122': ['SET/10 PINK POLKADOT PARTY CANDLES'],\n",
              " '21123': ['SET/10 IVORY POLKADOT PARTY CANDLES'],\n",
              " '21124': ['SET/10 BLUE POLKADOT PARTY CANDLES'],\n",
              " '21125': ['SET 6 FOOTBALL CELEBRATION CANDLES'],\n",
              " '21126': ['SET OF 6 GIRLS CELEBRATION CANDLES'],\n",
              " '21128': ['GOLD FISHING GNOME'],\n",
              " '21129': ['SILVER FISHING GNOME '],\n",
              " '21131': ['GOLD STANDING GNOME'],\n",
              " '21132': ['SILVER STANDING GNOME   '],\n",
              " '21135': ['VICTORIAN  METAL POSTCARD SPRING'],\n",
              " '21136': ['PAINTED METAL PEARS ASSORTED'],\n",
              " '21137': ['BLACK RECORD COVER FRAME'],\n",
              " '21143': ['ANTIQUE GLASS HEART DECORATION '],\n",
              " '21144': ['PINK POODLE HANGING DECORATION '],\n",
              " '21145': ['ANTIQUE GLASS PLACE SETTING'],\n",
              " '21147': ['JINGLE BELLS TREE DECORATION'],\n",
              " '21154': ['RED RETROSPOT OVEN GLOVE '],\n",
              " '21155': ['RED RETROSPOT PEG BAG'],\n",
              " '21156': ['RETROSPOT CHILDRENS APRON'],\n",
              " '21157': ['RED RETROSPOT WASHBAG'],\n",
              " '21158': ['MOODY GIRL DOOR HANGER '],\n",
              " '21159': ['MOODY BOY  DOOR HANGER '],\n",
              " '21161': ['KEEP OUT BOYS DOOR HANGER '],\n",
              " '21162': ['TOXIC AREA  DOOR HANGER '],\n",
              " '21163': ['DO NOT TOUCH MY STUFF DOOR HANGER '],\n",
              " '21164': ['HOME SWEET HOME METAL SIGN '],\n",
              " '21165': ['BEWARE OF THE CAT METAL SIGN '],\n",
              " '21166': ['COOK WITH WINE METAL SIGN '],\n",
              " '21167': ['WHITE SAGE INCENSE'],\n",
              " '21169': [\"YOU'RE CONFUSING ME METAL SIGN \"],\n",
              " '21171': ['BATHROOM METAL SIGN '],\n",
              " '21172': ['PARTY METAL SIGN '],\n",
              " '21174': ['POTTERING IN THE SHED METAL SIGN'],\n",
              " '21175': ['GIN AND TONIC DIET METAL SIGN'],\n",
              " '21179': ['NO JUNK MAIL METAL SIGN'],\n",
              " '21181': ['PLEASE ONE PERSON METAL SIGN'],\n",
              " '21187': ['WHITE BELL HONEYCOMB PAPER GARLAND '],\n",
              " '21188': ['3D HEARTS  HONEYCOMB PAPER GARLAND'],\n",
              " '21189': ['WHITE HONEYCOMB PAPER GARLAND '],\n",
              " '21190': ['PINK HEARTS PAPER GARLAND'],\n",
              " '21191': ['LARGE WHITE HONEYCOMB PAPER BELL  '],\n",
              " '21192': ['WHITE BELL HONEYCOMB PAPER '],\n",
              " '21194': ['PINK  HONEYCOMB PAPER FAN'],\n",
              " '21195': ['PINK  HONEYCOMB PAPER BALL '],\n",
              " '21196': ['ROUND WHITE CONFETTI IN TUBE'],\n",
              " '21197': ['MULTICOLOUR  CONFETTI IN TUBE'],\n",
              " '21198': ['WHITE HEART CONFETTI IN TUBE'],\n",
              " '21199': ['PINK  HEART CONFETTI IN TUBE'],\n",
              " '21200': ['MULTICOLOUR HONEYCOMB PAPER GARLAND'],\n",
              " '21201': ['TROPICAL  HONEYCOMB PAPER GARLAND '],\n",
              " '21202': ['DOLLY HONEYCOMB GARLAND'],\n",
              " '21204': ['DAISIES  HONEYCOMB GARLAND '],\n",
              " '21205': ['MULTICOLOUR 3D BALLS GARLAND'],\n",
              " '21206': ['STRAWBERRY HONEYCOMB  GARLAND '],\n",
              " '21207': ['SKULL AND CROSSBONES  GARLAND '],\n",
              " '21208': ['PASTEL COLOUR HONEYCOMB FAN'],\n",
              " '21209': ['MULTICOLOUR HONEYCOMB FAN'],\n",
              " '21210': ['SET OF 72 RETROSPOT PAPER  DOILIES'],\n",
              " '21211': ['SET OF 72 SKULL PAPER  DOILIES'],\n",
              " '21212': ['PACK OF 72 RETROSPOT CAKE CASES'],\n",
              " '21213': ['PACK OF 72 SKULL CAKE CASES'],\n",
              " '21215': ['IVORY PAPER CUP CAKE CASES '],\n",
              " '21216': ['SET 3 RETROSPOT TEA,COFFEE,SUGAR'],\n",
              " '21217': ['RED RETROSPOT ROUND CAKE TINS'],\n",
              " '21218': ['RED SPOTTY BISCUIT TIN'],\n",
              " '21219': ['SET/4 BADGES BALLOON GIRL'],\n",
              " '21220': ['SET/4 BADGES DOGS'],\n",
              " '21221': ['SET/4 BADGES CUTE CREATURES'],\n",
              " '21222': ['SET/4 BADGES BEETLES'],\n",
              " '21224': ['SET/4 SKULL BADGES'],\n",
              " '21226': ['POCKET MIRROR WOODLAND'],\n",
              " '21228': ['POCKET MIRROR \"GLAMOROUS\"'],\n",
              " '21231': ['SWEETHEART CERAMIC TRINKET BOX'],\n",
              " '21232': ['STRAWBERRY CERAMIC TRINKET POT'],\n",
              " '21238': ['RED RETROSPOT CUP'],\n",
              " '21239': ['PINK  POLKADOT CUP'],\n",
              " '21240': ['BLUE POLKADOT CUP'],\n",
              " '21242': ['RED RETROSPOT PLATE '],\n",
              " '21243': ['PINK POLKADOT PLATE '],\n",
              " '21244': ['BLUE POLKADOT PLATE '],\n",
              " '21245': ['GREEN POLKADOT PLATE '],\n",
              " '21246': ['RED RETROSPOT BIG BOWL'],\n",
              " '21248': ['DOOR HANGER  MUM + DADS ROOM'],\n",
              " '21249': ['WOODLAND  HEIGHT CHART STICKERS '],\n",
              " '21250': ['SET OF SKULL WALL STICKERS'],\n",
              " '21251': ['DINOSAUR HEIGHT CHART STICKER SET'],\n",
              " '21253': ['SET OF PICTURE FRAME  STICKERS'],\n",
              " '21257': ['VICTORIAN SEWING BOX MEDIUM'],\n",
              " '21258': ['VICTORIAN SEWING BOX LARGE'],\n",
              " '21259': ['VICTORIAN SEWING BOX SMALL '],\n",
              " '21260': ['FIRST AID TIN'],\n",
              " '21261': ['GREEN GOOSE FEATHER CHRISTMAS TREE '],\n",
              " '21262': ['WHITE GOOSE FEATHER CHRISTMAS TREE '],\n",
              " '21263': ['GREEN GOOSE FEATHER TREE 60CM'],\n",
              " '21264': ['WHITE GOOSE FEATHER TREE 60CM '],\n",
              " '21265': ['PINK GOOSE FEATHER TREE 60CM'],\n",
              " '21268': ['VINTAGE BLUE TINSEL REEL'],\n",
              " '21269': ['ANTIQUE CREAM CUTLERY SHELF '],\n",
              " '21270': ['ANTIQUE CREAM CUTLERY CUPBOARD'],\n",
              " '21272': ['SALLE DE BAIN HOOK'],\n",
              " '21275': ['ZINC TOP  2 DOOR WOODEN SHELF '],\n",
              " '21277': ['FRENCH STYLE EMBOSSED HEART CABINET'],\n",
              " '21278': ['VINTAGE KITCHEN PRINT PUDDINGS'],\n",
              " '21279': ['VINTAGE KITCHEN PRINT FRUITS'],\n",
              " '21280': ['VINTAGE KITCHEN PRINT VEGETABLES'],\n",
              " '21281': ['VINTAGE KITCHEN PRINT SEAFOOD'],\n",
              " '21284': ['RETROSPOT CANDLE  SMALL'],\n",
              " '21285': ['RETROSPOT CANDLE  MEDIUM'],\n",
              " '21286': ['RETROSPOT CANDLE  LARGE'],\n",
              " '21287': ['SCENTED VELVET LOUNGE CANDLE '],\n",
              " '21288': ['STRIPEY CHOCOLATE NESTING BOXES'],\n",
              " '21289': ['LARGE STRIPES CHOCOLATE GIFT BAG'],\n",
              " '21291': ['SMALL POLKADOT CHOCOLATE GIFT BAG '],\n",
              " '21292': ['SMALL STRIPES CHOCOLATE GIFT BAG '],\n",
              " '21293': ['MIRRORED DOVE WALL DECORATION'],\n",
              " '21294': ['ETCHED GLASS COASTER'],\n",
              " '21306': ['SET/4 DAISY MIRROR MAGNETS'],\n",
              " '21307': ['SET/4 BUTTERFLY MIRROR MAGNETS'],\n",
              " '21310': ['CAPIZ CHANDELIER'],\n",
              " '21311': ['SET/4 BIRD MIRROR MAGNETS '],\n",
              " '21313': ['GLASS HEART T-LIGHT HOLDER '],\n",
              " '21314': ['SMALL GLASS HEART TRINKET POT'],\n",
              " '21316': ['SMALL CHUNKY GLASS ROMAN  BOWL'],\n",
              " '21317': ['GLASS SPHERE CANDLE STAND MEDIUM'],\n",
              " '21318': ['GLASS CHALICE BLUE SMALL '],\n",
              " '21319': ['GLASS CHALICE GREEN  SMALL '],\n",
              " '21320': ['GLASS CHALICE GREEN  LARGE '],\n",
              " '21324': ['HANGING MEDINA LANTERN SMALL'],\n",
              " '21326': ['AGED GLASS SILVER T-LIGHT HOLDER'],\n",
              " '21327': ['SKULLS WRITING SET '],\n",
              " '21328': ['BALLOONS  WRITING SET '],\n",
              " '21329': ['DINOSAURS  WRITING SET '],\n",
              " '21331': ['MOROCCAN BEATEN METAL DISH LARGE'],\n",
              " '21332': ['MOROCCAN BEATEN METAL MIRROR'],\n",
              " '21333': ['CLASSIC WHITE FRAME'],\n",
              " '21336': ['GOLD WASHBAG'],\n",
              " '21340': ['CLASSIC METAL BIRDCAGE PLANT HOLDER'],\n",
              " '21344': ['MOROCCAN BEATEN METAL DISH'],\n",
              " '21348': ['PINK SPOTS CHOCOLATE NESTING BOXES '],\n",
              " '21349': ['IVY HEART WREATH'],\n",
              " '21351': ['CINAMMON & ORANGE WREATH'],\n",
              " '21352': ['EUCALYPTUS & PINECONE  WREATH'],\n",
              " '21354': ['TOAST ITS - BEST MUM'],\n",
              " '21355': ['TOAST ITS - I LOVE YOU '],\n",
              " '21356': ['TOAST ITS - FAIRY FLOWER'],\n",
              " '21357': ['TOAST ITS - DINOSAUR'],\n",
              " '21358': ['TOAST ITS - HAPPY BIRTHDAY'],\n",
              " '21359': ['RELAX LARGE WOOD LETTERS'],\n",
              " '21360': ['JOY LARGE WOOD LETTERS'],\n",
              " '21361': ['LOVE LARGE WOOD LETTERS '],\n",
              " '21363': ['HOME SMALL WOOD LETTERS'],\n",
              " '21364': ['PEACE SMALL WOOD LETTERS'],\n",
              " '21365': ['MIRRORED WALL ART STARS'],\n",
              " '21366': ['MIRRORED WALL ART PHOTO FRAMES'],\n",
              " '21367': ['MIRRORED WALL ART GENTS'],\n",
              " '21368': ['MIRRORED WALL ART LADIES'],\n",
              " '21369': ['MIRRORED WALL ART SPLODGES'],\n",
              " '21370': ['MIRRORED WALL ART FOXY'],\n",
              " '21371': ['MIRRORED WALL ART POPPIES'],\n",
              " '21372': ['MIRRORED WALL ART TABLE LAMP'],\n",
              " '21373': ['MIRRORED WALL ART SNOWFLAKES'],\n",
              " '21374': ['MIRRORED WALL ART SKULLS'],\n",
              " '21375': ['LARGE CAMPHOR WOOD FIELD MUSHROOM '],\n",
              " '21376': ['LARGE  TALL CAMPHOR WOOD TOADSTOOL '],\n",
              " '21377': ['SMALL CAMPHOR WOOD FIELD  MUSHROOM'],\n",
              " '21378': ['SMALL TALL CAMPHOR WOOD TOADSTOOL'],\n",
              " '21379': ['CAMPHOR WOOD PORTOBELLO MUSHROOM'],\n",
              " '21380': ['WOODEN HAPPY BIRTHDAY GARLAND'],\n",
              " '21381': ['MINI WOODEN HAPPY BIRTHDAY GARLAND'],\n",
              " '21382': ['SET/4 SPRING FLOWER DECORATION'],\n",
              " '21383': ['PACK OF 12 STICKY BUNNIES'],\n",
              " '21385': ['IVORY HANGING DECORATION  HEART'],\n",
              " '21386': ['IVORY HANGING DECORATION  EGG'],\n",
              " '21389': ['IVORY HANGING DECORATION  BIRD'],\n",
              " '21390': ['FILIGRIS HEART WITH BUTTERFLY'],\n",
              " '21391': ['FRENCH LAVENDER SCENT HEART'],\n",
              " '21392': ['RED POLKADOT PUDDING BOWL'],\n",
              " '21393': ['BLUE POLKADOT PUDDING BOWL'],\n",
              " '21394': ['RED POLKADOT BEAKER '],\n",
              " '21395': ['BLUE POLKADOT BEAKER '],\n",
              " '21397': ['BLUE POLKADOT EGG CUP '],\n",
              " '21398': ['RED POLKADOT COFFEE  MUG'],\n",
              " '21399': ['BLUE POLKADOT COFFEE MUG'],\n",
              " '21400': ['RED PUDDING SPOON'],\n",
              " '21401': ['BLUE PUDDING SPOON'],\n",
              " '21402': ['RED  EGG  SPOON'],\n",
              " '21403': ['BLUE EGG  SPOON'],\n",
              " '21407': ['BROWN CHECK CAT DOORSTOP '],\n",
              " '21408': ['SPOTTY PINK DUCK DOORSTOP'],\n",
              " '21411': ['GINGHAM HEART  DOORSTOP RED'],\n",
              " '21412': ['VINTAGE GOLD TINSEL REEL'],\n",
              " '21413': ['PERIWINKLE T-LIGHT HOLDER'],\n",
              " '21414': ['SCALLOP SHELL SOAP DISH'],\n",
              " '21415': ['CLAM SHELL SMALL '],\n",
              " '21416': ['CLAM SHELL LARGE'],\n",
              " '21417': ['COCKLE SHELL DISH'],\n",
              " '21418': ['STARFISH SOAP DISH'],\n",
              " '21420': ['OYSTER TRINKET BOX'],\n",
              " '21421': ['PORCELAIN ROSE LARGE '],\n",
              " '21422': ['PORCELAIN ROSE SMALL'],\n",
              " '21424': ['WOODLAND STORAGE BOX LARGE '],\n",
              " '21425': ['SKULLS STORAGE BOX LARGE'],\n",
              " '21426': ['WOODLAND STORAGE BOX SMALL'],\n",
              " '21427': ['SKULLS STORAGE BOX SMALL'],\n",
              " '21428': ['SET3 BOOK BOX GREEN GINGHAM FLOWER '],\n",
              " '21429': ['RED GINGHAM ROSE JEWELLERY BOX'],\n",
              " '21430': ['SET/3 RED GINGHAM ROSE STORAGE BOX'],\n",
              " '21439': ['BASKET OF TOADSTOOLS'],\n",
              " '21441': ['BLUE BIRDHOUSE DECORATION'],\n",
              " '21442': ['GREEN BIRDHOUSE DECORATION'],\n",
              " '21445': ['12 PINK ROSE PEG PLACE SETTINGS'],\n",
              " '21446': ['12 RED ROSE PEG PLACE SETTINGS'],\n",
              " '21447': ['12 IVORY ROSE PEG PLACE SETTINGS'],\n",
              " '21448': ['12 DAISY PEGS IN WOOD BOX'],\n",
              " '21452': ['TOADSTOOL MONEY BOX'],\n",
              " '21454': ['PAINTED PINK RABBIT '],\n",
              " '21455': ['PAINTED YELLOW WOODEN DAISY'],\n",
              " '21456': ['2 PICTURE BOOK EGGS EASTER CHICKS'],\n",
              " '21457': ['2 PICTURE BOOK EGGS EASTER DUCKS'],\n",
              " '21458': ['2 PICTURE BOOK EGGS EASTER BUNNY'],\n",
              " '21459': ['YELLOW EASTER EGG HUNT START POST'],\n",
              " '21460': ['GREEN EASTER EGG HUNT START POST'],\n",
              " '21461': ['BLUE EASTER EGG HUNT START POST'],\n",
              " '21462': ['NURSERY A,B,C PAINTED LETTERS'],\n",
              " '21463': ['MIRRORED DISCO BALL '],\n",
              " '21464': ['DISCO BALL ROTATOR BATTERY OPERATED'],\n",
              " '21465': ['PINK FLOWER CROCHET FOOD COVER'],\n",
              " '21466': ['RED FLOWER CROCHET FOOD COVER'],\n",
              " '21467': ['CHERRY CROCHET FOOD COVER'],\n",
              " '21468': ['BUTTERFLY CROCHET FOOD COVER'],\n",
              " '21469': ['POLKA DOT RAFFIA FOOD COVER'],\n",
              " '21470': ['FLOWER VINE RAFFIA FOOD COVER'],\n",
              " '21471': ['STRAWBERRY RAFFIA FOOD COVER'],\n",
              " '21472': ['LADYBIRD + BEE RAFFIA FOOD COVER'],\n",
              " '21473': ['SWEETHEART CREAM STEEL TABLE RECT'],\n",
              " '21476': ['STEEL SWEETHEART ROUND TABLE CREAM'],\n",
              " '21479': ['WHITE SKULL HOT WATER BOTTLE '],\n",
              " '21481': ['FAWN BLUE HOT WATER BOTTLE'],\n",
              " '21484': ['CHICK GREY HOT WATER BOTTLE'],\n",
              " '21485': ['RETROSPOT HEART HOT WATER BOTTLE'],\n",
              " '21486': ['PINK HEART DOTS HOT WATER BOTTLE'],\n",
              " '21488': ['RED WHITE SCARF  HOT WATER BOTTLE'],\n",
              " '21494': ['ROTATING LEAVES T-LIGHT HOLDER'],\n",
              " '21495': ['SKULLS AND CROSSBONES WRAP'],\n",
              " '21497': ['FANCY FONTS BIRTHDAY WRAP'],\n",
              " '21498': ['RED RETROSPOT WRAP '],\n",
              " '21499': ['BLUE POLKADOT WRAP'],\n",
              " '21500': ['PINK POLKADOT WRAP '],\n",
              " '21503': ['TOYBOX  WRAP '],\n",
              " '21504': ['SKULLS GREETING CARD'],\n",
              " '21506': ['FANCY FONT BIRTHDAY CARD, '],\n",
              " '21507': ['ELEPHANT BIRTHDAY CARD '],\n",
              " '21508': ['VINTAGE KID DOLLY CARD '],\n",
              " '21509': ['COWBOYS AND INDIANS BIRTHDAY CARD '],\n",
              " '21518': ['BANK ACCOUNT  GREETING  CARD '],\n",
              " '21519': ['GIN & TONIC DIET GREETING CARD '],\n",
              " '21520': ['BOOZE & WOMEN GREETING CARD '],\n",
              " '21523': ['DOORMAT FANCY FONT HOME SWEET HOME'],\n",
              " '21524': ['DOORMAT SPOTTY HOME SWEET HOME'],\n",
              " '21527': ['RED RETROSPOT TRADITIONAL TEAPOT '],\n",
              " '21528': ['DAIRY MAID TRADITIONAL TEAPOT '],\n",
              " '21530': ['DAIRY MAID TOASTRACK'],\n",
              " '21531': ['RED RETROSPOT SUGAR JAM BOWL'],\n",
              " '21533': ['RETROSPOT LARGE MILK JUG'],\n",
              " '21534': ['DAIRY MAID LARGE MILK JUG'],\n",
              " '21535': ['RED RETROSPOT SMALL MILK JUG'],\n",
              " '21537': ['RED RETROSPOT PUDDING BOWL'],\n",
              " '21538': ['DAIRY MAID  PUDDING BOWL'],\n",
              " '21539': ['RED RETROSPOT BUTTER DISH'],\n",
              " '21544': ['SKULLS  WATER TRANSFER TATTOOS '],\n",
              " '21547': ['CERAMIC BIRDHOUSE CRESTED TIT SMALL'],\n",
              " '21555': ['CERAMIC STRAWBERRY TRINKET TRAY'],\n",
              " '21556': ['CERAMIC STRAWBERRY MONEY BOX'],\n",
              " '21557': ['SET OF 6 FUNKY BEAKERS'],\n",
              " '21558': ['SKULL LUNCH BOX WITH CUTLERY '],\n",
              " '21559': ['STRAWBERRY LUNCH BOX WITH CUTLERY'],\n",
              " '21561': ['DINOSAUR LUNCH BOX WITH CUTLERY'],\n",
              " '21562': ['HAWAIIAN GRASS SKIRT '],\n",
              " '21563': ['RED HEART SHAPE LOVE BUCKET '],\n",
              " '21564': ['PINK  HEART SHAPE LOVE BUCKET '],\n",
              " '21576': ['LETS GO SHOPPING COTTON TOTE BAG'],\n",
              " '21577': ['SAVE THE PLANET COTTON TOTE BAG'],\n",
              " '21578': ['WOODLAND DESIGN  COTTON TOTE BAG'],\n",
              " '21579': ['LOLITA  DESIGN  COTTON TOTE BAG'],\n",
              " '21580': ['RABBIT  DESIGN  COTTON TOTE BAG'],\n",
              " '21581': ['SKULLS  DESIGN  COTTON TOTE BAG'],\n",
              " '21584': ['RETROSPOT SMALL TUBE MATCHES'],\n",
              " '21586': ['KINGS CHOICE GIANT TUBE MATCHES'],\n",
              " '21587': ['COSY HOUR GIANT TUBE MATCHES'],\n",
              " '21588': ['RETROSPOT GIANT TUBE MATCHES'],\n",
              " '21591': ['COSY HOUR CIGAR BOX MATCHES '],\n",
              " '21592': ['RETROSPOT CIGAR BOX MATCHES '],\n",
              " '21609': ['SET 12 LAVENDER  BOTANICAL T-LIGHTS'],\n",
              " '21613': ['S/12 VANILLA  BOTANICAL T-LIGHTS'],\n",
              " '21614': ['SET OF 12 ROSE BOTANICAL T-LIGHTS'],\n",
              " '21615': ['4 LAVENDER BOTANICAL DINNER CANDLES'],\n",
              " '21616': ['4 PEAR BOTANICAL DINNER CANDLES'],\n",
              " '21617': ['4 LILY  BOTANICAL DINNER CANDLES'],\n",
              " '21618': ['4 WILDFLOWER BOTANICAL CANDLES'],\n",
              " '21619': ['4 VANILLA BOTANICAL CANDLES'],\n",
              " '21620': ['SET OF 4 ROSE BOTANICAL CANDLES'],\n",
              " '21621': ['VINTAGE UNION JACK BUNTING'],\n",
              " '21622': ['VINTAGE UNION JACK CUSHION COVER'],\n",
              " '21623': ['VINTAGE UNION JACK MEMOBOARD'],\n",
              " '21624': ['VINTAGE UNION JACK DOORSTOP'],\n",
              " '21625': ['VINTAGE UNION JACK APRON'],\n",
              " '21626': ['VINTAGE UNION JACK PENNANT'],\n",
              " '21627': ['ELEPHANT CARNIVAL POUFFE'],\n",
              " '21628': ['TRIANGULAR POUFFE VINTAGE '],\n",
              " '21629': ['SQUARE FLOOR CUSHION VINTAGE RED'],\n",
              " '21630': ['FLOOR CUSHION ELEPHANT CARNIVAL'],\n",
              " '21631': ['HIPPY CHIC DECORATIVE PARASOL'],\n",
              " '21632': ['VINTAGE PINK DECORATIVE PARASOL'],\n",
              " '21633': ['SUNFLOWER DECORATIVE PARASOL'],\n",
              " '21634': ['ASSORTED MINI MADRAS NOTEBOOK'],\n",
              " '21635': ['MADRAS NOTEBOOK LARGE '],\n",
              " '21636': ['MADRAS NOTEBOOK MEDIUM'],\n",
              " '21637': ['ASSORTED SANSKRIT MINI NOTEBOOK'],\n",
              " '21638': ['ASSORTED TUTTI FRUTTI NOTEBOOK'],\n",
              " '21640': ['ASSORTED TUTTI FRUTTI  FOB NOTEBOOK'],\n",
              " '21641': ['ASSORTED TUTTI FRUTTI KEYRING BALL'],\n",
              " '21642': ['ASSORTED TUTTI FRUTTI PEN'],\n",
              " '21643': ['ASSORTED TUTTI FRUTTI MIRROR'],\n",
              " '21644': ['ASSORTED TUTTI FRUTTI HEART BOX'],\n",
              " '21645': ['ASSORTED TUTTI FRUTTI ROUND BOX'],\n",
              " '21647': ['ASSORTED TUTTI FRUTTI LARGE PURSE'],\n",
              " '21648': ['ASSORTED TUTTI FRUTTI SMALL PURSE'],\n",
              " '21650': ['ASSORTED TUTTI FRUTTI BRACELET'],\n",
              " '21651': ['HANGING GLASS ETCHED TEALIGHT'],\n",
              " '21654': ['RIDGED GLASS FINGER BOWL'],\n",
              " '21655': ['HANGING RIDGE GLASS T-LIGHT HOLDER'],\n",
              " '21656': ['RIDGED GLASS POSY VASE '],\n",
              " '21657': ['MILK BOTTLE WITH GLASS STOPPER '],\n",
              " '21658': ['GLASS  BEURRE DISH'],\n",
              " '21661': ['VINTAGE GLASS TEA CADDY'],\n",
              " '21662': ['VINTAGE GLASS COFFEE CADDY'],\n",
              " '21664': ['RIDGED GLASS STORAGE JAR CREAM LID'],\n",
              " '21666': ['RIDGED GLASS T-LIGHT HOLDER'],\n",
              " '21667': ['GLASS CAKE COVER AND PLATE'],\n",
              " '21668': ['RED STRIPE CERAMIC DRAWER KNOB'],\n",
              " '21669': ['BLUE STRIPE CERAMIC DRAWER KNOB'],\n",
              " '21670': ['BLUE SPOT CERAMIC DRAWER KNOB'],\n",
              " '21671': ['RED SPOT CERAMIC DRAWER KNOB'],\n",
              " '21672': ['WHITE SPOT RED CERAMIC DRAWER KNOB'],\n",
              " '21673': ['WHITE SPOT BLUE CERAMIC DRAWER KNOB'],\n",
              " '21675': ['BUTTERFLIES STICKERS'],\n",
              " '21676': ['FLOWERS  STICKERS'],\n",
              " '21677': ['HEARTS  STICKERS'],\n",
              " '21678': ['PAISLEY PATTERN  STICKERS'],\n",
              " '21679': ['SKULLS  STICKERS'],\n",
              " '21680': ['WOODLAND  STICKERS'],\n",
              " '21681': ['GIANT MEDINA STAMPED METAL BOWL '],\n",
              " '21682': ['LARGE MEDINA STAMPED METAL BOWL '],\n",
              " '21683': ['MEDIUM MEDINA STAMPED METAL BOWL '],\n",
              " '21684': ['SMALL MEDINA STAMPED METAL BOWL '],\n",
              " '21686': ['MEDINA STAMPED METAL STOOL'],\n",
              " '21688': ['SILVER PLATE CANDLE BOWL SMALL'],\n",
              " '21689': ['SILVER VANILLA  FLOWER CANDLE POT'],\n",
              " '21690': ['SILVER  CANDLEPOT JARDIN '],\n",
              " '21692': ['SILVER LATTICE VANILLA CANDLE POT'],\n",
              " '21693': ['SMALL HAMMERED SILVER CANDLEPOT '],\n",
              " '21694': ['SMALL REGAL  SILVER CANDLEPOT '],\n",
              " '21695': ['SMALL SILVER FLOWER CANDLE POT'],\n",
              " '21696': ['SMALL SILVER TRELLIS CANDLEPOT'],\n",
              " '21698': ['MOCK LOBSTER FRIDGE MAGNET'],\n",
              " '21700': ['BIG DOUGHNUT FRIDGE MAGNETS'],\n",
              " '21703': ['BAG 125g SWIRLY MARBLES'],\n",
              " '21704': ['BAG 250g SWIRLY MARBLES'],\n",
              " '21705': ['BAG 500g SWIRLY MARBLES'],\n",
              " '21706': ['FOLDING UMBRELLA RED/WHITE POLKADOT'],\n",
              " '21707': ['FOLDING UMBRELLA BLACKBLUE POLKADOT'],\n",
              " '21708': ['FOLDING UMBRELLA CREAM POLKADOT'],\n",
              " '21709': ['FOLDING UMBRELLA CHOCOLATE POLKADOT'],\n",
              " '21710': ['FOLDING UMBRELLA PINKWHITE POLKADOT'],\n",
              " '21711': ['FOLDING UMBRELLA WHITE/RED POLKADOT'],\n",
              " '21713': ['CITRONELLA CANDLE FLOWERPOT'],\n",
              " '21714': ['CITRONELLA CANDLE GARDEN POT'],\n",
              " '21715': ['GIRLS VINTAGE TIN SEASIDE BUCKET'],\n",
              " '21716': ['BOYS VINTAGE TIN SEASIDE BUCKET'],\n",
              " '21717': ['EASTER TIN BUCKET'],\n",
              " '21718': ['RED METAL BEACH SPADE '],\n",
              " '21719': ['LOVELY BONBON STICKER SHEET'],\n",
              " '21720': ['CAKE SHOP  STICKER SHEET'],\n",
              " '21721': ['CANDY SHOP  STICKER SHEET'],\n",
              " '21722': ['SWEET PUDDING STICKER SHEET'],\n",
              " '21723': ['ALPHABET HEARTS STICKER SHEET'],\n",
              " '21724': ['PANDA AND BUNNIES STICKER SHEET'],\n",
              " '21725': ['SWEETIES  STICKERS'],\n",
              " '21726': ['MULTI HEARTS  STICKERS'],\n",
              " '21730': ['GLASS STAR FROSTED T-LIGHT HOLDER'],\n",
              " '21731': ['RED TOADSTOOL LED NIGHT LIGHT'],\n",
              " '21733': ['RED HANGING HEART T-LIGHT HOLDER'],\n",
              " '21735': ['TWO DOOR CURIO CABINET'],\n",
              " '21736': ['GOLD SCROLL GLASS T-LIGHT HOLDER'],\n",
              " '21738': ['COSY SLIPPER SHOES SMALL  RED '],\n",
              " '21739': ['COSY SLIPPER SHOES SMALL GREEN'],\n",
              " '21741': ['COSY SLIPPER SHOES LARGE GREEN'],\n",
              " '21742': ['LARGE ROUND WICKER PLATTER '],\n",
              " '21743': ['STAR PORTABLE TABLE LIGHT '],\n",
              " '21744': ['SNOWFLAKE PORTABLE TABLE LIGHT '],\n",
              " '21745': ['GAOLERS KEYS DECORATIVE GARDEN '],\n",
              " '21746': ['SMALL RED RETROSPOT WINDMILL'],\n",
              " '21747': ['SMALL SKULL WINDMILL'],\n",
              " '21749': ['LARGE RED RETROSPOT WINDMILL'],\n",
              " '21750': ['LARGE SKULL WINDMILL'],\n",
              " '21754': ['HOME BUILDING BLOCK WORD'],\n",
              " '21755': ['LOVE BUILDING BLOCK WORD'],\n",
              " '21756': ['BATH BUILDING BLOCK WORD'],\n",
              " '21757': ['LIGHTHOUSE PRINTED METAL SIGN'],\n",
              " '21758': ['VINTAGE SHELLS PRINT'],\n",
              " '21761': ['WOOD AND GLASS MEDICINE CABINET'],\n",
              " '21763': ['VINTAGE WOODEN BAR STOOL'],\n",
              " '21769': ['VINTAGE POST OFFICE CABINET'],\n",
              " '21770': ['OPEN CLOSED METAL SIGN'],\n",
              " '21773': ['DECORATIVE ROSE BATHROOM BOTTLE'],\n",
              " '21774': ['DECORATIVE CATS BATHROOM BOTTLE'],\n",
              " '21775': ['DECORATIVE FLORE BATHROOM BOTTLE'],\n",
              " '21777': ['RECIPE BOX WITH METAL HEART'],\n",
              " '21781': ['MA CAMPAGNE CUTLERY BOX'],\n",
              " '21784': ['SHOE SHINE BOX '],\n",
              " '21785': ['RAIN PONCHO '],\n",
              " '21786': ['POLKADOT RAIN HAT '],\n",
              " '21787': ['RAIN PONCHO RETROSPOT'],\n",
              " '21788': ['KIDS RAIN MAC BLUE'],\n",
              " '21789': ['KIDS RAIN MAC PINK'],\n",
              " '21790': ['VINTAGE SNAP CARDS'],\n",
              " '21791': ['VINTAGE HEADS AND TAILS CARD GAME '],\n",
              " '21792': ['CLASSIC FRENCH STYLE BASKET GREEN '],\n",
              " '21793': ['CLASSIC FRENCH STYLE BASKET BROWN'],\n",
              " '21794': ['CLASSIC FRENCH STYLE BASKET NATURAL'],\n",
              " '21801': ['CHRISTMAS TREE DECORATION WITH BELL'],\n",
              " '21802': ['CHRISTMAS TREE HEART DECORATION'],\n",
              " '21803': ['CHRISTMAS TREE STAR DECORATION'],\n",
              " '21804': ['WHITE CHRISTMAS GARLAND STARS TREES'],\n",
              " '21807': ['WHITE CHRISTMAS STAR DECORATION'],\n",
              " '21808': ['CHRISTMAS GARLAND STARS,TREES'],\n",
              " '21809': ['CHRISTMAS HANGING TREE WITH BELL'],\n",
              " '21810': ['CHRISTMAS HANGING STAR WITH BELL'],\n",
              " '21811': ['HANGING HEART WITH BELL'],\n",
              " '21812': ['GARLAND WITH HEARTS AND BELLS'],\n",
              " '21813': ['GARLAND WITH STARS AND BELLS'],\n",
              " '21814': ['HEART T-LIGHT HOLDER '],\n",
              " '21815': ['STAR  T-LIGHT HOLDER '],\n",
              " '21816': ['CHRISTMAS TREE T-LIGHT HOLDER'],\n",
              " '21817': ['GLITTER CHRISTMAS TREE'],\n",
              " '21818': ['GLITTER HEART DECORATION'],\n",
              " '21819': ['GLITTER CHRISTMAS STAR '],\n",
              " '21820': ['GLITTER HEART GARLAND WITH BELLS '],\n",
              " '21821': ['GLITTER STAR GARLAND WITH BELLS '],\n",
              " '21822': ['GLITTER CHRISTMAS TREE WITH BELLS'],\n",
              " '21823': ['PAINTED METAL HEART WITH HOLLY BELL'],\n",
              " '21824': ['PAINTED METAL STAR WITH HOLLY BELLS'],\n",
              " '21826': ['EIGHT PIECE DINOSAUR SET'],\n",
              " '21827': ['EIGHT PIECE CREEPY CRAWLIE SET'],\n",
              " '21828': ['EIGHT PIECE SNAKE  SET'],\n",
              " '21829': ['DINOSAUR KEYRINGS ASSORTED'],\n",
              " '21830': ['ASSORTED CREEPY CRAWLIES'],\n",
              " '21832': ['CHOCOLATE CALCULATOR'],\n",
              " '21833': ['CAMOUFLAGE LED TORCH'],\n",
              " '21836': ['GINGHAM OVEN GLOVE RED HEART '],\n",
              " '21839': ['MUMMY MOUSE RED GINGHAM RIBBON'],\n",
              " '21841': ['BABY MOUSE RED GINGHAM DRESS'],\n",
              " '21843': ['RED RETROSPOT CAKE STAND'],\n",
              " '21844': ['RED RETROSPOT MUG'],\n",
              " '21845': ['DAIRY MAID STRIPE MUG'],\n",
              " '21846': ['PINK DIAMANTE PEN IN GIFT BOX'],\n",
              " '21847': ['GREEN  DIAMANTE PEN IN GIFT BOX'],\n",
              " '21849': ['SILVER DIAMANTE PEN IN GIFT BOX'],\n",
              " '21850': ['BLUE  DIAMANTE PEN IN GIFT BOX'],\n",
              " '21851': ['LILAC DIAMANTE PEN IN GIFT BOX'],\n",
              " '21864': ['UNION JACK FLAG PASSPORT COVER '],\n",
              " '21865': ['PINK UNION JACK  PASSPORT COVER '],\n",
              " '21866': ['UNION JACK FLAG LUGGAGE TAG'],\n",
              " '21867': ['PINK UNION JACK  LUGGAGE TAG'],\n",
              " '21868': ['POTTING SHED TEA MUG'],\n",
              " '21870': ['I CAN ONLY PLEASE ONE PERSON MUG'],\n",
              " '21871': ['SAVE THE PLANET MUG'],\n",
              " '21872': ['GLAMOROUS  MUG'],\n",
              " '21873': [\"IF YOU CAN'T STAND THE HEAT MUG\"],\n",
              " '21874': ['GIN AND TONIC MUG'],\n",
              " '21875': ['KINGS CHOICE MUG'],\n",
              " '21876': ['POTTERING MUG'],\n",
              " '21877': ['HOME SWEET HOME MUG'],\n",
              " '21878': ['PACK OF 6 SANDCASTLE FLAGS ASSORTED'],\n",
              " '21879': ['HEARTS GIFT TAPE'],\n",
              " '21880': ['RED RETROSPOT TAPE'],\n",
              " '21881': ['CUTE CATS TAPE'],\n",
              " '21882': ['SKULLS TAPE'],\n",
              " '21883': ['STARS GIFT TAPE '],\n",
              " '21884': ['CAKES AND BOWS GIFT  TAPE'],\n",
              " '21888': ['BINGO SET'],\n",
              " '21889': ['WOODEN BOX OF DOMINOES'],\n",
              " '21890': ['S/6 WOODEN SKITTLES IN COTTON BAG'],\n",
              " '21891': ['TRADITIONAL WOODEN SKIPPING ROPE'],\n",
              " '21892': ['TRADITIONAL WOODEN CATCH CUP GAME '],\n",
              " '21894': ['POTTING SHED SEED ENVELOPES'],\n",
              " '21895': [\"POTTING SHED SOW 'N' GROW SET\"],\n",
              " '21896': ['POTTING SHED TWINE'],\n",
              " '21897': ['POTTING SHED CANDLE CITRONELLA'],\n",
              " '21898': ['POTTING SHED ROSE CANDLE'],\n",
              " '21899': ['GARAGE KEY FOB'],\n",
              " '21900': ['KEY FOB , SHED'],\n",
              " '21901': ['KEY FOB , BACK DOOR '],\n",
              " '21902': ['KEY FOB , FRONT  DOOR '],\n",
              " '21903': ['MAN FLU METAL SIGN'],\n",
              " '21904': ['HOUSE WRECKING METAL SIGN '],\n",
              " '21905': ['MORE BUTTER METAL SIGN '],\n",
              " '21906': ['PHARMACIE FIRST AID TIN'],\n",
              " '21907': [\"I'M ON HOLIDAY METAL SIGN\"],\n",
              " '21908': ['CHOCOLATE THIS WAY METAL SIGN'],\n",
              " '21910': ['WAY OUT METAL SIGN '],\n",
              " '21911': ['GARDEN METAL SIGN '],\n",
              " '21912': ['VINTAGE SNAKES & LADDERS'],\n",
              " '21913': ['VINTAGE SEASIDE JIGSAW PUZZLES'],\n",
              " '21914': ['BLUE HARMONICA IN BOX '],\n",
              " '21915': ['RED  HARMONICA IN BOX '],\n",
              " '21916': ['SET 12 RETRO WHITE CHALK STICKS'],\n",
              " '21917': ['SET 12 KIDS  WHITE CHALK STICKS'],\n",
              " '21918': ['SET 12 KIDS COLOUR  CHALK STICKS'],\n",
              " '21922': ['UNION STRIPE WITH FRINGE  HAMMOCK'],\n",
              " '21925': ['UNION STRIPE CUSHION COVER '],\n",
              " '21926': ['RED/CREAM STRIPE CUSHION COVER '],\n",
              " '21927': ['BLUE/CREAM STRIPE CUSHION COVER '],\n",
              " '21928': ['JUMBO BAG SCANDINAVIAN BLUE PAISLEY'],\n",
              " '21929': ['JUMBO BAG PINK VINTAGE PAISLEY'],\n",
              " '21930': ['JUMBO STORAGE BAG SKULLS'],\n",
              " '21931': ['JUMBO STORAGE BAG SUKI'],\n",
              " '21932': ['SCANDINAVIAN PAISLEY PICNIC BAG'],\n",
              " '21933': ['PINK VINTAGE PAISLEY PICNIC BAG'],\n",
              " '21934': ['SKULL SHOULDER BAG'],\n",
              " '21935': ['SUKI  SHOULDER BAG'],\n",
              " '21936': ['RED RETROSPOT PICNIC BAG'],\n",
              " '21937': ['STRAWBERRY   PICNIC BAG'],\n",
              " '21942': ['SKULLS DESIGN FLANNEL'],\n",
              " '21943': ['CAKES AND RABBITS DESIGN FLANNEL '],\n",
              " '21944': ['KITTENS DESIGN FLANNEL'],\n",
              " '21945': ['STRAWBERRIES  DESIGN FLANNEL '],\n",
              " '21946': ['PARTY TIME DESIGN FLANNEL'],\n",
              " '21947': ['SET OF 6 HEART CHOPSTICKS'],\n",
              " '21948': ['SET OF 6 CAKE CHOPSTICKS'],\n",
              " '21949': ['SET OF 6 STRAWBERRY CHOPSTICKS'],\n",
              " '21955': ['DOORMAT UNION JACK GUNS AND ROSES'],\n",
              " '21967': ['PACK OF 12 SKULL TISSUES'],\n",
              " '21972': ['SET OF 36 DINOSAUR PAPER DOILIES'],\n",
              " '21973': ['SET OF 36 MUSHROOM PAPER DOILIES'],\n",
              " '21974': ['SET OF 36 PAISLEY FLOWER DOILIES'],\n",
              " '21975': ['PACK OF 60 DINOSAUR CAKE CASES'],\n",
              " '21976': ['PACK OF 60 MUSHROOM CAKE CASES'],\n",
              " '21977': ['PACK OF 60 PINK PAISLEY CAKE CASES'],\n",
              " '21980': ['PACK OF 12 RED RETROSPOT TISSUES '],\n",
              " '21981': ['PACK OF 12 WOODLAND TISSUES '],\n",
              " '21982': ['PACK OF 12 SUKI TISSUES '],\n",
              " '21983': ['PACK OF 12 BLUE PAISLEY TISSUES '],\n",
              " '21984': ['PACK OF 12 PINK PAISLEY TISSUES '],\n",
              " '21985': ['PACK OF 12 HEARTS DESIGN TISSUES '],\n",
              " '21986': ['PACK OF 12 PINK POLKADOT TISSUES'],\n",
              " '21987': ['PACK OF 6 SKULL PAPER CUPS'],\n",
              " '21988': ['PACK OF 6 SKULL PAPER PLATES'],\n",
              " '21989': ['PACK OF 20 SKULL PAPER NAPKINS'],\n",
              " '21990': ['MODERN FLORAL STATIONERY SET'],\n",
              " '21991': ['BOHEMIAN COLLAGE STATIONERY SET'],\n",
              " '21992': ['VINTAGE PAISLEY STATIONERY SET'],\n",
              " '21993': ['FLORAL FOLK STATIONERY SET'],\n",
              " '22021': ['BLUE FELT EASTER EGG BASKET'],\n",
              " '22023': ['EMPIRE BIRTHDAY CARD'],\n",
              " '22024': ['RAINY LADIES BIRTHDAY CARD'],\n",
              " '22025': ['RING OF ROSES BIRTHDAY CARD'],\n",
              " '22026': ['BANQUET BIRTHDAY  CARD  '],\n",
              " '22027': ['TEA PARTY BIRTHDAY CARD'],\n",
              " '22028': ['PENNY FARTHING BIRTHDAY CARD'],\n",
              " '22029': ['SPACEBOY BIRTHDAY CARD'],\n",
              " '22030': ['SWALLOWS GREETING CARD'],\n",
              " '22031': ['BOTANICAL LAVENDER BIRTHDAY CARD'],\n",
              " '22032': ['BOTANICAL LILY GREETING CARD'],\n",
              " '22033': ['BOTANICAL ROSE GREETING CARD'],\n",
              " '22034': ['ROBIN CHRISTMAS CARD'],\n",
              " '22035': ['VINTAGE CARAVAN GREETING CARD '],\n",
              " '22037': ['ROBOT BIRTHDAY CARD'],\n",
              " '22038': ['BOTANICAL LAVENDER GIFT WRAP '],\n",
              " '22039': ['BOTANICAL LILY GIFT WRAP'],\n",
              " '22040': ['BOTANICAL ROSE GIFT WRAP'],\n",
              " '22041': ['RECORD FRAME 7\" SINGLE SIZE '],\n",
              " '22042': ['CHRISTMAS CARD SINGING ANGEL'],\n",
              " '22043': ['CHRISTMAS CARD SCREEN PRINT '],\n",
              " '22044': ['CHRISTMAS CARD STACK OF PRESENTS'],\n",
              " '22045': ['SPACEBOY GIFT WRAP'],\n",
              " '22046': ['TEA PARTY  WRAPPING PAPER '],\n",
              " '22047': ['EMPIRE GIFT WRAP'],\n",
              " '22048': ['BIRTHDAY BANQUET GIFT WRAP'],\n",
              " '22049': ['WRAP CHRISTMAS SCREEN PRINT'],\n",
              " '22050': ['PINK PAISLEY ROSE GIFT WRAP'],\n",
              " '22051': ['BLUE SCANDINAVIAN PAISLEY WRAP'],\n",
              " '22052': ['VINTAGE CARAVAN GIFT WRAP'],\n",
              " '22053': ['EMPIRE DESIGN ROSETTE'],\n",
              " '22055': ['MINI CAKE STAND  HANGING STRAWBERY'],\n",
              " '22057': ['CERAMIC PLATE STRAWBERRY DESIGN'],\n",
              " '22059': ['CERAMIC STRAWBERRY DESIGN MUG'],\n",
              " '22060': ['LARGE CAKE STAND HANGING HEARTS'],\n",
              " '22061': ['LARGE CAKE STAND  HANGING STRAWBERY'],\n",
              " '22062': ['CERAMIC BOWL WITH LOVE HEART DESIGN'],\n",
              " '22063': ['CERAMIC BOWL WITH STRAWBERRY DESIGN'],\n",
              " '22064': ['PINK DOUGHNUT TRINKET POT '],\n",
              " '22065': ['CHRISTMAS PUDDING TRINKET POT '],\n",
              " '22066': ['LOVE HEART TRINKET POT'],\n",
              " '22067': ['CHOC TRUFFLE GOLD TRINKET POT '],\n",
              " '22068': ['BLACK PIRATE TREASURE CHEST'],\n",
              " '22069': ['BROWN  PIRATE TREASURE CHEST '],\n",
              " '22070': ['SMALL RED RETROSPOT MUG IN BOX '],\n",
              " '22071': ['SMALL WHITE RETROSPOT MUG IN BOX '],\n",
              " '22072': ['RED RETROSPOT TEA CUP AND SAUCER '],\n",
              " '22073': ['RED RETROSPOT STORAGE JAR'],\n",
              " '22074': ['6 RIBBONS SHIMMERING PINKS '],\n",
              " '22075': ['6 RIBBONS ELEGANT CHRISTMAS '],\n",
              " '22076': ['6 RIBBONS EMPIRE  '],\n",
              " '22077': ['6 RIBBONS RUSTIC CHARM'],\n",
              " '22078': ['RIBBON REEL LACE DESIGN '],\n",
              " '22079': ['RIBBON REEL HEARTS DESIGN '],\n",
              " '22080': ['RIBBON REEL POLKADOTS '],\n",
              " '22081': ['RIBBON REEL FLORA + FAUNA '],\n",
              " '22082': ['RIBBON REEL STRIPES DESIGN '],\n",
              " '22083': ['PAPER CHAIN KIT RETROSPOT'],\n",
              " '22084': ['PAPER CHAIN KIT EMPIRE'],\n",
              " '22085': ['PAPER CHAIN KIT SKULLS '],\n",
              " '22086': [\"PAPER CHAIN KIT 50'S CHRISTMAS \"],\n",
              " '22087': ['PAPER BUNTING WHITE LACE'],\n",
              " '22088': ['PAPER BUNTING COLOURED LACE'],\n",
              " '22089': ['PAPER BUNTING VINTAGE PAISLEY'],\n",
              " '22090': ['PAPER BUNTING RETROSPOT'],\n",
              " '22091': ['EMPIRE TISSUE BOX'],\n",
              " '22092': ['BLUE PAISLEY TISSUE BOX'],\n",
              " '22093': ['MOTORING TISSUE BOX'],\n",
              " '22094': ['RED RETROSPOT TISSUE BOX'],\n",
              " '22095': ['LADS ONLY TISSUE BOX'],\n",
              " '22096': ['PINK PAISLEY SQUARE TISSUE BOX '],\n",
              " ...}"
            ]
          },
          "metadata": {},
          "execution_count": 34
        }
      ]
    },
    {
      "cell_type": "code",
      "metadata": {
        "id": "0GtvB9h7Sm-1",
        "colab": {
          "base_uri": "https://localhost:8080/"
        },
        "outputId": "2dc6cc39-53ad-4096-8a7a-fbb98bb27043"
      },
      "source": [
        "# Teste do dicionário: na linha de código abaixo\n",
        "# consultamos um código de produto no seu dicionário.\n",
        "# Se você cumpriu todos passos corretamente até\n",
        "# aqui, então o resultado deve ser uma lista contendo\n",
        "# uma única string, que é a descrição do produto\n",
        "# correspondente àquele código.\n",
        "\n",
        "products_dict['84029E']"
      ],
      "execution_count": 35,
      "outputs": [
        {
          "output_type": "execute_result",
          "data": {
            "text/plain": [
              "['RED WOOLLY HOTTIE WHITE HEART.']"
            ]
          },
          "metadata": {},
          "execution_count": 35
        }
      ]
    },
    {
      "cell_type": "markdown",
      "metadata": {
        "id": "XzH4dqdM2bPg"
      },
      "source": [
        "## Passo 4: Preparação dos Dados\n",
        "\n",
        "Neste passo vamos preprarar os dados transformando o histórico de compras de cada consumidor numa espécie de \"frase\", onde cada \"palavra\" é um produto comprado."
      ]
    },
    {
      "cell_type": "markdown",
      "metadata": {
        "id": "qev247Zd3fq2"
      },
      "source": [
        "### Passo 4.1: Contagem dos Clientes Únicos\n",
        "\n",
        "Nesta base de dados temos o registro de cada compra de cada cliente ao longo de um ano. Isso significa que não apenas podemos ter o mesmo produto sendo comprado por diferentes clientes, mas também teremos o mesmo cliente, fazendo diferentes compras em diferentes momentos.\n",
        "\n",
        "Para avaliar nosso sistema de forma mais justa e próxima de um uso real, vamos tentar separar dados de validação e dados de treinamento de forma que não usemos compras de um mesmo cliente nos dados de validação e nos dados de treinamento (mesmo que em momentos diferentes). Em outras palavras, vamos separar _todas as compras_ de certos clientes para treinamento e _todas as compras_ de certos outros clientes para validação, ou seja, a separação será pelo cliente que realizou a compra. Assim todas compras de um determinado cliente estarão exclusivamente nos dados de validação ou exclusivamente nos dados de treinamento, nunca em ambos. Isso servirá para que possamos avaliar se o sistema de recomendação funciona, mesmo quando treinado para clientes diferentes daqueles para os quais estamos recomendando no momento: quer dizer que podemos treinar o sistema com as compras dos clientes escolhidos para o grupo de treinamento e avaliar as recomendações num grupo de clientes que o sistema nunca viu antes.\n",
        "\n",
        "Para fazer isso, seria interessante começar confirmando exatamente quantos clientes únicos temos nessa base de dados.\n",
        "\n",
        "A partir do DataFrame `df` selecione a coluna `CustomerID` e usando os métodos `unique()` e a conversão `tolist()`, gere uma lista com todos os ids de clientes únicos. Essa lista deverá se chamar `customers`.\n",
        "\n",
        "O vídeo abaixo, a partir de 23m59s até 25m16s, mostra como isso pode ser feito."
      ]
    },
    {
      "cell_type": "code",
      "metadata": {
        "id": "uVQZtVkT0Mqh",
        "colab": {
          "base_uri": "https://localhost:8080/",
          "height": 321
        },
        "outputId": "48a53371-d463-4398-b37e-0371ee1232e4"
      },
      "source": [
        "YouTubeVideo('usmbTUx9zdY', start=1439)"
      ],
      "execution_count": 30,
      "outputs": [
        {
          "output_type": "execute_result",
          "data": {
            "text/plain": [
              "<IPython.lib.display.YouTubeVideo at 0x7f93c8f2bc70>"
            ],
            "text/html": [
              "\n",
              "        <iframe\n",
              "            width=\"400\"\n",
              "            height=\"300\"\n",
              "            src=\"https://www.youtube.com/embed/usmbTUx9zdY?start=1439\"\n",
              "            frameborder=\"0\"\n",
              "            allowfullscreen\n",
              "        ></iframe>\n",
              "        "
            ],
            "image/jpeg": "[encoded data removed]"
          },
          "metadata": {},
          "execution_count": 30
        }
      ]
    },
    {
      "cell_type": "code",
      "metadata": {
        "id": "SLGQA2VZ3lpc"
      },
      "source": [
        "# Escreva abaixo o código que cria uma lista \n",
        "# coletando os ids da coluna CustomerID de df,\n",
        "# selecionando apenas ids únicos (não recolhe\n",
        "# ids repetidos). Esta lista deve ser uma lista\n",
        "# nativa do Python, de nome customers.\n",
        "\n",
        "# SEU CÓDIGO AQUI!\n",
        "customers = df['CustomerID'].unique().tolist()"
      ],
      "execution_count": 38,
      "outputs": []
    },
    {
      "cell_type": "code",
      "metadata": {
        "id": "Em6vNYCjzU8K",
        "colab": {
          "base_uri": "https://localhost:8080/"
        },
        "outputId": "ed9fc329-c9cd-430a-c2fb-898fde8e3f5a"
      },
      "source": [
        "len(customers)"
      ],
      "execution_count": 39,
      "outputs": [
        {
          "output_type": "execute_result",
          "data": {
            "text/plain": [
              "4372"
            ]
          },
          "metadata": {},
          "execution_count": 39
        }
      ]
    },
    {
      "cell_type": "markdown",
      "metadata": {
        "id": "2ZTGaq3n35dn"
      },
      "source": [
        "Se tudo deu certo até aqui, então verificamos que há exatamente 4.372 clientes na nossa base de dados. Para cada um desses clientes vamos verificar o histórico de compras, criando 4.372 sequências de compras."
      ]
    },
    {
      "cell_type": "markdown",
      "metadata": {
        "id": "cIMP9AOiHWOr"
      },
      "source": [
        "### Passo 4.2: Embaralhamento dos Dados\n",
        "\n",
        "Agora escreva código para embaralhar a ordem dos ids dos clientes na lista `customers`, usando o método `shuffle`. O resultado deve estar na própria variável `customers` (não mude o nome da variável)."
      ]
    },
    {
      "cell_type": "code",
      "metadata": {
        "id": "MvRoZx2wHOXv"
      },
      "source": [
        "# No espaço abaixo, importe o módulo random\n",
        "# e chame a função shuffle embaralhando os\n",
        "# itens na lista customers\n",
        "\n",
        "# SEU CÓDIGO AQUI!\n",
        "import numpy as np\n",
        "\n",
        "np.random.shuffle(customers)"
      ],
      "execution_count": 42,
      "outputs": []
    },
    {
      "cell_type": "markdown",
      "metadata": {
        "id": "cQYdfD3RJI75"
      },
      "source": [
        "### Passo 4.3: Separação dos Dados de Treinamento e Validação\n",
        "\n",
        "Agora vamos separar dados de treinamento e de validação. Vamos separar 10% dos dados para validação e 90% dos dados para treinamento. Mas esses percentuais serão separados em termos de clientes. Isso significa que faremos o seguinte:\n",
        "\n",
        "1. Definiremos uma lista de clientes de treinamento, contendo 90% dos itens da variável `customers`. Vamos chamar essa variável de `customers_train`.\n",
        "2. Definiremos uma lista de clientes de validação, contendo 10% dos itens da variável `customers`. Vamos chamar essa variável de `customers_val`.\n",
        "3. Em nosso dataset `df`, selecionaremos todas as linhas onde o campo `CustomerID` contenha um código de cliente presente na lista `customers_train`. Essa seleção será um novo dataset de nome `df_train`.\n",
        "4. Faremos o mesmo com os  dados de validação,  selecionando as linhas de `df` onde `CustomerID` está contido em `customers_val`. Essa seleção chamaremos de `df_val`.\n",
        "\n",
        "Dica: para os passos 3 e 4 acima, use o método `.isin(nome_da_lista)`. Veja o vídeo abaixo a partir de 25m19s até o final do vídeo.\n",
        "\n"
      ]
    },
    {
      "cell_type": "code",
      "metadata": {
        "id": "ckUuDo_JYF5l",
        "colab": {
          "base_uri": "https://localhost:8080/",
          "height": 321
        },
        "outputId": "b7465343-d16a-4c51-e550-b22e25562270"
      },
      "source": [
        "YouTubeVideo('usmbTUx9zdY', start=1519)"
      ],
      "execution_count": 43,
      "outputs": [
        {
          "output_type": "execute_result",
          "data": {
            "text/plain": [
              "<IPython.lib.display.YouTubeVideo at 0x7f93c8871ca0>"
            ],
            "text/html": [
              "\n",
              "        <iframe\n",
              "            width=\"400\"\n",
              "            height=\"300\"\n",
              "            src=\"https://www.youtube.com/embed/usmbTUx9zdY?start=1519\"\n",
              "            frameborder=\"0\"\n",
              "            allowfullscreen\n",
              "        ></iframe>\n",
              "        "
            ],
            "image/jpeg": "[encoded data removed]"
          },
          "metadata": {},
          "execution_count": 43
        }
      ]
    },
    {
      "cell_type": "code",
      "metadata": {
        "id": "Kq6yEiaQJIjr"
      },
      "source": [
        "# Calcule a quantidade de clientes que usaremos\n",
        "# para treinamento. Essa quantidade deve ser 90%\n",
        "# do total de clientes na variável customers.\n",
        "# Transforme o resultado em um número inteiro.\n",
        "# O resultado deve ser gravado na variável de\n",
        "# nome train_size.\n",
        "\n",
        "# SEU CÓDIGO AQUI!\n",
        "var_customer = 4372*0.9\n",
        "train_size = int(var_customer)\n",
        "# Use o slicing do Python para separar\n",
        "# os consumidores em duas listas: uma para\n",
        "# treinamento e a outra para validação. Para\n",
        "# definir o ponto de corte do slicing, use\n",
        "# a variável train_size definida acima. A lista\n",
        "# de consumidores para treinamento deve se\n",
        "# chamar customers_train e incluir exatamente\n",
        "# o trecho da lista customers começando\n",
        "# do início, com quantidade igual a train_size.\n",
        "# Os demais devem itens ser colocados na lista\n",
        "# de nome customers_val (lista ids de validação)\n",
        "\n",
        "# SEU CÓDIGO AQUI!\n",
        "train_customers = customers[:train_size]\n",
        "val_customers = customers[train_size:]\n",
        "\n",
        "# Agora, baseado nos ids separados nas listas\n",
        "# customers_train e customers_val acima, crie\n",
        "# dois datasets a partir do dataset original df,\n",
        "# selecionando em df_train as linhas que contem\n",
        "# ids da lista customers_train no campo CustomerID,\n",
        "# e em df_val as linhas que contem  ids da lista\n",
        "# customers_val.\n",
        "\n",
        "# SEU CÓDIGO AQUI!\n",
        "train_df=df[df['CustomerID'].isin(train_customers)]\n",
        "val_df=df[df['CustomerID'].isin(val_customers)]"
      ],
      "execution_count": 44,
      "outputs": []
    },
    {
      "cell_type": "markdown",
      "metadata": {
        "id": "IPSvCp8LKB5n"
      },
      "source": [
        "### Passo 4.4: Função que compila sequência de compras de cada cliente.\n",
        "\n",
        "Com essas listas de clientes criamos abaixo as sequências de compras de acordo com os históricos de cada cliente."
      ]
    },
    {
      "cell_type": "code",
      "metadata": {
        "id": "Cp8qT1FJKPY2"
      },
      "source": [
        "def compile_orders(customers, df):\n",
        "  ''' Essa função coleta todas compras do histórico\n",
        "      de cada cliente. O parâmetro customers é a lista\n",
        "      de ids de clientes e o parâmetro df é o objeto\n",
        "      DataFrame do pandas com os dados de cada compra.\n",
        "      O valor retornado é uma lista de listas, onde cada\n",
        "      lista interna contém a seguência de códigos de produto\n",
        "      de cada compra, na ordem que se apresentava no\n",
        "      histórico.\n",
        "  '''\n",
        "\n",
        "  # Essa será a lista de compras -- lista de listas de produtos\n",
        "  orders = []\n",
        "  \n",
        "  # Coletaremos as compras de cada cliente\n",
        "  for customer in customers:\n",
        "\n",
        "    # Aqui convertemos os códigos de produtos das compras\n",
        "    # de cada cliente para uma lista única\n",
        "    order = df[df['CustomerID'] == customer]['StockCode'].tolist()\n",
        "\n",
        "    # Essa lista de itens será a lista de produtos que será adicionada\n",
        "    # à lista de compras principal.\n",
        "    orders.append(order)\n",
        "    \n",
        "  return orders"
      ],
      "execution_count": 56,
      "outputs": []
    },
    {
      "cell_type": "code",
      "metadata": {
        "id": "CaIkbOMiM2ne"
      },
      "source": [
        "# Aqui separamos as listas de listas de compras. Este código\n",
        "# demora cerca de 1 minuto para rodar\n",
        "orders_train = compile_orders(train_customers, train_df)\n",
        "orders_val = compile_orders(val_customers, val_df)"
      ],
      "execution_count": 58,
      "outputs": []
    },
    {
      "cell_type": "markdown",
      "metadata": {
        "id": "VCqVu7rsQDeQ"
      },
      "source": [
        "## Passo 5: Treinar o Embedding Word2Vec\n",
        "\n",
        "Esta é a última etapa, onde utilizamos a lista de compras (lista de listas com códigos de produtos) para treinar nosso embedding. Essa lista de listas funcionará de forma análoga a uma lista de frases, onde cada frase é uma lista de palavras: lista de listas de palavras. A diferença é que aqui as strings que seriam palavras foram substituídas por códigos de produtos."
      ]
    },
    {
      "cell_type": "code",
      "metadata": {
        "id": "u49iedUAQThF"
      },
      "source": [
        "# Aqui importamos o módulo GenSim\n",
        "import gensim\n",
        "\n",
        "# Importamos o NumPy\n",
        "import numpy as np\n",
        "\n",
        "# Código para ignorar warnings\n",
        "# (só para 'despoluir' as saídas\n",
        "#  por motivos didáticos, ignorar\n",
        "#  warnings não é prática recomendada\n",
        "#  exceto quando o código já foi\n",
        "#  testado e os warnings examinados\n",
        "#  e determinados como seguros)\n",
        "import warnings;\n",
        "warnings.filterwarnings('ignore')"
      ],
      "execution_count": 59,
      "outputs": []
    },
    {
      "cell_type": "code",
      "metadata": {
        "id": "CWoNEmF9Q99o",
        "colab": {
          "base_uri": "https://localhost:8080/"
        },
        "outputId": "725156d1-d66d-4d50-85e8-1388e8859704"
      },
      "source": [
        "# Criamos o objeto da classe Word2Vec. Já no\n",
        "# construtor passamos os parâmetros de treinamento,\n",
        "# pois o modelo será treinado ao criar o objeto.\n",
        "\n",
        "model = gensim.models.Word2Vec(orders_train, \\\n",
        "                               size=50, \\\n",
        "                               window=5, \\\n",
        "                               workers=10, \\\n",
        "                               iter=10)"
      ],
      "execution_count": 60,
      "outputs": [
        {
          "output_type": "stream",
          "name": "stderr",
          "text": [
            "WARNING:gensim.models.base_any2vec:consider setting layer size to a multiple of 4 for greater performance\n"
          ]
        }
      ]
    },
    {
      "cell_type": "code",
      "metadata": {
        "id": "aRUDgNq6Rd-_",
        "colab": {
          "base_uri": "https://localhost:8080/"
        },
        "outputId": "73565596-8145-4e56-c5f0-34dd4238723e"
      },
      "source": [
        "# Mostra os dados básicos do objeto\n",
        "\n",
        "print(model)"
      ],
      "execution_count": 61,
      "outputs": [
        {
          "output_type": "stream",
          "name": "stdout",
          "text": [
            "Word2Vec(vocab=3163, size=50, alpha=0.025)\n"
          ]
        }
      ]
    },
    {
      "cell_type": "markdown",
      "metadata": {
        "id": "rHWIan6WBhU4"
      },
      "source": [
        "## Passo 5: Resultados\n",
        "\n",
        "Finalmente podemos agora examinar como ficou o resultado.\n",
        "\n",
        "### Passo 5.1: Produtos semelhantes\n",
        "\n",
        "Para facilitar nossos testes, definimos abaixo uma função que retorna os 10 produtos mais semelhantes a um produto específico, passado como argumento."
      ]
    },
    {
      "cell_type": "code",
      "metadata": {
        "id": "D8o6X7LbSxM3"
      },
      "source": [
        "def most_similar(product_id):\n",
        "  ''' Essa função mostra os 10 produtos mais semelhantes\n",
        "      ao produto cujo código foi passado como argumento.\n",
        "      Na verdade o método most_similar() do objeto Word2Vec\n",
        "      já faz isso. Aqui apenas acrescentamos as descrições,\n",
        "      para facilitar examinar o resultado, já que olhando\n",
        "      apenas os códigos ficaria difícil de dizer se o\n",
        "      conjunto de produtos semelhantes faz sentido.\n",
        "  '''\n",
        "\n",
        "  # Primeiro mostramos a descrição do produto consultado\n",
        "  print('Most similar to:', products_dict[product_id])\n",
        "\n",
        "  # Aqui buscamos a lista de códigos mais semelhantes\n",
        "  # ao apresentado no embedding.\n",
        "  s = model.most_similar(positive=product_id)\n",
        "\n",
        "  # Para cada código, mostramos a descrição\n",
        "  for product, prob in s:\n",
        "    print(products_dict[product], prob)"
      ],
      "execution_count": 62,
      "outputs": []
    },
    {
      "cell_type": "code",
      "metadata": {
        "id": "VPUMtcNgJY8Q",
        "colab": {
          "base_uri": "https://localhost:8080/"
        },
        "outputId": "0c543dc6-0922-47d3-de99-69e4c523e235"
      },
      "source": [
        "model.wv.index2entity[1000:1010]"
      ],
      "execution_count": 63,
      "outputs": [
        {
          "output_type": "execute_result",
          "data": {
            "text/plain": [
              "['22209',\n",
              " '21833',\n",
              " '22494',\n",
              " '22185',\n",
              " '23374',\n",
              " '22758',\n",
              " '23365',\n",
              " '23546',\n",
              " '22335',\n",
              " '22332']"
            ]
          },
          "metadata": {},
          "execution_count": 63
        }
      ]
    },
    {
      "cell_type": "code",
      "metadata": {
        "id": "wxfEa_-bKAQd",
        "colab": {
          "base_uri": "https://localhost:8080/"
        },
        "outputId": "86587c14-2a3f-4b01-feea-c5bde211ebfb"
      },
      "source": [
        "products_dict.keys()"
      ],
      "execution_count": 64,
      "outputs": [
        {
          "output_type": "execute_result",
          "data": {
            "text/plain": [
              "dict_keys(['10002', '10080', '10120', '10123C', '10124A', '10124G', '10125', '10133', '10135', '11001', '15030', '15034', '15036', '15039', '15044A', '15044B', '15044C', '15044D', '15056BL', '15056N', '15056P', '15058A', '15058B', '15058C', '15060B', '16008', '16010', '16011', '16012', '16014', '16015', '16016', '16020C', '16033', '16043', '16045', '16046', '16048', '16049', '16052', '16054', '16151A', '16156L', '16156S', '16161G', '16161M', '16161P', '16161U', '16162L', '16162M', '16168M', '16169E', '16169K', '16169M', '16169N', '16169P', '16202A', '16202B', '16202E', '16206B', '16207A', '16207B', '16216', '16218', '16219', '16225', '16235', '16236', '16237', '16238', '16244B', '16248B', '16254', '16258A', '16259', '17001', '17003', '17007B', '17011F', '17012A', '17012B', '17012C', '17012D', '17012E', '17012F', '17013D', '17014A', '17021', '17028J', '17038', '17084A', '17084J', '17084N', '17084P', '17084R', '17090A', '17090D', '17091A', '17091J', '17096', '17107D', '17109D', '17129F', '17136A', '17164B', '17165D', '17174', '17191A', '18007', '18094C', '18097A', '18097C', '18098C', '20615', '20616', '20617', '20618', '20619', '20622', '20652', '20653', '20654', '20655', '20657', '20658', '20659', '20661', '20662', '20663', '20664', '20665', '20666', '20667', '20668', '20669', '20670', '20671', '20674', '20675', '20676', '20677', '20678', '20679', '20681', '20682', '20684', '20685', '20686', '20694', '20695', '20696', '20697', '20698', '20699', '20700', '20701', '20702', '20703', '20704', '20705', '20707', '20711', '20712', '20713', '20716', '20717', '20718', '20719', '20723', '20724', '20725', '20726', '20727', '20728', '20731', '20733', '20735', '20748', '20749', '20750', '20751', '20752', '20754', '20755', '20756', '20757', '20758', '20759', '20760', '20761', '20762', '20763', '20764', '20765', '20766', '20767', '20768', '20769', '20770', '20771', '20772', '20773', '20774', '20775', '20777', '20778', '20780', '20781', '20782', '20785', '20793', '20794', '20795', '20796', '20798', '20801', '20802', '20803', '20816', '20818', '20819', '20820', '20821', '20823', '20826', '20827', '20828', '20829', '20830', '20831', '20832', '20835', '20836', '20837', '20838', '20839', '20840', '20845', '20846', '20847', '20848', '20851', '20854', '20856', '20857', '20861', '20866', '20867', '20868', '20869', '20878', '20886', '20892', '20893', '20894', '20897', '20898', '20901', '20902', '20903', '20906', '20910', '20914', '20931', '20932', '20933', '20934', '20935', '20936', '20941', '20956', '20957', '20961', '20963', '20964', '20966', '20967', '20969', '20970', '20971', '20972', '20973', '20974', '20975', '20977', '20978', '20979', '20980', '20981', '20982', '20983', '20984', '20985', '20986', '20992', '20996', '20997', '20998', '21000', '21001', '21002', '21003', '21011', '21012', '21014', '21015', '21018', '21025', '21026', '21027', '21028', '21030', '21031', '21032', '21033', '21034', '21035', '21038', '21039', '21040', '21041', '21042', '21043', '21051', '21054', '21055', '21056', '21058', '21059', '21060', '21061', '21062', '21063', '21064', '21065', '21066', '21067', '21068', '21069', '21070', '21071', '21078', '21080', '21084', '21086', '21087', '21088', '21089', '21090', '21094', '21095', '21096', '21098', '21100', '21106', '21107', '21108', '21109', '21110', '21111', '21112', '21114', '21115', '21116', '21117', '21121', '21122', '21123', '21124', '21125', '21126', '21128', '21129', '21131', '21132', '21135', '21136', '21137', '21143', '21144', '21145', '21147', '21154', '21155', '21156', '21157', '21158', '21159', '21161', '21162', '21163', '21164', '21165', '21166', '21167', '21169', '21171', '21172', '21174', '21175', '21179', '21181', '21187', '21188', '21189', '21190', '21191', '21192', '21194', '21195', '21196', '21197', '21198', '21199', '21200', '21201', '21202', '21204', '21205', '21206', '21207', '21208', '21209', '21210', '21211', '21212', '21213', '21215', '21216', '21217', '21218', '21219', '21220', '21221', '21222', '21224', '21226', '21228', '21231', '21232', '21238', '21239', '21240', '21242', '21243', '21244', '21245', '21246', '21248', '21249', '21250', '21251', '21253', '21257', '21258', '21259', '21260', '21261', '21262', '21263', '21264', '21265', '21268', '21269', '21270', '21272', '21275', '21277', '21278', '21279', '21280', '21281', '21284', '21285', '21286', '21287', '21288', '21289', '21291', '21292', '21293', '21294', '21306', '21307', '21310', '21311', '21313', '21314', '21316', '21317', '21318', '21319', '21320', '21324', '21326', '21327', '21328', '21329', '21331', '21332', '21333', '21336', '21340', '21344', '21348', '21349', '21351', '21352', '21354', '21355', '21356', '21357', '21358', '21359', '21360', '21361', '21363', '21364', '21365', '21366', '21367', '21368', '21369', '21370', '21371', '21372', '21373', '21374', '21375', '21376', '21377', '21378', '21379', '21380', '21381', '21382', '21383', '21385', '21386', '21389', '21390', '21391', '21392', '21393', '21394', '21395', '21397', '21398', '21399', '21400', '21401', '21402', '21403', '21407', '21408', '21411', '21412', '21413', '21414', '21415', '21416', '21417', '21418', '21420', '21421', '21422', '21424', '21425', '21426', '21427', '21428', '21429', '21430', '21439', '21441', '21442', '21445', '21446', '21447', '21448', '21452', '21454', '21455', '21456', '21457', '21458', '21459', '21460', '21461', '21462', '21463', '21464', '21465', '21466', '21467', '21468', '21469', '21470', '21471', '21472', '21473', '21476', '21479', '21481', '21484', '21485', '21486', '21488', '21494', '21495', '21497', '21498', '21499', '21500', '21503', '21504', '21506', '21507', '21508', '21509', '21518', '21519', '21520', '21523', '21524', '21527', '21528', '21530', '21531', '21533', '21534', '21535', '21537', '21538', '21539', '21544', '21547', '21555', '21556', '21557', '21558', '21559', '21561', '21562', '21563', '21564', '21576', '21577', '21578', '21579', '21580', '21581', '21584', '21586', '21587', '21588', '21591', '21592', '21609', '21613', '21614', '21615', '21616', '21617', '21618', '21619', '21620', '21621', '21622', '21623', '21624', '21625', '21626', '21627', '21628', '21629', '21630', '21631', '21632', '21633', '21634', '21635', '21636', '21637', '21638', '21640', '21641', '21642', '21643', '21644', '21645', '21647', '21648', '21650', '21651', '21654', '21655', '21656', '21657', '21658', '21661', '21662', '21664', '21666', '21667', '21668', '21669', '21670', '21671', '21672', '21673', '21675', '21676', '21677', '21678', '21679', '21680', '21681', '21682', '21683', '21684', '21686', '21688', '21689', '21690', '21692', '21693', '21694', '21695', '21696', '21698', '21700', '21703', '21704', '21705', '21706', '21707', '21708', '21709', '21710', '21711', '21713', '21714', '21715', '21716', '21717', '21718', '21719', '21720', '21721', '21722', '21723', '21724', '21725', '21726', '21730', '21731', '21733', '21735', '21736', '21738', '21739', '21741', '21742', '21743', '21744', '21745', '21746', '21747', '21749', '21750', '21754', '21755', '21756', '21757', '21758', '21761', '21763', '21769', '21770', '21773', '21774', '21775', '21777', '21781', '21784', '21785', '21786', '21787', '21788', '21789', '21790', '21791', '21792', '21793', '21794', '21801', '21802', '21803', '21804', '21807', '21808', '21809', '21810', '21811', '21812', '21813', '21814', '21815', '21816', '21817', '21818', '21819', '21820', '21821', '21822', '21823', '21824', '21826', '21827', '21828', '21829', '21830', '21832', '21833', '21836', '21839', '21841', '21843', '21844', '21845', '21846', '21847', '21849', '21850', '21851', '21864', '21865', '21866', '21867', '21868', '21870', '21871', '21872', '21873', '21874', '21875', '21876', '21877', '21878', '21879', '21880', '21881', '21882', '21883', '21884', '21888', '21889', '21890', '21891', '21892', '21894', '21895', '21896', '21897', '21898', '21899', '21900', '21901', '21902', '21903', '21904', '21905', '21906', '21907', '21908', '21910', '21911', '21912', '21913', '21914', '21915', '21916', '21917', '21918', '21922', '21925', '21926', '21927', '21928', '21929', '21930', '21931', '21932', '21933', '21934', '21935', '21936', '21937', '21942', '21943', '21944', '21945', '21946', '21947', '21948', '21949', '21955', '21967', '21972', '21973', '21974', '21975', '21976', '21977', '21980', '21981', '21982', '21983', '21984', '21985', '21986', '21987', '21988', '21989', '21990', '21991', '21992', '21993', '22021', '22023', '22024', '22025', '22026', '22027', '22028', '22029', '22030', '22031', '22032', '22033', '22034', '22035', '22037', '22038', '22039', '22040', '22041', '22042', '22043', '22044', '22045', '22046', '22047', '22048', '22049', '22050', '22051', '22052', '22053', '22055', '22057', '22059', '22060', '22061', '22062', '22063', '22064', '22065', '22066', '22067', '22068', '22069', '22070', '22071', '22072', '22073', '22074', '22075', '22076', '22077', '22078', '22079', '22080', '22081', '22082', '22083', '22084', '22085', '22086', '22087', '22088', '22089', '22090', '22091', '22092', '22093', '22094', '22095', '22096', '22097', '22098', '22099', '22100', '22101', '22102', '22103', '22104', '22105', '22106', '22107', '22108', '22109', '22110', '22111', '22112', '22113', '22114', '22115', '22116', '22117', '22118', '22119', '22120', '22121', '22123', '22124', '22125', '22127', '22128', '22129', '22130', '22131', '22132', '22133', '22134', '22135', '22136', '22137', '22138', '22139', '22141', '22142', '22144', '22145', '22146', '22147', '22148', '22149', '22150', '22151', '22152', '22153', '22154', '22155', '22156', '22157', '22158', '22161', '22162', '22163', '22164', '22165', '22166', '22167', '22168', '22169', '22170', '22171', '22173', '22174', '22175', '22176', '22178', '22179', '22180', '22181', '22182', '22183', '22184', '22185', '22186', '22187', '22188', '22189', '22190', '22191', '22192', '22193', '22194', '22195', '22196', '22197', '22198', '22199', '22200', '22201', '22202', '22203', '22204', '22207', '22208', '22209', '22210', '22211', '22212', '22214', '22215', '22216', '22217', '22218', '22219', '22220', '22221', '22222', '22223', '22224', '22227', '22228', '22229', '22230', '22231', '22232', '22233', '22236', '22241', '22242', '22243', '22244', '22245', '22246', '22247', '22248', '22249', '22250', '22251', '22252', '22254', '22255', '22256', '22257', '22258', '22259', '22260', '22261', '22262', '22263', '22264', '22265', '22266', '22267', '22268', '22269', '22270', '22271', '22272', '22273', '22274', '22275', '22276', '22277', '22278', '22279', '22280', '22281', '22282', '22283', '22284', '22285', '22286', '22287', '22288', '22289', '22291', '22292', '22293', '22294', '22295', '22296', '22297', '22299', '22300', '22301', '22302', '22303', '22304', '22305', '22306', '22307', '22308', '22309', '22310', '22311', '22312', '22313', '22314', '22315', '22316', '22317', '22318', '22319', '22320', '22321', '22322', '22323', '22324', '22325', '22326', '22327', '22328', '22329', '22331', '22332', '22333', '22334', '22335', '22336', '22337', '22338', '22339', '22340', '22341', '22342', '22343', '22344', '22345', '22346', '22348', '22349', '22350', '22351', '22352', '22353', '22354', '22355', '22356', '22357', '22358', '22359', '22360', '22361', '22362', '22363', '22364', '22365', '22366', '22367', '22371', '22372', '22374', '22375', '22376', '22377', '22378', '22379', '22380', '22381', '22382', '22383', '22384', '22385', '22386', '22389', '22390', '22391', '22393', '22394', '22395', '22396', '22398', '22399', '22400', '22402', '22403', '22405', '22406', '22407', '22408', '22409', '22410', '22411', '22412', '22413', '22414', '22415', '22416', '22417', '22418', '22419', '22420', '22421', '22422', '22423', '22424', '22425', '22426', '22427', '22428', '22429', '22430', '22431', '22432', '22433', '22434', '22435', '22436', '22437', '22438', '22439', '22440', '22441', '22442', '22443', '22444', '22445', '22446', '22447', '22448', '22449', '22450', '22451', '22452', '22453', '22454', '22456', '22457', '22458', '22459', '22460', '22461', '22464', '22465', '22466', '22467', '22468', '22469', '22470', '22471', '22472', '22473', '22474', '22475', '22476', '22477', '22478', '22479', '22480', '22481', '22482', '22483', '22485', '22486', '22487', '22488', '22489', '22491', '22492', '22493', '22494', '22495', '22496', '22497', '22498', '22499', '22500', '22501', '22502', '22503', '22504', '22505', '22507', '22508', '22509', '22510', '22511', '22512', '22513', '22514', '22515', '22516', '22517', '22518', '22519', '22520', '22521', '22522', '22523', '22524', '22525', '22526', '22529', '22530', '22531', '22532', '22533', '22534', '22535', '22536', '22537', '22538', '22539', '22540', '22541', '22543', '22544', '22545', '22546', '22547', '22548', '22549', '22550', '22551', '22553', '22554', '22555', '22556', '22557', '22558', '22559', '22560', '22561', '22562', '22563', '22564', '22565', '22566', '22567', '22568', '22569', '22570', '22571', '22572', '22573', '22574', '22575', '22576', '22577', '22578', '22579', '22580', '22581', '22582', '22583', '22584', '22585', '22586', '22587', '22588', '22589', '22591', '22592', '22593', '22594', '22595', '22596', '22597', '22598', '22599', '22600', '22601', '22602', '22603', '22604', '22605', '22606', '22607', '22608', '22609', '22610', '22611', '22613', '22614', '22615', '22616', '22617', '22618', '22619', '22620', '22621', '22622', '22623', '22624', '22625', '22626', '22627', '22628', '22629', '22630', '22631', '22632', '22633', '22634', '22635', '22636', '22637', '22638', '22639', '22640', '22641', '22642', '22643', '22644', '22645', '22646', '22647', '22649', '22650', '22651', '22652', '22653', '22654', '22655', '22656', '22659', '22660', '22661', '22662', '22663', '22664', '22665', '22666', '22667', '22668', '22669', '22670', '22671', '22672', '22673', '22674', '22675', '22676', '22677', '22678', '22679', '22680', '22681', '22682', '22683', '22684', '22685', '22686', '22687', '22688', '22689', '22690', '22691', '22692', '22693', '22694', '22695', '22696', '22697', '22698', '22699', '22700', '22701', '22702', '22703', '22704', '22705', '22706', '22707', '22708', '22709', '22710', '22711', '22712', '22713', '22714', '22715', '22716', '22717', '22718', '22719', '22720', '22721', '22722', '22723', '22725', '22726', '22727', '22728', '22729', '22730', '22731', '22732', '22733', '22734', '22735', '22736', '22737', '22738', '22739', '22740', '22741', '22742', '22743', '22744', '22745', '22746', '22747', '22748', '22749', '22750', '22751', '22752', '22753', '22754', '22755', '22756', '22757', '22758', '22759', '22760', '22761', '22762', '22763', '22764', '22765', '22766', '22767', '22768', '22769', '22770', '22771', '22772', '22773', '22774', '22775', '22776', '22777', '22778', '22779', '22780', '22781', '22782', '22783', '22784', '22785', '22786', '22788', '22789', '22791', '22792', '22794', '22795', '22796', '22797', '22798', '22799', '22800', '22801', '22802', '22803', '22804', '22805', '22806', '22807', '22808', '22809', '22810', '22811', '22812', '22813', '22814', '22815', '22816', '22817', '22818', '22819', '22820', '22821', '22822', '22823', '22824', '22825', '22826', '22827', '22828', '22829', '22830', '22831', '22832', '22833', '22834', '22835', '22837', '22838', '22839', '22840', '22841', '22842', '22843', '22844', '22845', '22846', '22847', '22848', '22849', '22851', '22852', '22853', '22854', '22855', '22856', '22857', '22858', '22859', '22860', '22861', '22862', '22863', '22865', '22866', '22867', '22868', '22869', '22870', '22871', '22872', '22873', '22874', '22875', '22876', '22877', '22878', '22879', '22880', '22881', '22882', '22883', '22884', '22885', '22886', '22887', '22888', '22889', '22890', '22891', '22892', '22893', '22894', '22895', '22896', '22897', '22898', '22899', '22900', '22902', '22903', '22904', '22905', '22906', '22907', '22908', '22909', '22910', '22911', '22912', '22913', '22914', '22915', '22916', '22917', '22918', '22919', '22920', '22921', '22922', '22923', '22924', '22925', '22926', '22927', '22928', '22929', '22930', '22931', '22932', '22933', '22934', '22935', '22936', '22937', '22938', '22939', '22940', '22941', '22942', '22943', '22944', '22945', '22946', '22947', '22948', '22949', '22950', '22951', '22952', '22953', '22954', '22955', '22956', '22957', '22959', '22960', '22961', '22962', '22963', '22964', '22965', '22966', '22967', '22968', '22969', '22970', '22971', '22972', '22973', '22974', '22975', '22976', '22977', '22978', '22979', '22980', '22981', '22982', '22983', '22984', '22985', '22986', '22987', '22988', '22989', '22990', '22991', '22992', '22993', '22994', '22995', '22996', '22997', '22998', '22999', '23000', '23002', '23003', '23004', '23005', '23006', '23007', '23008', '23009', '23010', '23012', '23013', '23014', '23015', '23016', '23017', '23018', '23019', '23020', '23021', '23022', '23023', '23024', '23025', '23026', '23027', '23028', '23029', '23031', '23032', '23033', '23034', '23035', '23036', '23037', '23038', '23039', '23040', '23041', '23042', '23043', '23044', '23045', '23046', '23047', '23048', '23049', '23050', '23051', '23052', '23053', '23054', '23055', '23056', '23057', '23058', '23060', '23061', '23064', '23065', '23066', '23067', '23068', '23069', '23070', '23071', '23072', '23073', '23074', '23075', '23076', '23077', '23078', '23079', '23080', '23081', '23082', '23083', '23084', '23085', '23086', '23087', '23088', '23089', '23090', '23091', '23092', '23093', '23094', '23096', '23099', '23100', '23101', '23102', '23103', '23104', '23106', '23107', '23108', '23109', '23110', '23111', '23112', '23113', '23114', '23115', '23116', '23117', '23118', '23119', '23120', '23121', '23122', '23123', '23124', '23125', '23126', '23127', '23128', '23129', '23130', '23131', '23132', '23133', '23134', '23135', '23136', '23137', '23138', '23139', '23140', '23141', '23142', '23143', '23144', '23145', '23146', '23147', '23148', '23149', '23150', '23151', '23152', '23153', '23154', '23155', '23156', '23157', '23158', '23159', '23160', '23161', '23162', '23163', '23164', '23165', '23166', '23167', '23168', '23169', '23170', '23171', '23172', '23173', '23174', '23175', '23176', '23177', '23178', '23179', '23180', '23181', '23182', '23183', '23184', '23185', '23186', '23187', '23188', '23189', '23190', '23191', '23192', '23193', '23194', '23196', '23197', '23198', '23199', '23200', '23201', '23202', '23203', '23204', '23205', '23206', '23207', '23208', '23209', '23210', '23211', '23212', '23213', '23214', '23215', '23216', '23217', '23218', '23219', '23220', '23221', '23222', '23223', '23224', '23225', '23226', '23227', '23228', '23229', '23230', '23231', '23232', '23233', '23234', '23235', '23236', '23237', '23238', '23239', '23240', '23241', '23242', '23243', '23244', '23245', '23247', '23249', '23250', '23251', '23252', '23253', '23254', '23255', '23256', '23263', '23264', '23265', '23266', '23267', '23268', '23269', '23270', '23271', '23272', '23273', '23274', '23275', '23280', '23281', '23282', '23283', '23284', '23285', '23286', '23287', '23288', '23289', '23290', '23291', '23292', '23293', '23294', '23295', '23296', '23297', '23298', '23299', '23300', '23301', '23302', '23303', '23304', '23305', '23306', '23307', '23308', '23309', '23310', '23311', '23312', '23313', '23314', '23315', '23316', '23317', '23318', '23319', '23320', '23321', '23322', '23323', '23324', '23325', '23326', '23327', '23328', '23329', '23330', '23331', '23332', '23333', '23334', '23335', '23336', '23337', '23338', '23339', '23340', '23341', '23342', '23343', '23344', '23345', '23346', '23347', '23348', '23349', '23350', '23351', '23352', '23353', '23354', '23355', '23356', '23357', '23358', '23359', '23360', '23365', '23366', '23367', '23368', '23369', '23370', '23371', '23372', '23373', '23374', '23375', '23376', '23377', '23378', '23379', '23380', '23381', '23382', '23388', '23389', '23390', '23391', '23392', '23393', '23394', '23395', '23396', '23397', '23398', '23399', '23400', '23401', '23402', '23403', '23404', '23405', '23406', '23407', '23408', '23409', '23410', '23411', '23412', '23413', '23414', '23415', '23416', '23417', '23418', '23419', '23420', '23421', '23422', '23423', '23424', '23425', '23426', '23427', '23428', '23429', '23430', '23431', '23432', '23433', '23434', '23435', '23436', '23437', '23438', '23439', '23440', '23441', '23442', '23444', '23445', '23446', '23447', '23448', '23449', '23451', '23452', '23453', '23454', '23455', '23456', '23457', '23458', '23459', '23460', '23461', '23462', '23463', '23464', '23465', '23466', '23467', '23468', '23469', '23470', '23471', '23472', '23473', '23474', '23475', '23476', '23477', '23478', '23479', '23480', '23481', '23482', '23483', '23484', '23485', '23486', '23487', '23489', '23490', '23491', '23492', '23493', '23494', '23495', '23496', '23497', '23498', '23499', '23500', '23501', '23502', '23503', '23504', '23505', '23506', '23507', '23508', '23509', '23510', '23511', '23512', '23513', '23514', '23515', '23516', '23517', '23518', '23519', '23520', '23521', '23522', '23523', '23524', '23525', '23526', '23527', '23528', '23529', '23530', '23531', '23532', '23533', '23534', '23535', '23536', '23537', '23538', '23539', '23540', '23541', '23542', '23543', '23544', '23545', '23546', '23547', '23548', '23549', '23550', '23551', '23552', '23553', '23554', '23555', '23556', '23557', '23558', '23559', '23560', '23561', '23562', '23564', '23565', '23566', '23567', '23568', '23569', '23570', '23571', '23574', '23575', '23576', '23578', '23579', '23580', '23581', '23582', '23583', '23597', '23598', '23630', '23660', '23661', '23664', '23681', '23691', '23692', '23694', '23695', '23697', '23702', '23843', '35001G', '35001W', '35004B', '35004C', '35004G', '35004P', '35095A', '35095B', '35241', '35265', '35271S', '35400', '35443', '35471D', '35591T', '35597A', '35597B', '35597D', '35598A', '35598B', '35598C', '35598D', '35599B', '35599D', '35607A', '35607B', '35610A', '35610B', '35610C', '35637A', '35637C', '35638A', '35638B', '35645', '35646', '35647', '35648', '35649', '35650', '35651', '35653', '35809A', '35809B', '35810A', '35810B', '35815P', '35816P', '35817P', '35818B', '35818P', '35819B', '35819P', '35832', '35833P', '35909A', '35909B', '35910A', '35910B', '35911A', '35911B', '35912B', '35913B', '35914', '35915B', '35915C', '35916A', '35916B', '35916C', '35920', '35921', '35922', '35923', '35924', '35933', '35953', '35954', '35957', '35958', '35961', '35964', '35965', '35966', '35967', '35968', '35970', '35971', '35972', '37327', '37330', '37333', '37340', '37342', '37343', '37351', '37370', '37379A', '37413', '37423', '37444A', '37444B', '37444C', '37446', '37447', '37448', '37449', '37450', '37461', '37462E', '37464', '37467', '37468', '37471', '37475', '37476', '37479B', '37479P', '37482P', '37487B', '37488A', '37489A', '37489B', '37489C', '37489D', '37491B', '37491C', '37491D', '37495', '37500', '37501', '37503', '37509', '40001', '40003', '40005B', '40016', '40046A', '44089A', '44089C', '44091A', '44092B', '44092C', '44228', '44234', '44235', '44236', '44242A', '44242B', '44265', '45013', '46000M', '46000P', '46000R', '46000S', '46000U', '46115B', '46118', '46126A', '46138B', '46775D', '46776A', '46776B', '46776C', '46776D', '46776E', '46776F', '47013A', '47013C', '47016', '47021G', '47310M', '47341A', '47341B', '47343A', '47344B', '47348A', '47351B', '47367B', '47369A', '47369B', '47420', '47421', '47422', '47469', '47471', '47480', '47481', '47503A', '47503H', '47503J', '47504H', '47504K', '47518F', '47556B', '47559B', '47563A', '47566', '47566B', '47567B', '47570B', '47574A', '47574B', '47578A', '47579', '47580', '47585A', '47586A', '47589', '47590A', '47590B', '47591B', '47591D', '47593A', '47593B', '47594A', '47594B', '47599A', '47599B', '48111', '48116', '48129', '48138', '48173C', '48184', '48185', '48187', '48188', '48194', '51008', '51014A', '51014C', '51014L', '51020A', '51020B', '62018', '62043B', '62074B', '62086A', '62094B', '62096A', '62096B', '62097B', '70006', '70007', '71038', '71050', '71053', '71101E', '71143', '71215', '71270', '71279', '71403', '71406C', '71459', '71477', '71495A', '71495B', '71496A', '71496B', '71510', '72024U', '72051S', '72122', '72127', '72128', '72130', '72131', '72132', '72133', '72134', '72140E', '72225C', '72232', '72349B', '72351A', '72351B', '72369A', '72586', '72598', '72709', '72741', '72760B', '72780', '72783', '72798C', '72799C', '72799E', '72799F', '72800B', '72800C', '72800D', '72800E', '72801C', '72801D', '72801G', '72802A', '72802B', '72802C', '72803A', '72807A', '72807B', '72807C', '72811', '72812', '72815', '72816', '72817', '72818', '72819', '72821', '75011', '75013B', '75049L', '75131', '75172', '75178', '77079', '77101A', '78033', '78034B', '78124', '79000', '79026B', '79030D', '79030G', '79051A', '79062D', '79063C', '79063D', '79066K', '79067', '79071B', '79144B', '79144C', '79149B', '79151B', '79157B', '79157V', '79160', '79161A', '79163', '79164', '79190A', '79190B', '79190D', '79191B', '79191C', '79191D', '79192A', '79302M', '79320', '79321', '79323B', '79323P', '79323W', '79329', '79331', '79336', '79337', '79403', '79406', '81950B', '81950V', '81952B', '81952V', '81953B', '81953P', '82001S', '82011A', '82011B', '82011C', '82095', '82482', '82483', '82484', '82486', '82494L', '82551', '82552', '82567', '82578', '82580', '82581', '82582', '82583', '82599', '82600', '82605', '82613A', '82613B', '82613C', '82613D', '82615', '82616B', '82616C', '84006', '84012', '84016', '84029E', '84029G', '84030E', '84031A', '84031B', '84032A', '84032B', '84033', '84050', '84051', '84077', '84078A', '84086B', '84086C', '84192', '84199', '84201B', '84201C', '84206A', '84206B', '84206C', '84212', '84218', '84226', '84227', '84228', '84231', '84247E', '84247G', '84247K', '84247L', '84247N', '84249A', '84251B', '84251C', '84251G', '84279B', '84279P', '84306', '84313B', '84313C', '84341B', '84347', '84352', '84356', '84358', '84360', '84375', '84378', '84380', '84387A', '84388', '84402B', '84406B', '84415A', '84415B', '84422', '84429A', '84452', '84457', '84459A', '84459B', '84461', '84462', '84465', '84466', '84497', '84499', '84507B', '84507C', '84508A', '84508B', '84508C', '84509A', '84509B', '84509C', '84509E', '84509G', '84510A', '84510C', '84510E', '84519A', '84519B', '84520B', '84522', '84527', '84531A', '84531B', '84534B', '84535A', '84535B', '84536A', '84536B', '84539', '84548', '84549', '84550', '84551', '84558A', '84559A', '84559B', '84562A', '84563A', '84563B', '84568', '84569A', '84569B', '84569C', '84569D', '84575A', '84576', '84580', '84581', '84584', '84592', '84593', '84595E', '84596B', '84596E', '84596F', '84596G', '84596J', '84596L', '84597B', '84597C', '84598', '84600', '84609', '84613A', '84613C', '84614A', '84616', '84617', '84620', '84625A', '84625C', '84629', '84631', '84632', '84637', '84638', '84658', '84659A', '84660A', '84660B', '84660C', '84661A', '84661B', '84661C', '84663A', '84665', '84666', '84673A', '84673B', '84674', '84675', '84678', '84679', '84683', '84685', '84686', '84687', '84688', '84689', '84691', '84692', '84705C', '84706D', '84706F', '84707A', '84707B', '84708B', '84709B', '84711A', '84711B', '84712B', '84715', '84723', '84725', '84731', '84732B', '84732D', '84741C', '84743C', '84744', '84745A', '84745B', '84746', '84748', '84750A', '84750B', '84751B', '84754', '84755', '84760S', '84763', '84766', '84773', '84789', '84792', '84795B', '84795C', '84796A', '84796B', '84798A', '84798B', '84799', '84800L', '84800M', '84800S', '84801A', '84801B', '84802A', '84802B', '84803B', '84804A', '84804B', '84805A', '84805B', '84806A', '84806B', '84809A', '84809B', '84813', '84816', '84817', '84818', '84819', '84820', '84821', '84823', '84824', '84826', '84827', '84828', '84832', '84836', '84839', '84840', '84842', '84843', '84846A', '84847', '84849A', '84849B', '84849D', '84854', '84856S', '84857B', '84857C', '84858C', '84859A', '84859B', '84859C', '84865', '84870B', '84870C', '84872A', '84873A', '84874B', '84875B', '84875D', '84876B', '84876D', '84877A', '84877B', '84877D', '84879', '84880', '84881', '84882', '84884A', '84898F', '84905', '84906', '84907', '84910A', '84912A', '84912B', '84913A', '84913B', '84915', '84916', '84917', '84919', '84920', '84921', '84922', '84924A', '84924F', '84925D', '84925F', '84926A', '84926D', '84926E', '84926F', '84927A', '84927D', '84927E', '84927F', '84929', '84931A', '84931B', '84944', '84945', '84946', '84947', '84949', '84950', '84951A', '84951B', '84952A', '84952B', '84952C', '84963A', '84963B', '84968A', '84968B', '84968C', '84968D', '84968E', '84968F', '84969', '84970L', '84970S', '84971S', '84974', '84975', '84976', '84978', '84984A', '84984B', '84984D', '84985A', '84987', '84988', '84989A', '84990', '84991', '84992', '84993A', '84993B', '84997A', '84997B', '84997C', '84997D', '85006', '85008', '85014A', '85014B', '85015', '85016', '85017A', '85017B', '85017C', '85018D', '85019A', '85019B', '85019C', '85020', '85023B', '85023C', '85024B', '85024C', '85025B', '85025C', '85026B', '85027L', '85028L', '85028S', '85030', '85031A', '85031B', '85031C', '85032A', '85032B', '85032C', '85032D', '85034A', '85034B', '85034C', '85035A', '85035B', '85035C', '85036A', '85036B', '85036C', '85038', '85039A', '85039B', '85039C', '85040A', '85040B', '85042', '85045', '85047', '85048', '85049A', '85049B', '85049C', '85049D', '85049E', '85049F', '85049G', '85049H', '85053', '85054', '85055', '85059', '85061W', '85062', '85063', '85064', '85065', '85066', '85067', '85068', '85071A', '85071B', '85071C', '85071D', '85078', '85084', '85086A', '85087', '85088', '85089', '85092', '85093', '85094', '85095', '85096', '85098B', '85099B', '85099C', '85099F', '85103', '85104', '85106', '85107', '85109', '85111', '85114A', '85114B', '85114C', '85116', '85118', '85123A', '85124B', '85124C', '85125', '85126', '85127', '85129B', '85129C', '85129D', '85130A', '85130B', '85130C', '85130D', '85131A', '85131B', '85131C', '85131D', '85132A', '85132B', '85132C', '85135A', '85135B', '85135C', '85136A', '85136B', '85136C', '85141', '85144', '85145', '85146', '85150', '85152', '85159A', '85159B', '85160B', '85161', '85163A', '85163B', '85167B', '85168B', '85169A', '85169B', '85169C', '85169D', '85170A', '85170B', '85170C', '85170D', '85172', '85173', '85174', '85175', '85176', '85177', '85178', '85179A', '85179C', '85180A', '85180B', '85183A', '85183B', '85184C', '85185B', '85185D', '85186A', '85186C', '85187', '85188A', '85188B', '85189', '85194L', '85194S', '85195', '85197', '85198', '85199L', '85199S', '85200', '85202', '85203', '85204', '85205B', '85206A', '85206B', '85208', '85211', '85212', '85213', '85214', '85215', '85216', '85224', '85225', '85227', '85230A', '85230B', '85230E', '85230F', '85230G', '85231B', '85231G', '85232A', '85232B', '85232D', '90000A', '90000B', '90000D', '90001A', '90001B', '90001C', '90001D', '90002D', '90003B', '90003C', '90003D', '90003E', '90010A', '90010B', '90010E', '90011A', '90011B', '90012A', '90012B', '90013A', '90013C', '90014A', '90014B', '90014C', '90016A', '90016B', '90018A', '90018B', '90018C', '90019A', '90019B', '90019C', '90021', '90022', '90023', '90024B', '90024C', '90024D', '90024F', '90025A', '90025F', '90026A', '90026B', '90026C', '90026D', '90027A', '90027D', '90028', '90029', '90030A', '90030B', '90030C', '90031', '90032', '90033', '90035A', '90035C', '90036A', '90036B', '90036C', '90036D', '90036E', '90036F', '90037B', '90038A', '90038B', '90038C', '90039A', '90039B', '90039C', '90039D', '90040A', '90040B', '90040C', '90041', '90042A', '90043', '90046', '90048', '90049', '90050', '90051', '90054', '90055', '90057', '90058A', '90058B', '90059A', '90059B', '90059C', '90059D', '90059E', '90059F', '90060B', '90060D', '90062', '90063A', '90063B', '90064A', '90064B', '90065A', '90065B', '90067A', '90069', '90070', '90071', '90072', '90073', '90074', '90076', '90078', '90079', '90081A', '90081C', '90082A', '90082B', '90082D', '90083', '90084', '90085', '90086', '90087', '90089', '90093', '90094', '90096', '90098', '90099', '90100', '90101', '90102', '90103', '90104', '90108', '90114', '90116', '90118', '90119', '90120B', '90120C', '90120D', '90122A', '90122B', '90122C', '90123A', '90123B', '90123C', '90123D', '90124A', '90124B', '90124C', '90125A', '90125B', '90125C', '90125D', '90125E', '90128B', '90129A', '90129B', '90129C', '90129D', '90129E', '90129F', '90130A', '90130B', '90131', '90133', '90135', '90136', '90138', '90141A', '90141B', '90141C', '90141D', '90141E', '90142D', '90143', '90144', '90145', '90146', '90147', '90148', '90149', '90151', '90152A', '90152B', '90152C', '90154', '90155', '90156', '90157', '90158', '90159', '90160A', '90160B', '90160C', '90160D', '90161A', '90161B', '90161C', '90161D', '90162A', '90162B', '90162C', '90162D', '90163A', '90163B', '90164A', '90164B', '90165B', '90166', '90167', '90168', '90169', '90170', '90173', '90174', '90175A', '90175C', '90175D', '90176A', '90176B', '90176C', '90176D', '90176E', '90177A', '90177B', '90177C', '90177D', '90177E', '90178A', '90178B', '90179A', '90179C', '90180A', '90180B', '90181A', '90182C', '90183A', '90183C', '90184A', '90184B', '90184C', '90185A', '90185B', '90185C', '90185D', '90186A', '90186B', '90187B', '90188', '90189A', '90190A', '90190B', '90190C', '90191', '90192', '90194', '90195A', '90195B', '90196A', '90196B', '90197B', '90198A', '90198B', '90199A', '90199B', '90199C', '90199D', '90200A', '90200B', '90200C', '90200D', '90200E', '90201A', '90201B', '90201C', '90201D', '90202A', '90202B', '90202C', '90202D', '90204', '90205A', '90205C', '90206A', '90206C', '90208', '90209A', '90209B', '90209C', '90210A', '90210B', '90210C', '90210D', '90211A', '90211B', '90212B', '90212C', '90214A', '90214B', '90214C', '90214D', '90214E', '90214F', '90214G', '90214H', '90214I', '90214J', '90214K', '90214L', '90214M', '90214N', '90214O', '90214P', '90214R', '90214S', '90214T', '90214U', '90214V', '90214W', '90214Y', '90214Z', 'BANK CHARGES', 'C2', 'CRUK', 'D', 'DOT', 'M', 'PADS', 'POST'])"
            ]
          },
          "metadata": {},
          "execution_count": 64
        }
      ]
    },
    {
      "cell_type": "code",
      "metadata": {
        "id": "BJyuZm-6UKeP",
        "colab": {
          "base_uri": "https://localhost:8080/"
        },
        "outputId": "1c4fdb0c-db86-475d-bee7-7645fd490914"
      },
      "source": [
        "# Aqui vamos verificar o produto mais semelhante\n",
        "# ao produto de código 23188.\n",
        "\n",
        "most_similar('23188')"
      ],
      "execution_count": 65,
      "outputs": [
        {
          "output_type": "stream",
          "name": "stdout",
          "text": [
            "Most similar to: ['VINTAGE  2 METRE FOLDING RULER']\n",
            "['CLASSIC BICYCLE CLIPS '] 0.7499492168426514\n",
            "['PLAYING CARDS VINTAGE DOILY '] 0.7487189173698425\n",
            "['CLASSIC CHROME BICYCLE BELL '] 0.7483139038085938\n",
            "['PLAYING CARDS I LOVE LONDON '] 0.7433315515518188\n",
            "['BICYCLE PUNCTURE REPAIR KIT '] 0.736271321773529\n",
            "['PLAYING CARDS JUBILEE UNION JACK'] 0.7307777404785156\n",
            "['IVORY RETRO KITCHEN WALL CLOCK'] 0.7194690704345703\n",
            "['MINI PLAYING CARDS GYMKHANA'] 0.7132011651992798\n",
            "['MILK MAIDS MUG '] 0.710232675075531\n",
            "['SET 8 CANDLES VINTAGE DOILY'] 0.7101457118988037\n"
          ]
        }
      ]
    },
    {
      "cell_type": "markdown",
      "metadata": {
        "id": "G8LcgPfnCw4m"
      },
      "source": [
        "## Passo 5.2: Sugestão de produtos\n",
        "\n",
        "Agora sim, podemos fazer nosso sistema de sugestões de compras. Na variável orders_val temos os conjuntos de itens em cada compra, de cada cliente. Por exemplo, abaixo, podemos listar as compras da ordem número 32, no código abaixo:"
      ]
    },
    {
      "cell_type": "code",
      "metadata": {
        "id": "41eY2zY1UjIT",
        "colab": {
          "base_uri": "https://localhost:8080/"
        },
        "outputId": "8380b771-5bdd-4555-fb45-ba02b3c7a314"
      },
      "source": [
        "# Lista os códigos dos produtos comprados\n",
        "# na ordem de compras número 32.\n",
        "\n",
        "orders_val[32]"
      ],
      "execution_count": 66,
      "outputs": [
        {
          "output_type": "execute_result",
          "data": {
            "text/plain": [
              "['21212',\n",
              " '21975',\n",
              " '21976',\n",
              " '22417',\n",
              " '21094',\n",
              " '21080',\n",
              " '21086',\n",
              " '21915',\n",
              " '21914',\n",
              " '21703',\n",
              " '21936',\n",
              " '22416',\n",
              " '21210',\n",
              " '84988',\n",
              " '22534',\n",
              " '22531',\n",
              " '20725',\n",
              " '22537',\n",
              " '22547',\n",
              " 'POST',\n",
              " '21212',\n",
              " '21213',\n",
              " '22417',\n",
              " '22951',\n",
              " '21975',\n",
              " '21976',\n",
              " '84991',\n",
              " '20726',\n",
              " '22662',\n",
              " '20727',\n",
              " '21915',\n",
              " '21914',\n",
              " '22382',\n",
              " '22434',\n",
              " '20725',\n",
              " '21936',\n",
              " '23209',\n",
              " '23203',\n",
              " '23298',\n",
              " '22620',\n",
              " '22440',\n",
              " 'POST',\n",
              " '22492',\n",
              " '23084',\n",
              " '23221',\n",
              " '23220',\n",
              " 'POST',\n",
              " '23297',\n",
              " '23293',\n",
              " '23295',\n",
              " '23353',\n",
              " '22544',\n",
              " '20725',\n",
              " '23281',\n",
              " '23282',\n",
              " '22077',\n",
              " '85049E',\n",
              " '21172',\n",
              " 'POST']"
            ]
          },
          "metadata": {},
          "execution_count": 66
        }
      ]
    },
    {
      "cell_type": "markdown",
      "metadata": {
        "id": "jaQ58JsNDY5i"
      },
      "source": [
        "Para sugerir compras, basta recuperarmos os vetores de embedding de cada um desses itens de uma ordem de compra, calcular um vetor médio (soma todos vetores e divide pela quantidade) e buscar os produtos mais semelhantes, como fizemos antes!"
      ]
    },
    {
      "cell_type": "code",
      "metadata": {
        "id": "9Me8QvWIVXi-"
      },
      "source": [
        "def get_suggestions(orders):\n",
        "  ''' Nesta função, passa-se como argumento uma lista\n",
        "      de códigos de produtos, que representa as compras\n",
        "      de um cliente, em um determinado momento. Com base\n",
        "      nos embeddings desses itens, calculamos um vetor\n",
        "      médio, que captura a \"semântica\" das compras e\n",
        "      baseado nesse vetor, buscamos os produtos mais\n",
        "      similares para sugerir. Apenas sugerimos os\n",
        "      produtos que já não estiverem na lista.\n",
        "  '''\n",
        "  # Esse será o array que armazenará o embedding médio\n",
        "  v = np.zeros((50))\n",
        "\n",
        "  # Essa variável vai receber a quantidade de produtos,\n",
        "  # para calcular a média mais tarde.\n",
        "  count = 0\n",
        "\n",
        "  # Aqui mostramos as descrições dos produtos já na lista\n",
        "  # para facilitar a conferência.\n",
        "  print('Orders so far:')\n",
        "  for product in orders:\n",
        "    print(products_dict[product])\n",
        "    # Para cada produto no embedding (aqui testamos,\n",
        "    # para evitar incluir um produto que não esteja\n",
        "    # no embedding treinado, pois isso geraria um erro)\n",
        "    if product in model.wv:\n",
        "      # somamos o vetor de embedding daquele produto\n",
        "      # no array v\n",
        "      v += model.wv[product]\n",
        "      # e contamos +1 em count\n",
        "      count += 1\n",
        "  # Dividmos o resultado por count para calcular\n",
        "  # o vetor médio, no espaço de embeddings\n",
        "  v /= count\n",
        "  # E por fim buscamos os 10 produtos mais semelhantes\n",
        "  # como fizemos originalmente.\n",
        "  s = model.similar_by_vector(v)\n",
        "  print('Suggestions:')\n",
        "  for product, prob in s:\n",
        "    # Mostramos apenas os produtos que já não estiverem\n",
        "    # na lista original.\n",
        "    if product not in orders:\n",
        "      # Mostramos as descrições para facilitar a leitura\n",
        "      print(products_dict[product], prob)"
      ],
      "execution_count": 67,
      "outputs": []
    },
    {
      "cell_type": "markdown",
      "metadata": {
        "id": "-i31ZVGuFCH7"
      },
      "source": [
        "Abaixo testamos o código de sugestões definido acima."
      ]
    },
    {
      "cell_type": "code",
      "metadata": {
        "id": "MEku0QXUXhxp",
        "colab": {
          "base_uri": "https://localhost:8080/"
        },
        "outputId": "6bcd981d-7382-44cf-ea35-b5a3083b4a81"
      },
      "source": [
        "get_suggestions(orders_val[32])"
      ],
      "execution_count": 68,
      "outputs": [
        {
          "output_type": "stream",
          "name": "stdout",
          "text": [
            "Orders so far:\n",
            "['PACK OF 72 RETROSPOT CAKE CASES']\n",
            "['PACK OF 60 DINOSAUR CAKE CASES']\n",
            "['PACK OF 60 MUSHROOM CAKE CASES']\n",
            "['PACK OF 60 SPACEBOY CAKE CASES']\n",
            "['SET/6 RED SPOTTY PAPER PLATES']\n",
            "['SET/20 RED RETROSPOT PAPER NAPKINS ']\n",
            "['SET/6 RED SPOTTY PAPER CUPS']\n",
            "['RED  HARMONICA IN BOX ']\n",
            "['BLUE HARMONICA IN BOX ']\n",
            "['BAG 125g SWIRLY MARBLES']\n",
            "['RED RETROSPOT PICNIC BAG']\n",
            "['SET OF 36 SPACEBOY PAPER DOILIES']\n",
            "['SET OF 72 RETROSPOT PAPER  DOILIES']\n",
            "['SET OF 72 PINK HEART PAPER DOILIES']\n",
            "['MAGIC DRAWING SLATE SPACEBOY ']\n",
            "['MAGIC DRAWING SLATE CIRCUS PARADE  ']\n",
            "['LUNCH BAG RED RETROSPOT']\n",
            "['MAGIC DRAWING SLATE DINOSAUR']\n",
            "['MINI JIGSAW DINOSAUR ']\n",
            "['POSTAGE']\n",
            "['PACK OF 72 RETROSPOT CAKE CASES']\n",
            "['PACK OF 72 SKULL CAKE CASES']\n",
            "['PACK OF 60 SPACEBOY CAKE CASES']\n",
            "['60 CAKE CASES DOLLY GIRL DESIGN']\n",
            "['PACK OF 60 DINOSAUR CAKE CASES']\n",
            "['PACK OF 60 MUSHROOM CAKE CASES']\n",
            "['60 TEATIME FAIRY CAKE CASES']\n",
            "['LUNCH BAG WOODLAND']\n",
            "['LUNCH BAG DOLLY GIRL DESIGN']\n",
            "['LUNCH BAG  BLACK SKULL.']\n",
            "['RED  HARMONICA IN BOX ']\n",
            "['BLUE HARMONICA IN BOX ']\n",
            "['LUNCH BAG SPACEBOY DESIGN ']\n",
            "['BALLOON PUMP WITH 10 BALLOONS']\n",
            "['LUNCH BAG RED RETROSPOT']\n",
            "['RED RETROSPOT PICNIC BAG']\n",
            "['LUNCH BAG VINTAGE DOILY ']\n",
            "['JUMBO BAG VINTAGE DOILY ']\n",
            "['SPOTTY BUNTING']\n",
            "['4 TRADITIONAL SPINNING TOPS']\n",
            "['BALLOON WATER BOMB PACK OF 35']\n",
            "['POSTAGE']\n",
            "['MINI PAINT SET VINTAGE ']\n",
            "['RABBIT NIGHT LIGHT']\n",
            "['REINDEER HEART DECORATION SILVER']\n",
            "['REINDEER HEART DECORATION GOLD']\n",
            "['POSTAGE']\n",
            "['SET 40 HEART SHAPE PETIT FOUR CASES']\n",
            "['SET OF 12 FAIRY CAKE BAKING CASES']\n",
            "['SET OF 12 MINI LOAF BAKING CASES']\n",
            "['6 GIFT TAGS VINTAGE CHRISTMAS ']\n",
            "['MINI JIGSAW SPACEBOY']\n",
            "['LUNCH BAG RED RETROSPOT']\n",
            "['FOLDING BUTTERFLY MIRROR RED  ']\n",
            "['FOLDING BUTTERFLY MIRROR IVORY ']\n",
            "['6 RIBBONS RUSTIC CHARM']\n",
            "['SCANDINAVIAN REDS RIBBONS']\n",
            "['PARTY METAL SIGN ']\n",
            "['POSTAGE']\n",
            "Suggestions:\n",
            "['SET OF 36 DOLLY GIRL PAPER DOILIES'] 0.6896800398826599\n",
            "['10 COLOUR SPACEBOY PEN'] 0.6792313456535339\n",
            "['PACK OF 20 SPACEBOY NAPKINS'] 0.640069305896759\n",
            "['RETRO PLASTIC ELEPHANT TRAY'] 0.6373505592346191\n"
          ]
        }
      ]
    },
    {
      "cell_type": "code",
      "metadata": {
        "id": "-DzmHZYJVu5N",
        "colab": {
          "base_uri": "https://localhost:8080/"
        },
        "outputId": "4f9db92e-4f82-40ad-97c8-9f351e5a3bbb"
      },
      "source": [
        "get_suggestions(orders_val[67])"
      ],
      "execution_count": 69,
      "outputs": [
        {
          "output_type": "stream",
          "name": "stdout",
          "text": [
            "Orders so far:\n",
            "['PINK  HONEYCOMB PAPER BALL ']\n",
            "['RED RETROSPOT TAPE']\n",
            "['CUTE CATS TAPE']\n",
            "['BOTTLE BAG RETROSPOT ']\n",
            "['POMPOM CURTAIN']\n",
            "['QUEENS GUARD COFFEE MUG']\n",
            "['CHILDRENS APRON APPLES DESIGN']\n",
            "['COFFEE MUG APPLES DESIGN']\n",
            "['TABLECLOTH RED APPLES DESIGN ']\n",
            "['SET OF 2 TEA TOWELS APPLE AND PEARS']\n",
            "['COFFEE MUG PEARS  DESIGN']\n",
            "['PACK OF 20 NAPKINS RED APPLES']\n",
            "['LUNCH BOX WITH CUTLERY RETROSPOT ']\n",
            "['PACK OF 60 MUSHROOM CAKE CASES']\n",
            "['CUPCAKE LACE PAPER SET 6']\n",
            "['LONDON BUS COFFEE MUG']\n",
            "['SOLDIERS EGG CUP ']\n",
            "['CIRCUS PARADE CHILDRENS EGG CUP ']\n",
            "['LUNCH BOX I LOVE LONDON']\n",
            "['GINGERBREAD MAN COOKIE CUTTER']\n",
            "['3 PIECE SPACEBOY COOKIE CUTTER SET']\n",
            "['SET OF 3 HEART COOKIE CUTTERS']\n",
            "['12 PENCILS SMALL TUBE RED RETROSPOT']\n",
            "['RED RETROSPOT MINI CASES']\n",
            "['PAPER BUNTING RETROSPOT']\n",
            "['RED RETROSPOT CHARLOTTE BAG']\n",
            "['CHARLOTTE BAG PINK POLKADOT']\n",
            "['JUMBO BAG RED RETROSPOT']\n",
            "['SET/20 RED RETROSPOT PAPER NAPKINS ']\n",
            "['RED RETROSPOT CUP']\n",
            "['LUNCH BAG RED RETROSPOT']\n",
            "['WRAP RED APPLES ']\n",
            "['PACK OF 6 BIRDY GIFT TAGS']\n",
            "['SET OF 6 SOLDIER SKITTLES']\n",
            "['RED  HARMONICA IN BOX ']\n",
            "['CIRCUS PARADE LUNCH BOX ']\n",
            "['PLASTERS IN TIN CIRCUS PARADE ']\n",
            "['PLASTERS IN TIN SPACEBOY']\n",
            "['RETROSPOT CHILDRENS APRON']\n",
            "['RED TOADSTOOL LED NIGHT LIGHT']\n",
            "['JUMBO BAG SPACEBOY DESIGN']\n",
            "['JUMBO BAG TOYS ']\n",
            "['POSTAGE']\n",
            "['LUNCH BAG APPLE DESIGN']\n",
            "['JUMBO BAG APPLES']\n",
            "['RED RETROSPOT CUP']\n",
            "['PINK  POLKADOT CUP']\n",
            "['PAPER BUNTING RETROSPOT']\n",
            "['JUMBO BAG RED RETROSPOT']\n",
            "['RED RETROSPOT CHARLOTTE BAG']\n",
            "['LUNCH BAG RED RETROSPOT']\n",
            "['RECYCLING BAG RETROSPOT ']\n",
            "['JUMBO BAG PINK POLKADOT']\n",
            "['JUMBO BAG WOODLAND ANIMALS']\n",
            "['STRAWBERRY LUNCH BOX WITH CUTLERY']\n",
            "['SET OF 2 TEA TOWELS APPLE AND PEARS']\n",
            "['COFFEE MUG PEARS  DESIGN']\n",
            "['COFFEE MUG APPLES DESIGN']\n",
            "['CHARLOTTE BAG APPLES DESIGN']\n",
            "['POSTAGE']\n",
            "['JUMBO BAG APPLES']\n",
            "['JUMBO BAG PEARS']\n",
            "['COFFEE MUG CAT + BIRD DESIGN']\n",
            "['RED VINTAGE SPOT BEAKER']\n",
            "['PAPER BUNTING RETROSPOT']\n",
            "['LUNCH BOX WITH CUTLERY RETROSPOT ']\n",
            "['RED RETROSPOT MINI CASES']\n",
            "['JUMBO BAG RED RETROSPOT']\n",
            "['JUMBO BAG VINTAGE DOILY ']\n",
            "['JUMBO BAG PINK POLKADOT']\n",
            "['36 PENCILS TUBE RED RETROSPOT']\n",
            "['36 PENCILS TUBE WOODLAND']\n",
            "['REVOLVER WOODEN RULER ']\n",
            "['ROUND SNACK BOXES SET OF 4 FRUITS ']\n",
            "['ROUND SNACK BOXES SET OF4 WOODLAND ']\n",
            "['CIRCUS PARADE LUNCH BOX ']\n",
            "['SET OF 4 KNICK KNACK TINS LONDON ']\n",
            "['SPACEBOY LUNCH BOX ']\n",
            "['RABBIT NIGHT LIGHT']\n",
            "['POSTAGE']\n",
            "['PACK OF 20 NAPKINS RED APPLES']\n",
            "['SET OF 2 TEA TOWELS APPLE AND PEARS']\n",
            "['COFFEE MUG APPLES DESIGN']\n",
            "['CHARLOTTE BAG APPLES DESIGN']\n",
            "['LUNCH BAG APPLE DESIGN']\n",
            "['RETROSPOT CHILDRENS APRON']\n",
            "['RED RETROSPOT CHARLOTTE BAG']\n",
            "['SET/10 PINK POLKADOT PARTY CANDLES']\n",
            "['CHARLOTTE BAG PINK POLKADOT']\n",
            "['JUMBO BAG PINK POLKADOT']\n",
            "['TOY TIDY PINK POLKADOT']\n",
            "['JUMBO BAG VINTAGE DOILY ']\n",
            "['JUMBO BAG WOODLAND ANIMALS']\n",
            "['WOODLAND CHARLOTTE BAG']\n",
            "['LUNCH BAG WOODLAND']\n",
            "['CHILDRENS APRON APPLES DESIGN']\n",
            "['TREASURE TIN GYMKHANA DESIGN']\n",
            "['RED  HARMONICA IN BOX ']\n",
            "['RETROSPOT TEA SET CERAMIC 11 PC ']\n",
            "['STRAWBERRY LUNCH BOX WITH CUTLERY']\n",
            "['LUNCH BOX I LOVE LONDON']\n",
            "['SET/10 RED POLKADOT PARTY CANDLES']\n",
            "['RED TOADSTOOL LED NIGHT LIGHT']\n",
            "['POSTAGE']\n",
            "['POSTAGE']\n",
            "['RABBIT NIGHT LIGHT']\n",
            "['JUMBO BAG APPLES']\n",
            "['WRAP RED APPLES ']\n",
            "['JUMBO BAG PEARS']\n",
            "['RED RETROSPOT CUP']\n",
            "['LUNCH BOX WITH CUTLERY RETROSPOT ']\n",
            "['SET/20 RED RETROSPOT PAPER NAPKINS ']\n",
            "['PAPER BUNTING RETROSPOT']\n",
            "['DOORMAT RED RETROSPOT']\n",
            "['JUMBO BAG RED RETROSPOT']\n",
            "['RECYCLING BAG RETROSPOT ']\n",
            "['JUMBO BAG VINTAGE DOILY ']\n",
            "['JUMBO BAG WOODLAND ANIMALS']\n",
            "['JUMBO BAG VINTAGE LEAF']\n",
            "['CHILDRENS CUTLERY RETROSPOT RED ']\n",
            "['CHILDRENS CUTLERY POLKADOT PINK']\n",
            "['JUMBO BAG SPACEBOY DESIGN']\n",
            "['RED TOADSTOOL LED NIGHT LIGHT']\n",
            "['SET/10 PINK POLKADOT PARTY CANDLES']\n",
            "['LUNCH BAG SPACEBOY DESIGN ']\n",
            "['SPACEBOY BIRTHDAY CARD']\n",
            "['CHILDRENS APRON SPACEBOY DESIGN']\n",
            "['PACK OF 20 SPACEBOY NAPKINS']\n",
            "['SPACEBOY LUNCH BOX ']\n",
            "['CHILDRENS CUTLERY SPACEBOY ']\n",
            "['SPACEBOY CHILDRENS BOWL']\n",
            "['LUNCH BAG WOODLAND']\n",
            "['LUNCH BAG  BLACK SKULL.']\n",
            "['ICE CREAM BUBBLES']\n",
            "['RED TOADSTOOL LED NIGHT LIGHT']\n",
            "['PINK  HEART SHAPE LOVE BUCKET ']\n",
            "['RED HEART SHAPE LOVE BUCKET ']\n",
            "['ROUND SNACK BOXES SET OF4 WOODLAND ']\n",
            "['SET OF 5 PANCAKE DAY MAGNETS']\n",
            "['POPCORN HOLDER']\n",
            "['APPLE BATH SPONGE']\n",
            "['RED  HARMONICA IN BOX ']\n",
            "['BLUE HARMONICA IN BOX ']\n",
            "['CHILDRENS APRON APPLES DESIGN']\n",
            "['SET/6 RED SPOTTY PAPER PLATES']\n",
            "['SET/6 RED SPOTTY PAPER CUPS']\n",
            "['SET/20 RED RETROSPOT PAPER NAPKINS ']\n",
            "['RED RETROSPOT PICNIC BAG']\n",
            "['PARTY PIZZA DISH RED RETROSPOT']\n",
            "['FOOD CONTAINER SET 3 LOVE HEART ']\n",
            "['FRIDGE MAGNETS US DINER ASSORTED']\n",
            "['TEA PARTY BIRTHDAY CARD']\n",
            "['CHRISTMAS TOILET ROLL']\n",
            "['LUNCH BAG APPLE DESIGN']\n",
            "['ROUND SNACK BOXES SET OF 4 FRUITS ']\n",
            "['SET/10 RED POLKADOT PARTY CANDLES']\n",
            "['200 RED + WHITE BENDY STRAWS']\n",
            "['TOAST ITS - BEST MUM']\n",
            "['SET/10 BLUE POLKADOT PARTY CANDLES']\n",
            "['CHILDRENS CUTLERY DOLLY GIRL ']\n",
            "['CHILDRENS CUTLERY POLKADOT PINK']\n",
            "['OFFICE MUG WARMER PINK']\n",
            "['CHILDRENS CUTLERY POLKADOT BLUE']\n",
            "['POSTAGE']\n",
            "['LUNCH BAG RED RETROSPOT']\n",
            "['JUMBO BAG VINTAGE CHRISTMAS ']\n",
            "['VINTAGE CHRISTMAS TABLECLOTH']\n",
            "['ROLL WRAP VINTAGE CHRISTMAS']\n",
            "['RIBBON REEL SNOWY VILLAGE']\n",
            "['SET OF 2 TEA TOWELS APPLE AND PEARS']\n",
            "['CHARLOTTE BAG APPLES DESIGN']\n",
            "['TABLECLOTH RED APPLES DESIGN ']\n",
            "['RED VINTAGE SPOT BEAKER']\n",
            "['RIBBON REEL POLKADOTS ']\n",
            "['JUMBO BAG VINTAGE DOILY ']\n",
            "['JUMBO BAG PINK POLKADOT']\n",
            "['JUMBO BAG RED RETROSPOT']\n",
            "['RED RETROSPOT CHARLOTTE BAG']\n",
            "['HAND WARMER RED RETROSPOT']\n",
            "['MINI PLAYING CARDS BUFFALO BILL ']\n",
            "['ROUND SNACK BOXES SET OF 4 FRUITS ']\n",
            "['SET OF 4 KNICK KNACK TINS LONDON ']\n",
            "['SET 2 TEA TOWELS I LOVE LONDON ']\n",
            "['RABBIT NIGHT LIGHT']\n",
            "['SET OF 6 SOLDIER SKITTLES']\n",
            "['POSTAGE']\n",
            "['PAPER BUNTING RETROSPOT']\n",
            "['MINI PLAYING CARDS SPACEBOY ']\n",
            "['PACK OF 6 SKULL PAPER CUPS']\n",
            "['PACK OF 20 SKULL PAPER NAPKINS']\n",
            "['PACK OF 6 SKULL PAPER PLATES']\n",
            "['FAIRY TALE COTTAGE NIGHT LIGHT']\n",
            "['WOODLAND PARTY BAG + STICKER SET']\n",
            "['BLUE HARMONICA IN BOX ']\n",
            "['VINTAGE SNAKES & LADDERS']\n",
            "['TRADTIONAL ALPHABET STAMP SET']\n",
            "['SET OF 12 FAIRY CAKE BAKING CASES']\n",
            "['SET OF 6 TEA TIME BAKING CASES']\n",
            "['RABBIT NIGHT LIGHT']\n",
            "['MINI PAINT SET VINTAGE ']\n",
            "['MAGIC DRAWING SLATE SPACEBOY ']\n",
            "['SET OF 9 BLACK SKULL BALLOONS']\n",
            "['SKULLS PARTY BAG + STICKER SET']\n",
            "['SKULLS  WATER TRANSFER TATTOOS ']\n",
            "['RETROSPOT PARTY BAG + STICKER SET']\n",
            "['POSTAGE']\n",
            "['RABBIT NIGHT LIGHT']\n",
            "['RED RETROSPOT CHARLOTTE BAG']\n",
            "['LUNCH BAG RED RETROSPOT']\n",
            "['SET/6 RED SPOTTY PAPER CUPS']\n",
            "['RETROSPOT PARTY BAG + STICKER SET']\n",
            "['JUMBO BAG WOODLAND ANIMALS']\n",
            "['LUNCH BAG WOODLAND']\n",
            "['WOODLAND CHARLOTTE BAG']\n",
            "['ROUND SNACK BOXES SET OF4 WOODLAND ']\n",
            "['WOODLAND PARTY BAG + STICKER SET']\n",
            "['ICE CREAM BUBBLES']\n",
            "['OFFICE MUG WARMER PINK']\n",
            "['POSTAGE']\n",
            "['RED TOADSTOOL LED NIGHT LIGHT']\n",
            "['CUTE CATS TAPE']\n",
            "['WOODLAND CHARLOTTE BAG']\n",
            "['SET OF 6 SOLDIER SKITTLES']\n",
            "['JUMBO BAG APPLES']\n",
            "[\"JUMBO BAG 50'S CHRISTMAS \"]\n",
            "['JUMBO BAG VINTAGE DOILY ']\n",
            "['JUMBO BAG VINTAGE LEAF']\n",
            "['RETROSPOT TEA SET CERAMIC 11 PC ']\n",
            "['CHARLOTTE BAG APPLES DESIGN']\n",
            "['RED RETROSPOT CHARLOTTE BAG']\n",
            "['CHARLOTTE BAG PINK POLKADOT']\n",
            "['RECYCLING BAG RETROSPOT ']\n",
            "['TOY TIDY PINK POLKADOT']\n",
            "[\"WRAP 50'S  CHRISTMAS\"]\n",
            "['WRAP RED APPLES ']\n",
            "['GINGERBREAD MAN COOKIE CUTTER']\n",
            "['CHILDRENS APRON APPLES DESIGN']\n",
            "['COFFEE MUG PEARS  DESIGN']\n",
            "['RED APPLES CHOPPING BOARD   ']\n",
            "['RED RETROSPOT CHILDRENS UMBRELLA']\n",
            "['RETROSPOT CHILDRENS APRON']\n",
            "['RED RETROSPOT TAPE']\n",
            "['PAPER BUNTING RETROSPOT']\n",
            "['PICNIC BOXES SET OF 3 RETROSPOT ']\n",
            "['POSTAGE']\n",
            "Suggestions:\n",
            "['WOODLAND STORAGE BOX LARGE '] 0.7631361484527588\n",
            "['RED RETROSPOT SHOPPING BAG'] 0.7501450181007385\n",
            "['WOODLAND DESIGN  COTTON TOTE BAG'] 0.7261265516281128\n",
            "['RETRO PLASTIC ELEPHANT TRAY'] 0.7031124234199524\n",
            "['WOODLAND STORAGE BOX SMALL'] 0.6777306795120239\n"
          ]
        }
      ]
    },
    {
      "cell_type": "code",
      "metadata": {
        "id": "D6rk6No3XkpS",
        "colab": {
          "base_uri": "https://localhost:8080/"
        },
        "outputId": "0f976458-7111-4e60-a18d-947e05dcb32c"
      },
      "source": [
        "get_suggestions(orders_val[88])"
      ],
      "execution_count": 70,
      "outputs": [
        {
          "output_type": "stream",
          "name": "stdout",
          "text": [
            "Orders so far:\n",
            "['PACK 3 BOXES CHRISTMAS PANETTONE']\n",
            "['60 CAKE CASES VINTAGE CHRISTMAS']\n",
            "['PAPER CHAIN KIT VINTAGE CHRISTMAS']\n",
            "[\"PAPER CHAIN KIT 50'S CHRISTMAS \"]\n",
            "['VINTAGE CHRISTMAS GIFT SACK']\n",
            "['WOODEN ROUNDERS GARDEN SET ']\n",
            "['WOODEN CROQUET GARDEN SET']\n",
            "['WOODEN SKITTLES GARDEN SET']\n",
            "['RECIPE BOX BLUE SKETCHBOOK DESIGN']\n",
            "['BREAD BIN DINER STYLE IVORY']\n",
            "['VINTAGE SNAP CARDS']\n",
            "['VINTAGE HEADS AND TAILS CARD GAME ']\n",
            "['HEADS AND TAILS SPORTING FUN']\n",
            "['TREASURE ISLAND BOOK BOX']\n",
            "['GYMKHANA TREASURE BOOK BOX']\n",
            "['WOODEN SCHOOL COLOURING SET']\n",
            "['WOODEN BOX OF DOMINOES']\n",
            "['TRADITIONAL WOODEN SKIPPING ROPE']\n",
            "['WORLD WAR 2 GLIDERS ASSTD DESIGNS']\n",
            "['JUMBO BAG ALPHABET']\n",
            "['STRAWBERRY LUNCH BOX WITH CUTLERY']\n",
            "['DINOSAUR LUNCH BOX WITH CUTLERY']\n",
            "['ICE CREAM PEN LIP GLOSS ']\n",
            "['ICE CREAM SUNDAE LIP GLOSS']\n",
            "['TRAVEL SEWING KIT']\n",
            "['LIPSTICK PEN FUSCHIA']\n",
            "Suggestions:\n",
            "['PICTURE DOMINOES'] 0.8187347650527954\n",
            "['BINGO SET'] 0.8088070750236511\n",
            "['BAG 250g SWIRLY MARBLES'] 0.8019183278083801\n",
            "['BOX OF VINTAGE JIGSAW BLOCKS '] 0.7914931178092957\n",
            "['MINI PAINT SET VINTAGE '] 0.7897679805755615\n",
            "['PAINT YOUR OWN CANVAS SET'] 0.7820659875869751\n"
          ]
        }
      ]
    }
  ]
}